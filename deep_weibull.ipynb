{
 "cells": [
  {
   "cell_type": "markdown",
   "id": "3fe34f84-ad8a-44cb-bdd9-85c3e897b52c",
   "metadata": {},
   "source": [
    "# Intro"
   ]
  },
  {
   "cell_type": "code",
   "execution_count": 1,
   "id": "f8bc9b26-bdb5-4447-bf86-12d43765e72c",
   "metadata": {
    "tags": []
   },
   "outputs": [],
   "source": [
    "# imports\n",
    "\n",
    "import pandas as pd\n",
    "import random\n",
    "import numpy as np\n",
    "import os\n",
    "import math\n",
    "from pycox.datasets import metabric\n",
    "from pycox.evaluation import EvalSurv\n",
    "from pycox.models import DeepHitSingle\n",
    "\n",
    "import matplotlib.pyplot as plt\n",
    "\n",
    "from sklearn_pandas import DataFrameMapper \n",
    "\n",
    "import scipy.optimize\n",
    "\n",
    "\n",
    "import torch\n",
    "import torchtuples as tt\n",
    "\n",
    "import tensorflow as tf\n",
    "from keras.models import Sequential\n",
    "from keras import initializers\n",
    "from keras.layers import Dense, LSTM, Activation, Masking, Dropout\n",
    "#GW from keras.layers.normalization import BatchNormalization\n",
    "#GW from keras.callbacks.callbacks import EarlyStopping\n",
    "from tensorflow.keras.layers import BatchNormalization\n",
    "from tensorflow.keras.callbacks import EarlyStopping\n",
    "#GW\n",
    "from keras.optimizers import RMSprop\n",
    "from keras import backend as k"
   ]
  },
  {
   "cell_type": "markdown",
   "id": "21882eca-538e-4bc5-8253-5c7d91f8e12e",
   "metadata": {},
   "source": [
    "# Data Exploration"
   ]
  },
  {
   "cell_type": "code",
   "execution_count": 2,
   "id": "ae59aaaf-bcca-4ad3-b8ac-cef938ec7597",
   "metadata": {
    "tags": []
   },
   "outputs": [
    {
     "name": "stdout",
     "output_type": "stream",
     "text": [
      "            x0        x1        x2        x3   x4   x5   x6   x7        x8  \\\n",
      "0    -0.703380  1.542005  0.024034  0.277774  1.0  1.0  0.0  1.0 -0.327232   \n",
      "1    -1.072979  3.275476 -0.413114 -0.609064  1.0  0.0  0.0  1.0  1.914901   \n",
      "2    -0.336718  0.528334  1.227642  0.003052  0.0  1.0  0.0  1.0 -0.974446   \n",
      "3     0.513564 -0.877053 -1.561109 -0.635679  0.0  0.0  0.0  0.0  0.448654   \n",
      "4    -0.873823 -0.879114 -0.154447  0.397396  1.0  0.0  0.0  1.0  0.521080   \n",
      "...        ...       ...       ...       ...  ...  ...  ...  ...       ...   \n",
      "1899 -0.305737 -0.848992  1.164331 -0.385112  1.0  1.0  0.0  1.0  1.213752   \n",
      "1900 -1.010003 -0.811416  1.039324 -0.526802  1.0  1.0  0.0  1.0  0.154325   \n",
      "1901 -0.358319 -0.945238  2.531080  0.781158  0.0  0.0  0.0  1.0 -0.255577   \n",
      "1902  0.703712 -0.846786  0.653666  0.600831  1.0  0.0  0.0  1.0 -0.169282   \n",
      "1903 -0.562153 -0.771385 -0.799073  2.119062  1.0  1.0  0.0  0.0 -0.035216   \n",
      "\n",
      "            time  status  \n",
      "0      99.333336       0  \n",
      "1      95.733330       1  \n",
      "2     140.233340       0  \n",
      "3     239.300000       0  \n",
      "4      56.933334       1  \n",
      "...          ...     ...  \n",
      "1899   87.233330       1  \n",
      "1900  157.533340       0  \n",
      "1901   37.866665       1  \n",
      "1902  198.433330       0  \n",
      "1903  140.766660       0  \n",
      "\n",
      "[1904 rows x 11 columns]\n"
     ]
    }
   ],
   "source": [
    "\n",
    "# df = metabric.read_df() # read in dataset\n",
    "\n",
    "df = pd.read_csv(\"datasets/metabric/full.csv\")\n",
    "print(df)\n",
    "\n"
   ]
  },
  {
   "cell_type": "markdown",
   "id": "8625191c-a4d0-42d2-86d0-8e40613ef89f",
   "metadata": {},
   "source": [
    "# Wrangle"
   ]
  },
  {
   "cell_type": "code",
   "execution_count": 3,
   "id": "b2eddfbd-22b3-44ba-b9b9-df654ac98171",
   "metadata": {
    "tags": []
   },
   "outputs": [],
   "source": [
    "def normalise(df, colnames):\n",
    "    df[colnames] = df[colnames].apply(lambda x: (x-x.mean())/ x.std(), axis=0)\n",
    "    return df\n"
   ]
  },
  {
   "cell_type": "markdown",
   "id": "fcefdd8c-94c3-486f-8afd-4f5f9e7d5ac7",
   "metadata": {},
   "source": [
    "# Data Splits"
   ]
  },
  {
   "cell_type": "code",
   "execution_count": 4,
   "id": "fa94d4bf-06fb-4174-a458-e8b6d636e4bd",
   "metadata": {
    "tags": []
   },
   "outputs": [],
   "source": [
    "\n",
    "\n",
    "def make_train_test(df, train_frac, dataset, n_splits=3):\n",
    "\n",
    "    os.makedirs( \"datasets/\" + dataset, exist_ok=True)\n",
    " \n",
    "    full_file_path = \"datasets/\" + dataset + \"/full.csv\"\n",
    "    df.to_csv(full_file_path, index=False)\n",
    "    \n",
    "    for i in range(1, n_splits+1):\n",
    "\n",
    "        # set seed equal to loop index\n",
    "        random.seed(123*i)\n",
    "\n",
    "        # set output file paths\n",
    "        train_file_path = \"datasets/\" + dataset + \"/train_\" + str(i) + \".csv\"\n",
    "        test_file_path = \"datasets/\" + dataset + \"/test_\" + str(i) + \".csv\"\n",
    "\n",
    "        # create splits (different each time - sample depends on seed)\n",
    "        train_df = df.groupby(\"status\").apply(lambda x: x.sample(frac=train_frac)) # censoring frac. equal in train and test sets\n",
    "        train_df = train_df.reset_index(level=\"status\", drop=True)\n",
    "        train_df = train_df.sort_index()\n",
    "        test_df = df.drop(train_df.index)\n",
    "\n",
    "        # save the resulting file\n",
    "        train_df.to_csv(train_file_path, index=False)\n",
    "        test_df.to_csv(test_file_path, index=False)\n",
    "\n",
    "    \n"
   ]
  },
  {
   "cell_type": "markdown",
   "id": "8dbfab65-eed6-41bb-a6fc-02884e291af0",
   "metadata": {},
   "source": [
    "# define the models\n",
    "\n"
   ]
  },
  {
   "cell_type": "markdown",
   "id": "75b43566-1e13-4e2f-89a0-f8de0cfe2528",
   "metadata": {},
   "source": [
    "# define regression weibull\n",
    "\n"
   ]
  },
  {
   "cell_type": "code",
   "execution_count": 5,
   "id": "e2ccda27-112c-4a52-b77c-fbf19fd9d11c",
   "metadata": {
    "tags": []
   },
   "outputs": [],
   "source": [
    "\n",
    "def weibull_surv(t, alpha, beta):\n",
    "\n",
    "    S = np.empty((len(t),len(alpha)))\n",
    "    \n",
    "    for i in range(len(alpha)):\n",
    "        S[:,i] = np.exp(-np.power(np.divide(t, alpha[i]), beta[i]))\n",
    "\n",
    "    return S\n",
    "\n",
    "def regression_gumbel_loglkhd(theta, sigma, df):\n",
    "    \n",
    "    x = df.drop([\"time\", \"status\"], axis=1) # Pandas dataframe of covariate columns\n",
    "    mu = theta[0] + x.dot(np.array(theta[1:])) # mu = theta_0 + < theta[1:p], x >\n",
    "     \n",
    "    l = np.sum(df[\"status\"] * (np.divide(np.subtract(np.log(df[\"time\"]),mu),sigma))-np.log(sigma)) # first sum of l\n",
    "    l -= np.sum(np.exp(np.divide(np.subtract(np.log(df[\"time\"]),mu),sigma))) # second sum of l\n",
    "    \n",
    "    return l\n",
    "\n",
    "def regression_weibull(dataset, split):\n",
    "\n",
    "    \"\"\"\n",
    "    Paths to input and output files\n",
    "    \"\"\"\n",
    "    train_path = \"datasets/\" + dataset + \"/train_\" + str(split) + \".csv\" # training set data\n",
    "    test_path = \"datasets/\" + dataset + \"/test_\" + str(split) + \".csv\" # test set data\n",
    "\n",
    "    \"\"\"\n",
    "    Read in the appropriate training and test sets (dataset name and split index)\n",
    "    \"\"\"\n",
    "\n",
    "    train_df = pd.read_csv(train_path)\n",
    "    test_df = pd.read_csv(test_path)\n",
    "    \n",
    "    # intialise parameters for the model\n",
    "    p = train_df.shape[1] - 2 # number of covariates (number of columns excluding time, status)\n",
    "    median_log_time = np.log(train_df[\"time\"]).median() # compute median time for estimate of alpha\n",
    "    init_theta = [median_log_time] + [0]*p # [*,0,...,0] # for mu=median log time\n",
    "    init_sigma = [1]\n",
    "    init_params = init_theta + init_sigma\n",
    "\n",
    "    # fit the model\n",
    "    fun = lambda x: -1 * regression_gumbel_loglkhd(x[:-1], x[-1], train_df) # wrapper for negative log-lkhd function\n",
    "    res = scipy.optimize.minimize(fun, x0=init_params) # minimise negative log-lkhd\n",
    "\n",
    "    # make predictions on the test set\n",
    "    parameters = res.x\n",
    "    theta = parameters[:-1]\n",
    "    sigma = parameters[-1]\n",
    "    test_result = test_df.copy()\n",
    "    x = test_result.drop([\"time\", \"status\"], axis=1)\n",
    "    test_result[\"pred_alpha\"] = np.exp(theta[0] + x.dot(np.array(theta[1:]))) # alpha = exp(mu)\n",
    "    test_result[\"pred_beta\"] = 1/sigma # beta = 1/sigma\n",
    "\n",
    "    # if any of the predicted alpha/beta are negative, set equal to small eps\n",
    "    eps = 1e-8\n",
    "    test_result[\"pred_alpha\"] = np.maximum(test_result[\"pred_alpha\"], eps*np.ones(len(test_result[\"pred_alpha\"])))\n",
    "    test_result[\"pred_beta\"] = np.maximum(test_result[\"pred_beta\"], eps*np.ones(len(test_result[\"pred_beta\"])))\n",
    "\n",
    "    \"\"\"\n",
    "    Create EvalSurv object\n",
    "    \"\"\"\n",
    "    t_max = train_df[\"time\"].max()\n",
    "    num_vals = max(math.ceil(t_max), 5000)\n",
    "    t_vals = np.linspace(0, t_max, num_vals)\n",
    "    surv = weibull_surv(t_vals, test_result[\"pred_alpha\"], test_result[\"pred_beta\"])\n",
    "    surv = pd.DataFrame(data=surv, index=t_vals)\n",
    "\n",
    "    test_time = test_df['time'].values\n",
    "    test_status = test_df['status'].values\n",
    "\n",
    "    ev = EvalSurv(surv, test_time, test_status, censor_surv='km')\n",
    "    \n",
    "    return ({\"parameters\" : parameters, \"test_result\" : test_result, \"ev\" : ev }) "
   ]
  },
  {
   "cell_type": "markdown",
   "id": "1a00cacd-62b9-4930-92d7-83313d00dc18",
   "metadata": {},
   "source": [
    "# define deep hit"
   ]
  },
  {
   "cell_type": "code",
   "execution_count": 10,
   "id": "d06b363d-fd01-4c24-9925-c263163d65cb",
   "metadata": {
    "tags": []
   },
   "outputs": [],
   "source": [
    "def deep_hit(dataset, split, plot=False, alpha=0.5, lr=1e-4, epochs=50, batch_size=100):\n",
    "\n",
    "    \"\"\"\n",
    "    Paths to input and output files\n",
    "    \"\"\"\n",
    "    train_path = \"datasets/\" + dataset + \"/train_\" + str(split) + \".csv\" # training set data\n",
    "    test_path = \"datasets/\" + dataset + \"/test_\" + str(split) + \".csv\" # test set data\n",
    " \n",
    "    training_loss_plot_path = \"plots/deep_hit/training_loss/\" + dataset + \"_\" + str(split) + \".pdf\" # create plot of loss for different lr's\n",
    "\n",
    "    \"\"\"\n",
    "    Read in the appropriate training and test sets (dataset name and split index)\n",
    "    \"\"\"\n",
    "\n",
    "    train_df = pd.read_csv(train_path)\n",
    "    test_df = pd.read_csv(test_path)\n",
    "\n",
    "    \"\"\"\n",
    "    Data preprocessing: set up for DeepHitSingle\n",
    "    \"\"\"\n",
    "\n",
    "    # split the training set into training and validation set\n",
    "    df = train_df.copy()\n",
    "    train_df = df.groupby(\"status\").apply(lambda x: x.sample(frac=0.8)) # censoring frac. equal in train and test sets\n",
    "    train_df = train_df.reset_index(level=\"status\", drop=True)\n",
    "    train_df = train_df.sort_index()\n",
    "    val_df = df.drop(train_df.index)\n",
    "\n",
    "    # convert x values to float32 (needed for PyTorch)\n",
    "    x_cols = list(train_df)\n",
    "    x_cols.remove('time')\n",
    "    x_cols.remove('status')\n",
    "    x_cols = [(col, None) for col in x_cols]\n",
    "    x_mapper = DataFrameMapper(x_cols)\n",
    "    train_x = x_mapper.fit_transform(train_df).astype('float32')\n",
    "    val_x = x_mapper.transform(val_df).astype('float32')\n",
    "    test_x = x_mapper.transform(test_df).astype('float32')\n",
    "\n",
    "    # discretise time for DeepHit, using time index set {0,1,...,T_max}\n",
    "    num_durations = math.ceil(train_df[\"time\"].max()) # largest survival time in training set set to be T_max \n",
    "    labtrans = DeepHitSingle.label_transform(num_durations, scheme='equidistant') # set up partition\n",
    "    get_target = lambda df: (df['time'].values, df['status'].values) \n",
    "    train_y = labtrans.fit_transform(*get_target(train_df))\n",
    "    val_y = labtrans.transform(*get_target(val_df))\n",
    "    test_time, test_status = get_target(test_df)\n",
    "\n",
    "    \"\"\"\n",
    "    Define the DeepHit network. Since K=1 (single event) the architecture is very simple.\n",
    "    Model architecture: layers and widths as stated in paper; use dropout probability 0.1 and batch normalisation \n",
    "    \"\"\"\n",
    "\n",
    "    p = train_x.shape[1] # number of covariates\n",
    "    in_features = p # number of input nodes = number of covariates\n",
    "    out_features = labtrans.out_features # equals num_durations \n",
    "    nodes_1 = 3*p\n",
    "    nodes_2 = 5*p\n",
    "    nodes_3 = 3*p\n",
    "    num_nodes = [nodes_1,nodes_2,nodes_3] # layer widths as stated in DeepHit paper\n",
    "    net = tt.practical.MLPVanilla(in_features, num_nodes, out_features, batch_norm=False, dropout=0.25)\n",
    "\n",
    "    \"\"\"\n",
    "    Set learning parameters and fit the model.\n",
    "    NB: alpha in DeepHitSingle() differs from DH paper: alpha_{pycox} = 1/(1+alpha_{DH}\n",
    "    The deep_hit(..., alpha, ...) refers to alpha as in the Deep Hit paper.\n",
    "    \"\"\"\n",
    "\n",
    "    alpha_pycox = 1/(1+alpha)\n",
    "    model = DeepHitSingle(net, tt.optim.Adam, alpha=alpha_pycox, sigma=0.2, duration_index=labtrans.cuts)\n",
    "\n",
    "    \"\"\"\n",
    "    Train the model (with early stopping) and plot the training and validation loss.\n",
    "    \"\"\"\n",
    "    model.optimizer.set_lr(lr)\n",
    "    callbacks = [tt.callbacks.EarlyStopping()]\n",
    "    log = model.fit(train_x, train_y, batch_size, epochs, callbacks, val_data=(val_x, val_y), verbose=False)\n",
    "\n",
    "    if plot ==True: \n",
    "      log.plot()\n",
    "      plt.xlabel(\"Epoch\")\n",
    "      plt.ylabel(\"Loss\")\n",
    "      plt.title(\"Training loss: DeepHit ($\\\\alpha =$\" + str(alpha) + \") on \" + tidy_datasets[dataset] + \" (Split \" + str(split) + \")\")\n",
    "      plt.legend(['Train', 'Validation'])\n",
    "      plt.savefig(training_loss_plot_path)\n",
    "      plt.clf()\n",
    "      plt.close('all')\n",
    "    \n",
    "    \"\"\"\n",
    "    Predict the survival curves for the test set \n",
    "    \"\"\"\n",
    "\n",
    "    surv = model.predict_surv_df(test_x)\n",
    "\n",
    "    \"\"\"\n",
    "    Create evaluation object\n",
    "    \"\"\"\n",
    "\n",
    "    ev = EvalSurv(surv, test_time, test_status, censor_surv='km')\n",
    "\n",
    "    return ({\"test_result\" : surv, \"ev\" : ev})\n"
   ]
  },
  {
   "cell_type": "markdown",
   "id": "253cea48-7447-4fa9-beba-8bb80f77741d",
   "metadata": {
    "tags": []
   },
   "source": [
    "# define deep weibull"
   ]
  },
  {
   "cell_type": "code",
   "execution_count": 11,
   "id": "ee6b7536-ecca-4338-954f-4ce9560a42ac",
   "metadata": {
    "tags": []
   },
   "outputs": [],
   "source": [
    "\n",
    "\"\"\"\n",
    "CUSTOM LOSS AND ACTIVATION FUNCTIONS\n",
    "\"\"\"\n",
    "\n",
    "def weibull_surv(t, alpha, beta):\n",
    "\n",
    "    S = np.empty((len(t),len(alpha)))\n",
    "    \n",
    "    for i in range(len(alpha)):\n",
    "        S[:,i] = np.exp(-np.power(np.divide(t, alpha[i]), beta[i]))\n",
    "\n",
    "    return S\n",
    "\n",
    "\n",
    "def deep_weibull_loss(y, weibull_param_pred, name=None):\n",
    "    epsilon = 1e-10\n",
    "    time = y[:, 0] # actual time to event\n",
    "    status = y[:, 1] # actual status (censored/dead)\n",
    "    a = weibull_param_pred[:, 0] # alpha\n",
    "    b = weibull_param_pred[:, 1] # beta\n",
    "    norm_time = (time + epsilon) / a # time / alpha (rescaled time)\n",
    "    return -1 * k.mean(status * (k.log(b) + b * k.log(norm_time)) - k.pow(norm_time, b))\n",
    "\n",
    "\n",
    "def weibull_activate(weibull_param):\n",
    "    a = k.exp(weibull_param[:, 0]) # exponential of alpha \n",
    "    #a = k.softplus(weibull_param[:, 0]) # softplus of alpha\n",
    "    b = k.softplus(weibull_param[:, 1]) # softplus of beta\n",
    "    a = k.reshape(a, (k.shape(a)[0], 1))\n",
    "    b = k.reshape(b, (k.shape(b)[0], 1))\n",
    "    return k.concatenate((a, b), axis=1)\n",
    "\n",
    "def deep_weibull(dataset, split, plot=False, lr=1e-4, epochs=75, steps_per_epoch=25):\n",
    "\n",
    "    \"\"\"\n",
    "    Paths to input and output files\n",
    "    \"\"\"\n",
    "    train_path = \"datasets/\" + dataset + \"/train_\" + str(split) + \".csv\" # training set data\n",
    "    test_path = \"datasets/\" + dataset + \"/test_\" + str(split) + \".csv\" # test set data\n",
    " \n",
    "    training_loss_plot_path = \"plots/deep_weibull/training_loss/\" + dataset + \"_\" + str(split) + \".pdf\" # create plot of loss for different lr's\n",
    "\n",
    "    \"\"\"\n",
    "    Read in the appropriate training and test sets (dataset name and split index)\n",
    "    \"\"\"\n",
    "\n",
    "    train_df = pd.read_csv(train_path)\n",
    "    test_df = pd.read_csv(test_path)\n",
    "\n",
    "    \"\"\"\n",
    "    Data preprocessing: set up for DeepWeibull\n",
    "    \"\"\"\n",
    "\n",
    "    # split the training set into training and validation set\n",
    "    df = train_df.copy()\n",
    "    train_df = df.groupby(\"status\").apply(lambda x: x.sample(frac=0.8)) # censoring frac. equal in train and test sets\n",
    "    train_df = train_df.reset_index(level=\"status\", drop=True)\n",
    "    train_df = train_df.sort_index()\n",
    "    val_df = df.drop(train_df.index)\n",
    "\n",
    "    # separate covariates and outcomes\n",
    "    train_x = train_df.copy()\n",
    "    test_x = test_df.copy()\n",
    "    val_x = val_df.copy()\n",
    "    train_y = pd.DataFrame([train_x.pop(colname) for colname in ['time', 'status']]).T\n",
    "    test_y = pd.DataFrame([test_x.pop(colname) for colname in ['time', 'status']]).T\n",
    "    val_y = pd.DataFrame([val_x.pop(colname) for colname in ['time', 'status']]).T\n",
    "\n",
    "    # convert to tensors and float32 type\n",
    "    train_x = tf.convert_to_tensor(train_x.values, tf.float32)\n",
    "    train_y = tf.convert_to_tensor(train_y.values, tf.float32)\n",
    "    test_x = tf.convert_to_tensor(test_x.values, tf.float32)\n",
    "    test_y = tf.convert_to_tensor(test_y.values, tf.float32)\n",
    "    val_x = tf.convert_to_tensor(val_x.values, tf.float32)\n",
    "    val_y = tf.convert_to_tensor(val_y.values, tf.float32)\n",
    "\n",
    "    \"\"\"\n",
    "    Define the DeepWeibull network. \n",
    "    Model architecture: layers and widths as stated in paper; use dropout probability 0.1 and batch normalisation \n",
    "    'glorot_normal' is Xavier initialisation\n",
    "    \"\"\"\n",
    "\n",
    "    p = train_x.shape[1] # number of covariates\n",
    "\n",
    "    model = Sequential()\n",
    "\n",
    "    model.add(Dense(p, input_dim=p, activation='tanh', kernel_initializer='glorot_normal', bias_initializer='glorot_normal'))\n",
    "    model.add(Dropout(0.25))\n",
    "\n",
    "    model.add(Dense(2*p, activation='tanh', kernel_initializer='glorot_normal', bias_initializer='glorot_normal'))\n",
    "    model.add(Dropout(0.25))\n",
    "\n",
    "    model.add(Dense(p, activation='tanh', kernel_initializer='glorot_normal', bias_initializer='glorot_normal'))\n",
    "    model.add(Dropout(0.25))\n",
    "\n",
    "    model.add(Dense(2)) # layer with 2 nodes (alpha and beta)\n",
    "    model.add(Activation(weibull_activate)) # apply custom activation function (exp and softplus)\n",
    "\n",
    "    \"\"\"\n",
    "    Compile the model:\n",
    "        - using the (negative) log-likelihood for the Weibull as the loss function\n",
    "        - using Root Mean Square Prop optimisation (common) and customisable learning rate\n",
    "    \"\"\"\n",
    "\n",
    "    model.compile(loss=deep_weibull_loss, optimizer=RMSprop(lr=lr))\n",
    "\n",
    "    \"\"\"\n",
    "    Train the model with early stopping and plot the training and validation loss.\n",
    "    \"\"\"\n",
    "    es = EarlyStopping(monitor='val_loss', mode='min', verbose=2, patience=15)\n",
    "    callbacks = [es] # use [EarlyStopping()] if desired\n",
    "    log = model.fit(train_x, train_y, \n",
    "        epochs=epochs, \n",
    "        steps_per_epoch=steps_per_epoch, \n",
    "        validation_data=(val_x, val_y), \n",
    "        callbacks=callbacks, \n",
    "        validation_steps=5, \n",
    "        verbose=0)\n",
    "\n",
    "    if plot==True:\n",
    "        plt.plot(log.history['loss'])\n",
    "        plt.plot(log.history['val_loss'])\n",
    "        plt.xlabel(\"Epoch\")\n",
    "        plt.ylabel(\"Loss\")\n",
    "        plt.title('Training loss: DeepWeibull on '+ tidy_datasets[dataset] + \" (Split \" + str(split) + \")\")\n",
    "        plt.legend(['Train', 'Validation'])\n",
    "        plt.savefig(training_loss_plot_path)\n",
    "        plt.clf()\n",
    "        plt.close('all')\n",
    "\n",
    "    \"\"\"\n",
    "    Use learnt model to make predictions on the test set\n",
    "    \"\"\"\n",
    "\n",
    "    test_predict = model.predict(test_x, steps=1) # predict Weibull parameters using covariates\n",
    "    test_predict = np.resize(test_predict, test_y.shape) # put into (,2) array\n",
    "    test_predict = pd.DataFrame(test_predict) # convert to dataframe\n",
    "    test_predict.columns = [\"pred_alpha\", \"pred_beta\"] # name columns\n",
    "    test_result = test_df.copy()\n",
    "    test_result.reset_index(inplace = True) # reset the index (before concat - probably better way of doing this)\n",
    "    test_result = pd.concat([test_result, test_predict], axis=1) # results = test data plus predictions\n",
    "    test_result.set_index(\"index\", drop=True, inplace=True) # recover the index (after concat - probably better way of doing this)\n",
    "\n",
    "    \"\"\"\n",
    "    Create EvalSurv object\n",
    "    \"\"\"\n",
    "    t_max = train_df[\"time\"].max()\n",
    "    num_vals = max(math.ceil(t_max), 5000)\n",
    "    t_vals = np.linspace(0, t_max, num_vals)\n",
    "    surv = weibull_surv(t_vals, test_result[\"pred_alpha\"], test_result[\"pred_beta\"])\n",
    "    surv = pd.DataFrame(data=surv, index=t_vals)\n",
    "\n",
    "    test_time = test_df['time'].values\n",
    "    test_status = test_df['status'].values\n",
    "\n",
    "    ev = EvalSurv(surv, test_time, test_status, censor_surv='km')\n",
    "\n",
    "    return ({\"test_result\" : test_result, \"ev\" : ev})\n"
   ]
  },
  {
   "cell_type": "markdown",
   "id": "9ed543e1-909d-43a5-a3d8-fd7e597c6e82",
   "metadata": {},
   "source": [
    "# Experiments"
   ]
  },
  {
   "cell_type": "code",
   "execution_count": 14,
   "id": "fea1ed44-2aa6-402a-9ae4-d61b118956ad",
   "metadata": {
    "tags": []
   },
   "outputs": [
    {
     "name": "stdout",
     "output_type": "stream",
     "text": [
      "about to train <function regression_weibull at 0x2a2861670>\n",
      "about to train <function regression_weibull at 0x2a2861670>\n"
     ]
    },
    {
     "name": "stderr",
     "output_type": "stream",
     "text": [
      "/Users/cuongwilliams/miniconda3/envs/jh/lib/python3.8/site-packages/pandas/core/arraylike.py:364: RuntimeWarning: divide by zero encountered in log\n",
      "  result = getattr(ufunc, method)(*inputs, **kwargs)\n",
      "/Users/cuongwilliams/miniconda3/envs/jh/lib/python3.8/site-packages/pandas/core/arraylike.py:364: RuntimeWarning: divide by zero encountered in log\n",
      "  result = getattr(ufunc, method)(*inputs, **kwargs)\n",
      "/tmp/ipykernel_18797/2643545636.py:15: RuntimeWarning: invalid value encountered in log\n",
      "  l = np.sum(df[\"status\"] * (np.divide(np.subtract(np.log(df[\"time\"]),mu),sigma))-np.log(sigma)) # first sum of l\n",
      "/Users/cuongwilliams/miniconda3/envs/jh/lib/python3.8/site-packages/scipy/optimize/_numdiff.py:576: RuntimeWarning: invalid value encountered in subtract\n",
      "  df = fun(x) - f0\n",
      "/Users/cuongwilliams/miniconda3/envs/jh/lib/python3.8/site-packages/pandas/core/arraylike.py:364: RuntimeWarning: divide by zero encountered in log\n",
      "  result = getattr(ufunc, method)(*inputs, **kwargs)\n",
      "/tmp/ipykernel_18797/2643545636.py:15: RuntimeWarning: invalid value encountered in log\n",
      "  l = np.sum(df[\"status\"] * (np.divide(np.subtract(np.log(df[\"time\"]),mu),sigma))-np.log(sigma)) # first sum of l\n",
      "/Users/cuongwilliams/miniconda3/envs/jh/lib/python3.8/site-packages/pandas/core/arraylike.py:364: RuntimeWarning: divide by zero encountered in log\n",
      "  result = getattr(ufunc, method)(*inputs, **kwargs)\n"
     ]
    },
    {
     "name": "stdout",
     "output_type": "stream",
     "text": [
      "about to train <function regression_weibull at 0x2a2861670>\n"
     ]
    },
    {
     "name": "stderr",
     "output_type": "stream",
     "text": [
      "/tmp/ipykernel_18797/2643545636.py:15: RuntimeWarning: invalid value encountered in log\n",
      "  l = np.sum(df[\"status\"] * (np.divide(np.subtract(np.log(df[\"time\"]),mu),sigma))-np.log(sigma)) # first sum of l\n",
      "/tmp/ipykernel_18797/2643545636.py:15: RuntimeWarning: invalid value encountered in log\n",
      "  l = np.sum(df[\"status\"] * (np.divide(np.subtract(np.log(df[\"time\"]),mu),sigma))-np.log(sigma)) # first sum of l\n"
     ]
    },
    {
     "name": "stdout",
     "output_type": "stream",
     "text": [
      "about to train <function regression_weibull at 0x2a2861670>\n"
     ]
    },
    {
     "name": "stderr",
     "output_type": "stream",
     "text": [
      "/tmp/ipykernel_18797/2643545636.py:15: RuntimeWarning: invalid value encountered in log\n",
      "  l = np.sum(df[\"status\"] * (np.divide(np.subtract(np.log(df[\"time\"]),mu),sigma))-np.log(sigma)) # first sum of l\n"
     ]
    },
    {
     "name": "stdout",
     "output_type": "stream",
     "text": [
      "about to train <function regression_weibull at 0x2a2861670>\n",
      "about to train <function regression_weibull at 0x2a2861670>\n"
     ]
    },
    {
     "name": "stderr",
     "output_type": "stream",
     "text": [
      "/tmp/ipykernel_18797/2643545636.py:15: RuntimeWarning: invalid value encountered in log\n",
      "  l = np.sum(df[\"status\"] * (np.divide(np.subtract(np.log(df[\"time\"]),mu),sigma))-np.log(sigma)) # first sum of l\n",
      "/tmp/ipykernel_18797/2643545636.py:15: RuntimeWarning: invalid value encountered in log\n",
      "  l = np.sum(df[\"status\"] * (np.divide(np.subtract(np.log(df[\"time\"]),mu),sigma))-np.log(sigma)) # first sum of l\n"
     ]
    },
    {
     "name": "stdout",
     "output_type": "stream",
     "text": [
      "about to train <function regression_weibull at 0x2a2861670>\n"
     ]
    },
    {
     "name": "stderr",
     "output_type": "stream",
     "text": [
      "/tmp/ipykernel_18797/2643545636.py:15: RuntimeWarning: invalid value encountered in log\n",
      "  l = np.sum(df[\"status\"] * (np.divide(np.subtract(np.log(df[\"time\"]),mu),sigma))-np.log(sigma)) # first sum of l\n",
      "/tmp/ipykernel_18797/2643545636.py:15: RuntimeWarning: invalid value encountered in log\n",
      "  l = np.sum(df[\"status\"] * (np.divide(np.subtract(np.log(df[\"time\"]),mu),sigma))-np.log(sigma)) # first sum of l\n"
     ]
    },
    {
     "name": "stdout",
     "output_type": "stream",
     "text": [
      "about to train <function regression_weibull at 0x2a2861670>\n",
      "about to train <function regression_weibull at 0x2a2861670>\n",
      "about to train <function regression_weibull at 0x2a2861670>\n",
      "c_vals [0.6024280686862257, 0.6079022546555083, 0.5925848063965629, 0.5835514547068723, 0.605260919943447, 0.5904143073733717, 0.5976538124444499, 0.6080675127244214, 0.6098593238937678, 0.6209841856411219]\n",
      "about to train <function deep_hit at 0x2a2861430>\n",
      "about to train <function deep_hit at 0x2a2861430>\n",
      "about to train <function deep_hit at 0x2a2861430>\n",
      "about to train <function deep_hit at 0x2a2861430>\n",
      "about to train <function deep_hit at 0x2a2861430>\n",
      "about to train <function deep_hit at 0x2a2861430>\n",
      "about to train <function deep_hit at 0x2a2861430>\n",
      "about to train <function deep_hit at 0x2a2861430>\n",
      "about to train <function deep_hit at 0x2a2861430>\n",
      "about to train <function deep_hit at 0x2a2861430>\n",
      "c_vals [0.46101915220966627, 0.5081371956285776, 0.5767267787172249, 0.5149313392490382, 0.501730962074745, 0.5299536318751022, 0.44380915226741346, 0.41261121727059835, 0.4947506677439956, 0.571307222309814]\n",
      "about to train <function deep_weibull at 0x2a286c0d0>\n"
     ]
    },
    {
     "name": "stderr",
     "output_type": "stream",
     "text": [
      "/Users/cuongwilliams/miniconda3/envs/jh/lib/python3.8/site-packages/keras/optimizers/legacy/rmsprop.py:143: UserWarning: The `lr` argument is deprecated, use `learning_rate` instead.\n",
      "  super().__init__(name, **kwargs)\n"
     ]
    },
    {
     "name": "stdout",
     "output_type": "stream",
     "text": [
      "WARNING:tensorflow:Your input ran out of data; interrupting training. Make sure that your dataset or generator can generate at least `steps_per_epoch * epochs` batches (in this case, 1875 batches). You may need to use the repeat() function when building your dataset.\n",
      "1/1 [==============================] - 0s 27ms/step\n",
      "about to train <function deep_weibull at 0x2a286c0d0>\n",
      "WARNING:tensorflow:Your input ran out of data; interrupting training. Make sure that your dataset or generator can generate at least `steps_per_epoch * epochs` batches (in this case, 1875 batches). You may need to use the repeat() function when building your dataset.\n",
      "1/1 [==============================] - 0s 25ms/step\n",
      "about to train <function deep_weibull at 0x2a286c0d0>\n",
      "WARNING:tensorflow:Your input ran out of data; interrupting training. Make sure that your dataset or generator can generate at least `steps_per_epoch * epochs` batches (in this case, 1875 batches). You may need to use the repeat() function when building your dataset.\n",
      "1/1 [==============================] - 0s 26ms/step\n",
      "about to train <function deep_weibull at 0x2a286c0d0>\n",
      "WARNING:tensorflow:Your input ran out of data; interrupting training. Make sure that your dataset or generator can generate at least `steps_per_epoch * epochs` batches (in this case, 1875 batches). You may need to use the repeat() function when building your dataset.\n",
      "1/1 [==============================] - 0s 26ms/step\n",
      "about to train <function deep_weibull at 0x2a286c0d0>\n",
      "WARNING:tensorflow:Your input ran out of data; interrupting training. Make sure that your dataset or generator can generate at least `steps_per_epoch * epochs` batches (in this case, 1875 batches). You may need to use the repeat() function when building your dataset.\n",
      "1/1 [==============================] - 0s 26ms/step\n",
      "about to train <function deep_weibull at 0x2a286c0d0>\n",
      "WARNING:tensorflow:Your input ran out of data; interrupting training. Make sure that your dataset or generator can generate at least `steps_per_epoch * epochs` batches (in this case, 1875 batches). You may need to use the repeat() function when building your dataset.\n",
      "1/1 [==============================] - 0s 26ms/step\n",
      "about to train <function deep_weibull at 0x2a286c0d0>\n",
      "WARNING:tensorflow:Your input ran out of data; interrupting training. Make sure that your dataset or generator can generate at least `steps_per_epoch * epochs` batches (in this case, 1875 batches). You may need to use the repeat() function when building your dataset.\n",
      "1/1 [==============================] - 0s 25ms/step\n",
      "about to train <function deep_weibull at 0x2a286c0d0>\n",
      "WARNING:tensorflow:Your input ran out of data; interrupting training. Make sure that your dataset or generator can generate at least `steps_per_epoch * epochs` batches (in this case, 1875 batches). You may need to use the repeat() function when building your dataset.\n",
      "1/1 [==============================] - 0s 26ms/step\n",
      "about to train <function deep_weibull at 0x2a286c0d0>\n",
      "WARNING:tensorflow:Your input ran out of data; interrupting training. Make sure that your dataset or generator can generate at least `steps_per_epoch * epochs` batches (in this case, 1875 batches). You may need to use the repeat() function when building your dataset.\n",
      "1/1 [==============================] - 0s 26ms/step\n",
      "about to train <function deep_weibull at 0x2a286c0d0>\n",
      "WARNING:tensorflow:Your input ran out of data; interrupting training. Make sure that your dataset or generator can generate at least `steps_per_epoch * epochs` batches (in this case, 1875 batches). You may need to use the repeat() function when building your dataset.\n",
      "1/1 [==============================] - 0s 26ms/step\n",
      "c_vals [0.494146462234955, 0.5689390002015295, 0.5270089072773976, 0.4421708192912638, 0.5088585571890735, 0.5086994381898309, 0.5964808069289409, 0.5167898783894997, 0.5933924217672193, 0.5346411874852742]\n",
      "about to train <function regression_weibull at 0x2a2861670>\n"
     ]
    },
    {
     "name": "stderr",
     "output_type": "stream",
     "text": [
      "/tmp/ipykernel_18797/2643545636.py:15: RuntimeWarning: invalid value encountered in log\n",
      "  l = np.sum(df[\"status\"] * (np.divide(np.subtract(np.log(df[\"time\"]),mu),sigma))-np.log(sigma)) # first sum of l\n",
      "/tmp/ipykernel_18797/2643545636.py:15: RuntimeWarning: invalid value encountered in log\n",
      "  l = np.sum(df[\"status\"] * (np.divide(np.subtract(np.log(df[\"time\"]),mu),sigma))-np.log(sigma)) # first sum of l\n"
     ]
    },
    {
     "name": "stdout",
     "output_type": "stream",
     "text": [
      "about to train <function regression_weibull at 0x2a2861670>\n",
      "about to train <function regression_weibull at 0x2a2861670>\n",
      "about to train <function regression_weibull at 0x2a2861670>\n"
     ]
    },
    {
     "name": "stderr",
     "output_type": "stream",
     "text": [
      "/tmp/ipykernel_18797/2643545636.py:15: RuntimeWarning: invalid value encountered in log\n",
      "  l = np.sum(df[\"status\"] * (np.divide(np.subtract(np.log(df[\"time\"]),mu),sigma))-np.log(sigma)) # first sum of l\n"
     ]
    },
    {
     "name": "stdout",
     "output_type": "stream",
     "text": [
      "about to train <function regression_weibull at 0x2a2861670>\n"
     ]
    },
    {
     "name": "stderr",
     "output_type": "stream",
     "text": [
      "/tmp/ipykernel_18797/2643545636.py:15: RuntimeWarning: invalid value encountered in log\n",
      "  l = np.sum(df[\"status\"] * (np.divide(np.subtract(np.log(df[\"time\"]),mu),sigma))-np.log(sigma)) # first sum of l\n",
      "/tmp/ipykernel_18797/2643545636.py:15: RuntimeWarning: invalid value encountered in log\n",
      "  l = np.sum(df[\"status\"] * (np.divide(np.subtract(np.log(df[\"time\"]),mu),sigma))-np.log(sigma)) # first sum of l\n"
     ]
    },
    {
     "name": "stdout",
     "output_type": "stream",
     "text": [
      "about to train <function regression_weibull at 0x2a2861670>\n"
     ]
    },
    {
     "name": "stderr",
     "output_type": "stream",
     "text": [
      "/Users/cuongwilliams/miniconda3/envs/jh/lib/python3.8/site-packages/pandas/core/arraylike.py:364: RuntimeWarning: divide by zero encountered in log\n",
      "  result = getattr(ufunc, method)(*inputs, **kwargs)\n",
      "/Users/cuongwilliams/miniconda3/envs/jh/lib/python3.8/site-packages/pandas/core/arraylike.py:364: RuntimeWarning: divide by zero encountered in log\n",
      "  result = getattr(ufunc, method)(*inputs, **kwargs)\n",
      "/tmp/ipykernel_18797/2643545636.py:15: RuntimeWarning: invalid value encountered in log\n",
      "  l = np.sum(df[\"status\"] * (np.divide(np.subtract(np.log(df[\"time\"]),mu),sigma))-np.log(sigma)) # first sum of l\n",
      "/Users/cuongwilliams/miniconda3/envs/jh/lib/python3.8/site-packages/scipy/optimize/_numdiff.py:576: RuntimeWarning: invalid value encountered in subtract\n",
      "  df = fun(x) - f0\n",
      "/Users/cuongwilliams/miniconda3/envs/jh/lib/python3.8/site-packages/pandas/core/arraylike.py:364: RuntimeWarning: divide by zero encountered in log\n",
      "  result = getattr(ufunc, method)(*inputs, **kwargs)\n",
      "/tmp/ipykernel_18797/2643545636.py:15: RuntimeWarning: invalid value encountered in log\n",
      "  l = np.sum(df[\"status\"] * (np.divide(np.subtract(np.log(df[\"time\"]),mu),sigma))-np.log(sigma)) # first sum of l\n",
      "/Users/cuongwilliams/miniconda3/envs/jh/lib/python3.8/site-packages/pandas/core/arraylike.py:364: RuntimeWarning: divide by zero encountered in log\n",
      "  result = getattr(ufunc, method)(*inputs, **kwargs)\n"
     ]
    },
    {
     "name": "stdout",
     "output_type": "stream",
     "text": [
      "about to train <function regression_weibull at 0x2a2861670>\n",
      "about to train <function regression_weibull at 0x2a2861670>\n",
      "about to train <function regression_weibull at 0x2a2861670>\n"
     ]
    },
    {
     "name": "stderr",
     "output_type": "stream",
     "text": [
      "/Users/cuongwilliams/miniconda3/envs/jh/lib/python3.8/site-packages/pandas/core/arraylike.py:364: RuntimeWarning: divide by zero encountered in log\n",
      "  result = getattr(ufunc, method)(*inputs, **kwargs)\n",
      "/Users/cuongwilliams/miniconda3/envs/jh/lib/python3.8/site-packages/pandas/core/arraylike.py:364: RuntimeWarning: divide by zero encountered in log\n",
      "  result = getattr(ufunc, method)(*inputs, **kwargs)\n",
      "/tmp/ipykernel_18797/2643545636.py:15: RuntimeWarning: invalid value encountered in log\n",
      "  l = np.sum(df[\"status\"] * (np.divide(np.subtract(np.log(df[\"time\"]),mu),sigma))-np.log(sigma)) # first sum of l\n",
      "/Users/cuongwilliams/miniconda3/envs/jh/lib/python3.8/site-packages/scipy/optimize/_numdiff.py:576: RuntimeWarning: invalid value encountered in subtract\n",
      "  df = fun(x) - f0\n",
      "/Users/cuongwilliams/miniconda3/envs/jh/lib/python3.8/site-packages/pandas/core/arraylike.py:364: RuntimeWarning: divide by zero encountered in log\n",
      "  result = getattr(ufunc, method)(*inputs, **kwargs)\n",
      "/tmp/ipykernel_18797/2643545636.py:15: RuntimeWarning: invalid value encountered in log\n",
      "  l = np.sum(df[\"status\"] * (np.divide(np.subtract(np.log(df[\"time\"]),mu),sigma))-np.log(sigma)) # first sum of l\n",
      "/Users/cuongwilliams/miniconda3/envs/jh/lib/python3.8/site-packages/pandas/core/arraylike.py:364: RuntimeWarning: divide by zero encountered in log\n",
      "  result = getattr(ufunc, method)(*inputs, **kwargs)\n"
     ]
    },
    {
     "name": "stdout",
     "output_type": "stream",
     "text": [
      "about to train <function regression_weibull at 0x2a2861670>\n"
     ]
    },
    {
     "name": "stderr",
     "output_type": "stream",
     "text": [
      "/tmp/ipykernel_18797/2643545636.py:15: RuntimeWarning: invalid value encountered in log\n",
      "  l = np.sum(df[\"status\"] * (np.divide(np.subtract(np.log(df[\"time\"]),mu),sigma))-np.log(sigma)) # first sum of l\n"
     ]
    },
    {
     "name": "stdout",
     "output_type": "stream",
     "text": [
      "c_vals [0.589460690443503, 0.6101672638390155, 0.6213603004344518, 0.6135188372386787, 0.5977448088750141, 0.6369584695053601, 0.6067148713568492, 0.6253874596805916, 0.6353004593146216, 0.619285359645044]\n",
      "about to train <function deep_hit at 0x2a2861430>\n",
      "about to train <function deep_hit at 0x2a2861430>\n",
      "about to train <function deep_hit at 0x2a2861430>\n",
      "about to train <function deep_hit at 0x2a2861430>\n",
      "about to train <function deep_hit at 0x2a2861430>\n",
      "about to train <function deep_hit at 0x2a2861430>\n",
      "about to train <function deep_hit at 0x2a2861430>\n",
      "about to train <function deep_hit at 0x2a2861430>\n",
      "about to train <function deep_hit at 0x2a2861430>\n",
      "about to train <function deep_hit at 0x2a2861430>\n",
      "c_vals [0.49070609701247764, 0.5073774407151551, 0.47941876733511696, 0.6111316159287564, 0.5534071604780217, 0.557646157975339, 0.46865645498719766, 0.43511623790417747, 0.43876721447970196, 0.5174453656345309]\n",
      "about to train <function deep_weibull at 0x2a286c0d0>\n"
     ]
    },
    {
     "name": "stderr",
     "output_type": "stream",
     "text": [
      "/Users/cuongwilliams/miniconda3/envs/jh/lib/python3.8/site-packages/keras/optimizers/legacy/rmsprop.py:143: UserWarning: The `lr` argument is deprecated, use `learning_rate` instead.\n",
      "  super().__init__(name, **kwargs)\n"
     ]
    },
    {
     "name": "stdout",
     "output_type": "stream",
     "text": [
      "WARNING:tensorflow:Your input ran out of data; interrupting training. Make sure that your dataset or generator can generate at least `steps_per_epoch * epochs` batches (in this case, 1875 batches). You may need to use the repeat() function when building your dataset.\n",
      "1/1 [==============================] - 0s 26ms/step\n",
      "about to train <function deep_weibull at 0x2a286c0d0>\n",
      "WARNING:tensorflow:Your input ran out of data; interrupting training. Make sure that your dataset or generator can generate at least `steps_per_epoch * epochs` batches (in this case, 1875 batches). You may need to use the repeat() function when building your dataset.\n",
      "1/1 [==============================] - 0s 189ms/step\n",
      "about to train <function deep_weibull at 0x2a286c0d0>\n",
      "WARNING:tensorflow:Your input ran out of data; interrupting training. Make sure that your dataset or generator can generate at least `steps_per_epoch * epochs` batches (in this case, 1875 batches). You may need to use the repeat() function when building your dataset.\n",
      "1/1 [==============================] - 0s 25ms/step\n",
      "about to train <function deep_weibull at 0x2a286c0d0>\n",
      "WARNING:tensorflow:Your input ran out of data; interrupting training. Make sure that your dataset or generator can generate at least `steps_per_epoch * epochs` batches (in this case, 1875 batches). You may need to use the repeat() function when building your dataset.\n",
      "1/1 [==============================] - 0s 26ms/step\n",
      "about to train <function deep_weibull at 0x2a286c0d0>\n",
      "WARNING:tensorflow:Your input ran out of data; interrupting training. Make sure that your dataset or generator can generate at least `steps_per_epoch * epochs` batches (in this case, 1875 batches). You may need to use the repeat() function when building your dataset.\n",
      "1/1 [==============================] - 0s 26ms/step\n",
      "about to train <function deep_weibull at 0x2a286c0d0>\n",
      "WARNING:tensorflow:Your input ran out of data; interrupting training. Make sure that your dataset or generator can generate at least `steps_per_epoch * epochs` batches (in this case, 1875 batches). You may need to use the repeat() function when building your dataset.\n",
      "1/1 [==============================] - 0s 27ms/step\n",
      "about to train <function deep_weibull at 0x2a286c0d0>\n",
      "WARNING:tensorflow:Your input ran out of data; interrupting training. Make sure that your dataset or generator can generate at least `steps_per_epoch * epochs` batches (in this case, 1875 batches). You may need to use the repeat() function when building your dataset.\n",
      "1/1 [==============================] - 0s 26ms/step\n",
      "about to train <function deep_weibull at 0x2a286c0d0>\n",
      "WARNING:tensorflow:Your input ran out of data; interrupting training. Make sure that your dataset or generator can generate at least `steps_per_epoch * epochs` batches (in this case, 1875 batches). You may need to use the repeat() function when building your dataset.\n",
      "1/1 [==============================] - 0s 26ms/step\n",
      "about to train <function deep_weibull at 0x2a286c0d0>\n",
      "WARNING:tensorflow:Your input ran out of data; interrupting training. Make sure that your dataset or generator can generate at least `steps_per_epoch * epochs` batches (in this case, 1875 batches). You may need to use the repeat() function when building your dataset.\n",
      "1/1 [==============================] - 0s 26ms/step\n",
      "about to train <function deep_weibull at 0x2a286c0d0>\n",
      "WARNING:tensorflow:Your input ran out of data; interrupting training. Make sure that your dataset or generator can generate at least `steps_per_epoch * epochs` batches (in this case, 1875 batches). You may need to use the repeat() function when building your dataset.\n",
      "1/1 [==============================] - 0s 27ms/step\n",
      "c_vals [0.5110075400028675, 0.5576723323658912, 0.5229140178198866, 0.49061789458725447, 0.49914174713300213, 0.5462412573611835, 0.5698695757423082, 0.5495014160962945, 0.5699634944043735, 0.5326092096241597]\n",
      "about to train <function regression_weibull at 0x2a2861670>\n"
     ]
    },
    {
     "name": "stderr",
     "output_type": "stream",
     "text": [
      "/tmp/ipykernel_18797/2643545636.py:15: RuntimeWarning: invalid value encountered in log\n",
      "  l = np.sum(df[\"status\"] * (np.divide(np.subtract(np.log(df[\"time\"]),mu),sigma))-np.log(sigma)) # first sum of l\n"
     ]
    },
    {
     "name": "stdout",
     "output_type": "stream",
     "text": [
      "about to train <function regression_weibull at 0x2a2861670>\n"
     ]
    },
    {
     "name": "stderr",
     "output_type": "stream",
     "text": [
      "/Users/cuongwilliams/miniconda3/envs/jh/lib/python3.8/site-packages/pandas/core/arraylike.py:364: RuntimeWarning: divide by zero encountered in log\n",
      "  result = getattr(ufunc, method)(*inputs, **kwargs)\n",
      "/Users/cuongwilliams/miniconda3/envs/jh/lib/python3.8/site-packages/pandas/core/arraylike.py:364: RuntimeWarning: divide by zero encountered in log\n",
      "  result = getattr(ufunc, method)(*inputs, **kwargs)\n"
     ]
    },
    {
     "name": "stdout",
     "output_type": "stream",
     "text": [
      "about to train <function regression_weibull at 0x2a2861670>\n",
      "about to train <function regression_weibull at 0x2a2861670>\n"
     ]
    },
    {
     "name": "stderr",
     "output_type": "stream",
     "text": [
      "/tmp/ipykernel_18797/2643545636.py:15: RuntimeWarning: invalid value encountered in log\n",
      "  l = np.sum(df[\"status\"] * (np.divide(np.subtract(np.log(df[\"time\"]),mu),sigma))-np.log(sigma)) # first sum of l\n",
      "/tmp/ipykernel_18797/2643545636.py:15: RuntimeWarning: invalid value encountered in log\n",
      "  l = np.sum(df[\"status\"] * (np.divide(np.subtract(np.log(df[\"time\"]),mu),sigma))-np.log(sigma)) # first sum of l\n"
     ]
    },
    {
     "name": "stdout",
     "output_type": "stream",
     "text": [
      "about to train <function regression_weibull at 0x2a2861670>\n"
     ]
    },
    {
     "name": "stderr",
     "output_type": "stream",
     "text": [
      "/Users/cuongwilliams/miniconda3/envs/jh/lib/python3.8/site-packages/pandas/core/arraylike.py:364: RuntimeWarning: divide by zero encountered in log\n",
      "  result = getattr(ufunc, method)(*inputs, **kwargs)\n",
      "/Users/cuongwilliams/miniconda3/envs/jh/lib/python3.8/site-packages/pandas/core/arraylike.py:364: RuntimeWarning: divide by zero encountered in log\n",
      "  result = getattr(ufunc, method)(*inputs, **kwargs)\n",
      "/tmp/ipykernel_18797/2643545636.py:15: RuntimeWarning: invalid value encountered in log\n",
      "  l = np.sum(df[\"status\"] * (np.divide(np.subtract(np.log(df[\"time\"]),mu),sigma))-np.log(sigma)) # first sum of l\n",
      "/Users/cuongwilliams/miniconda3/envs/jh/lib/python3.8/site-packages/scipy/optimize/_numdiff.py:576: RuntimeWarning: invalid value encountered in subtract\n",
      "  df = fun(x) - f0\n",
      "/Users/cuongwilliams/miniconda3/envs/jh/lib/python3.8/site-packages/pandas/core/arraylike.py:364: RuntimeWarning: divide by zero encountered in log\n",
      "  result = getattr(ufunc, method)(*inputs, **kwargs)\n",
      "/tmp/ipykernel_18797/2643545636.py:15: RuntimeWarning: invalid value encountered in log\n",
      "  l = np.sum(df[\"status\"] * (np.divide(np.subtract(np.log(df[\"time\"]),mu),sigma))-np.log(sigma)) # first sum of l\n",
      "/Users/cuongwilliams/miniconda3/envs/jh/lib/python3.8/site-packages/pandas/core/arraylike.py:364: RuntimeWarning: divide by zero encountered in log\n",
      "  result = getattr(ufunc, method)(*inputs, **kwargs)\n"
     ]
    },
    {
     "name": "stdout",
     "output_type": "stream",
     "text": [
      "about to train <function regression_weibull at 0x2a2861670>\n"
     ]
    },
    {
     "name": "stderr",
     "output_type": "stream",
     "text": [
      "/tmp/ipykernel_18797/2643545636.py:15: RuntimeWarning: invalid value encountered in log\n",
      "  l = np.sum(df[\"status\"] * (np.divide(np.subtract(np.log(df[\"time\"]),mu),sigma))-np.log(sigma)) # first sum of l\n"
     ]
    },
    {
     "name": "stdout",
     "output_type": "stream",
     "text": [
      "about to train <function regression_weibull at 0x2a2861670>\n"
     ]
    },
    {
     "name": "stderr",
     "output_type": "stream",
     "text": [
      "/Users/cuongwilliams/miniconda3/envs/jh/lib/python3.8/site-packages/pandas/core/arraylike.py:364: RuntimeWarning: divide by zero encountered in log\n",
      "  result = getattr(ufunc, method)(*inputs, **kwargs)\n",
      "/Users/cuongwilliams/miniconda3/envs/jh/lib/python3.8/site-packages/pandas/core/arraylike.py:364: RuntimeWarning: divide by zero encountered in log\n",
      "  result = getattr(ufunc, method)(*inputs, **kwargs)\n"
     ]
    },
    {
     "name": "stdout",
     "output_type": "stream",
     "text": [
      "about to train <function regression_weibull at 0x2a2861670>\n"
     ]
    },
    {
     "name": "stderr",
     "output_type": "stream",
     "text": [
      "/tmp/ipykernel_18797/2643545636.py:15: RuntimeWarning: invalid value encountered in log\n",
      "  l = np.sum(df[\"status\"] * (np.divide(np.subtract(np.log(df[\"time\"]),mu),sigma))-np.log(sigma)) # first sum of l\n",
      "/tmp/ipykernel_18797/2643545636.py:15: RuntimeWarning: invalid value encountered in log\n",
      "  l = np.sum(df[\"status\"] * (np.divide(np.subtract(np.log(df[\"time\"]),mu),sigma))-np.log(sigma)) # first sum of l\n"
     ]
    },
    {
     "name": "stdout",
     "output_type": "stream",
     "text": [
      "about to train <function regression_weibull at 0x2a2861670>\n",
      "about to train <function regression_weibull at 0x2a2861670>\n"
     ]
    },
    {
     "name": "stderr",
     "output_type": "stream",
     "text": [
      "/tmp/ipykernel_18797/2643545636.py:15: RuntimeWarning: invalid value encountered in log\n",
      "  l = np.sum(df[\"status\"] * (np.divide(np.subtract(np.log(df[\"time\"]),mu),sigma))-np.log(sigma)) # first sum of l\n",
      "/tmp/ipykernel_18797/2643545636.py:15: RuntimeWarning: invalid value encountered in log\n",
      "  l = np.sum(df[\"status\"] * (np.divide(np.subtract(np.log(df[\"time\"]),mu),sigma))-np.log(sigma)) # first sum of l\n"
     ]
    },
    {
     "name": "stdout",
     "output_type": "stream",
     "text": [
      "c_vals [0.6293502960243417, 0.6148350505426027, 0.6368796194139603, 0.5825724286228625, 0.6367941048119362, 0.626701586894297, 0.6297438729386243, 0.6039035616656405, 0.632817913137542, 0.5865724966092163]\n",
      "about to train <function deep_hit at 0x2a2861430>\n",
      "about to train <function deep_hit at 0x2a2861430>\n",
      "about to train <function deep_hit at 0x2a2861430>\n",
      "about to train <function deep_hit at 0x2a2861430>\n",
      "about to train <function deep_hit at 0x2a2861430>\n",
      "about to train <function deep_hit at 0x2a2861430>\n",
      "about to train <function deep_hit at 0x2a2861430>\n",
      "about to train <function deep_hit at 0x2a2861430>\n",
      "about to train <function deep_hit at 0x2a2861430>\n",
      "about to train <function deep_hit at 0x2a2861430>\n",
      "c_vals [0.5645846638471764, 0.5626272416662241, 0.5412661191887648, 0.5328234088164019, 0.5139872617094499, 0.5247722738111564, 0.5014042270920673, 0.5295563752610094, 0.4904070596814507, 0.5366050260787103]\n",
      "about to train <function deep_weibull at 0x2a286c0d0>\n"
     ]
    },
    {
     "name": "stderr",
     "output_type": "stream",
     "text": [
      "/Users/cuongwilliams/miniconda3/envs/jh/lib/python3.8/site-packages/keras/optimizers/legacy/rmsprop.py:143: UserWarning: The `lr` argument is deprecated, use `learning_rate` instead.\n",
      "  super().__init__(name, **kwargs)\n"
     ]
    },
    {
     "name": "stdout",
     "output_type": "stream",
     "text": [
      "WARNING:tensorflow:Your input ran out of data; interrupting training. Make sure that your dataset or generator can generate at least `steps_per_epoch * epochs` batches (in this case, 1875 batches). You may need to use the repeat() function when building your dataset.\n",
      "1/1 [==============================] - 0s 27ms/step\n",
      "about to train <function deep_weibull at 0x2a286c0d0>\n",
      "WARNING:tensorflow:Your input ran out of data; interrupting training. Make sure that your dataset or generator can generate at least `steps_per_epoch * epochs` batches (in this case, 1875 batches). You may need to use the repeat() function when building your dataset.\n",
      "1/1 [==============================] - 0s 26ms/step\n",
      "about to train <function deep_weibull at 0x2a286c0d0>\n",
      "WARNING:tensorflow:Your input ran out of data; interrupting training. Make sure that your dataset or generator can generate at least `steps_per_epoch * epochs` batches (in this case, 1875 batches). You may need to use the repeat() function when building your dataset.\n",
      "1/1 [==============================] - 0s 26ms/step\n",
      "about to train <function deep_weibull at 0x2a286c0d0>\n",
      "WARNING:tensorflow:Your input ran out of data; interrupting training. Make sure that your dataset or generator can generate at least `steps_per_epoch * epochs` batches (in this case, 1875 batches). You may need to use the repeat() function when building your dataset.\n",
      "1/1 [==============================] - 0s 26ms/step\n",
      "about to train <function deep_weibull at 0x2a286c0d0>\n",
      "WARNING:tensorflow:Your input ran out of data; interrupting training. Make sure that your dataset or generator can generate at least `steps_per_epoch * epochs` batches (in this case, 1875 batches). You may need to use the repeat() function when building your dataset.\n",
      "1/1 [==============================] - 0s 26ms/step\n",
      "about to train <function deep_weibull at 0x2a286c0d0>\n",
      "WARNING:tensorflow:Your input ran out of data; interrupting training. Make sure that your dataset or generator can generate at least `steps_per_epoch * epochs` batches (in this case, 1875 batches). You may need to use the repeat() function when building your dataset.\n",
      "1/1 [==============================] - 0s 26ms/step\n",
      "about to train <function deep_weibull at 0x2a286c0d0>\n",
      "WARNING:tensorflow:Your input ran out of data; interrupting training. Make sure that your dataset or generator can generate at least `steps_per_epoch * epochs` batches (in this case, 1875 batches). You may need to use the repeat() function when building your dataset.\n",
      "1/1 [==============================] - 0s 27ms/step\n",
      "about to train <function deep_weibull at 0x2a286c0d0>\n",
      "WARNING:tensorflow:Your input ran out of data; interrupting training. Make sure that your dataset or generator can generate at least `steps_per_epoch * epochs` batches (in this case, 1875 batches). You may need to use the repeat() function when building your dataset.\n",
      "1/1 [==============================] - 0s 26ms/step\n",
      "about to train <function deep_weibull at 0x2a286c0d0>\n",
      "WARNING:tensorflow:Your input ran out of data; interrupting training. Make sure that your dataset or generator can generate at least `steps_per_epoch * epochs` batches (in this case, 1875 batches). You may need to use the repeat() function when building your dataset.\n",
      "1/1 [==============================] - 0s 26ms/step\n",
      "about to train <function deep_weibull at 0x2a286c0d0>\n",
      "WARNING:tensorflow:Your input ran out of data; interrupting training. Make sure that your dataset or generator can generate at least `steps_per_epoch * epochs` batches (in this case, 1875 batches). You may need to use the repeat() function when building your dataset.\n",
      "1/1 [==============================] - 0s 26ms/step\n",
      "c_vals [0.5170182174785523, 0.5903393701205587, 0.5161482373328877, 0.5498112281018542, 0.5011075573526893, 0.5298278173235592, 0.5892990525179832, 0.5331676727525559, 0.5565976318650633, 0.5277834750294971]\n",
      "about to train <function regression_weibull at 0x2a2861670>\n",
      "about to train <function regression_weibull at 0x2a2861670>\n"
     ]
    },
    {
     "name": "stderr",
     "output_type": "stream",
     "text": [
      "/tmp/ipykernel_18797/2643545636.py:15: RuntimeWarning: invalid value encountered in log\n",
      "  l = np.sum(df[\"status\"] * (np.divide(np.subtract(np.log(df[\"time\"]),mu),sigma))-np.log(sigma)) # first sum of l\n",
      "/tmp/ipykernel_18797/2643545636.py:15: RuntimeWarning: invalid value encountered in log\n",
      "  l = np.sum(df[\"status\"] * (np.divide(np.subtract(np.log(df[\"time\"]),mu),sigma))-np.log(sigma)) # first sum of l\n"
     ]
    },
    {
     "name": "stdout",
     "output_type": "stream",
     "text": [
      "about to train <function regression_weibull at 0x2a2861670>\n"
     ]
    },
    {
     "name": "stderr",
     "output_type": "stream",
     "text": [
      "/tmp/ipykernel_18797/2643545636.py:15: RuntimeWarning: invalid value encountered in log\n",
      "  l = np.sum(df[\"status\"] * (np.divide(np.subtract(np.log(df[\"time\"]),mu),sigma))-np.log(sigma)) # first sum of l\n"
     ]
    },
    {
     "name": "stdout",
     "output_type": "stream",
     "text": [
      "about to train <function regression_weibull at 0x2a2861670>\n",
      "about to train <function regression_weibull at 0x2a2861670>\n"
     ]
    },
    {
     "name": "stderr",
     "output_type": "stream",
     "text": [
      "/Users/cuongwilliams/miniconda3/envs/jh/lib/python3.8/site-packages/pandas/core/arraylike.py:364: RuntimeWarning: overflow encountered in exp\n",
      "  result = getattr(ufunc, method)(*inputs, **kwargs)\n",
      "/Users/cuongwilliams/miniconda3/envs/jh/lib/python3.8/site-packages/scipy/optimize/_numdiff.py:576: RuntimeWarning: invalid value encountered in subtract\n",
      "  df = fun(x) - f0\n",
      "/Users/cuongwilliams/miniconda3/envs/jh/lib/python3.8/site-packages/pandas/core/arraylike.py:364: RuntimeWarning: overflow encountered in exp\n",
      "  result = getattr(ufunc, method)(*inputs, **kwargs)\n"
     ]
    },
    {
     "name": "stdout",
     "output_type": "stream",
     "text": [
      "about to train <function regression_weibull at 0x2a2861670>\n"
     ]
    },
    {
     "name": "stderr",
     "output_type": "stream",
     "text": [
      "/tmp/ipykernel_18797/2643545636.py:15: RuntimeWarning: invalid value encountered in log\n",
      "  l = np.sum(df[\"status\"] * (np.divide(np.subtract(np.log(df[\"time\"]),mu),sigma))-np.log(sigma)) # first sum of l\n"
     ]
    },
    {
     "name": "stdout",
     "output_type": "stream",
     "text": [
      "about to train <function regression_weibull at 0x2a2861670>\n"
     ]
    },
    {
     "name": "stderr",
     "output_type": "stream",
     "text": [
      "/Users/cuongwilliams/miniconda3/envs/jh/lib/python3.8/site-packages/pandas/core/arraylike.py:364: RuntimeWarning: divide by zero encountered in log\n",
      "  result = getattr(ufunc, method)(*inputs, **kwargs)\n",
      "/Users/cuongwilliams/miniconda3/envs/jh/lib/python3.8/site-packages/pandas/core/arraylike.py:364: RuntimeWarning: divide by zero encountered in log\n",
      "  result = getattr(ufunc, method)(*inputs, **kwargs)\n",
      "/tmp/ipykernel_18797/2643545636.py:15: RuntimeWarning: invalid value encountered in log\n",
      "  l = np.sum(df[\"status\"] * (np.divide(np.subtract(np.log(df[\"time\"]),mu),sigma))-np.log(sigma)) # first sum of l\n",
      "/Users/cuongwilliams/miniconda3/envs/jh/lib/python3.8/site-packages/scipy/optimize/_numdiff.py:576: RuntimeWarning: invalid value encountered in subtract\n",
      "  df = fun(x) - f0\n",
      "/Users/cuongwilliams/miniconda3/envs/jh/lib/python3.8/site-packages/pandas/core/arraylike.py:364: RuntimeWarning: divide by zero encountered in log\n",
      "  result = getattr(ufunc, method)(*inputs, **kwargs)\n",
      "/tmp/ipykernel_18797/2643545636.py:15: RuntimeWarning: invalid value encountered in log\n",
      "  l = np.sum(df[\"status\"] * (np.divide(np.subtract(np.log(df[\"time\"]),mu),sigma))-np.log(sigma)) # first sum of l\n",
      "/Users/cuongwilliams/miniconda3/envs/jh/lib/python3.8/site-packages/pandas/core/arraylike.py:364: RuntimeWarning: divide by zero encountered in log\n",
      "  result = getattr(ufunc, method)(*inputs, **kwargs)\n"
     ]
    },
    {
     "name": "stdout",
     "output_type": "stream",
     "text": [
      "about to train <function regression_weibull at 0x2a2861670>\n"
     ]
    },
    {
     "name": "stderr",
     "output_type": "stream",
     "text": [
      "/Users/cuongwilliams/miniconda3/envs/jh/lib/python3.8/site-packages/pandas/core/arraylike.py:364: RuntimeWarning: divide by zero encountered in log\n",
      "  result = getattr(ufunc, method)(*inputs, **kwargs)\n"
     ]
    },
    {
     "name": "stdout",
     "output_type": "stream",
     "text": [
      "about to train <function regression_weibull at 0x2a2861670>\n"
     ]
    },
    {
     "name": "stderr",
     "output_type": "stream",
     "text": [
      "/tmp/ipykernel_18797/2643545636.py:15: RuntimeWarning: invalid value encountered in log\n",
      "  l = np.sum(df[\"status\"] * (np.divide(np.subtract(np.log(df[\"time\"]),mu),sigma))-np.log(sigma)) # first sum of l\n",
      "/Users/cuongwilliams/miniconda3/envs/jh/lib/python3.8/site-packages/pandas/core/arraylike.py:364: RuntimeWarning: overflow encountered in exp\n",
      "  result = getattr(ufunc, method)(*inputs, **kwargs)\n",
      "/Users/cuongwilliams/miniconda3/envs/jh/lib/python3.8/site-packages/scipy/optimize/_numdiff.py:576: RuntimeWarning: invalid value encountered in subtract\n",
      "  df = fun(x) - f0\n",
      "/tmp/ipykernel_18797/2643545636.py:15: RuntimeWarning: invalid value encountered in log\n",
      "  l = np.sum(df[\"status\"] * (np.divide(np.subtract(np.log(df[\"time\"]),mu),sigma))-np.log(sigma)) # first sum of l\n",
      "/Users/cuongwilliams/miniconda3/envs/jh/lib/python3.8/site-packages/pandas/core/arraylike.py:364: RuntimeWarning: overflow encountered in exp\n",
      "  result = getattr(ufunc, method)(*inputs, **kwargs)\n"
     ]
    },
    {
     "name": "stdout",
     "output_type": "stream",
     "text": [
      "about to train <function regression_weibull at 0x2a2861670>\n"
     ]
    },
    {
     "name": "stderr",
     "output_type": "stream",
     "text": [
      "/Users/cuongwilliams/miniconda3/envs/jh/lib/python3.8/site-packages/pandas/core/arraylike.py:364: RuntimeWarning: divide by zero encountered in log\n",
      "  result = getattr(ufunc, method)(*inputs, **kwargs)\n",
      "/Users/cuongwilliams/miniconda3/envs/jh/lib/python3.8/site-packages/pandas/core/arraylike.py:364: RuntimeWarning: divide by zero encountered in log\n",
      "  result = getattr(ufunc, method)(*inputs, **kwargs)\n",
      "/tmp/ipykernel_18797/2643545636.py:15: RuntimeWarning: invalid value encountered in log\n",
      "  l = np.sum(df[\"status\"] * (np.divide(np.subtract(np.log(df[\"time\"]),mu),sigma))-np.log(sigma)) # first sum of l\n",
      "/Users/cuongwilliams/miniconda3/envs/jh/lib/python3.8/site-packages/scipy/optimize/_numdiff.py:576: RuntimeWarning: invalid value encountered in subtract\n",
      "  df = fun(x) - f0\n",
      "/Users/cuongwilliams/miniconda3/envs/jh/lib/python3.8/site-packages/pandas/core/arraylike.py:364: RuntimeWarning: divide by zero encountered in log\n",
      "  result = getattr(ufunc, method)(*inputs, **kwargs)\n",
      "/tmp/ipykernel_18797/2643545636.py:15: RuntimeWarning: invalid value encountered in log\n",
      "  l = np.sum(df[\"status\"] * (np.divide(np.subtract(np.log(df[\"time\"]),mu),sigma))-np.log(sigma)) # first sum of l\n",
      "/Users/cuongwilliams/miniconda3/envs/jh/lib/python3.8/site-packages/pandas/core/arraylike.py:364: RuntimeWarning: divide by zero encountered in log\n",
      "  result = getattr(ufunc, method)(*inputs, **kwargs)\n"
     ]
    },
    {
     "name": "stdout",
     "output_type": "stream",
     "text": [
      "c_vals [0.6274524037185925, 0.6304990066875122, 0.632092522592435, 0.6140171264180048, 0.6165510097101919, 0.6186742015763692, 0.6303858440650894, 0.6002571524404636, 0.6229363251727118, 0.6274656216920041]\n",
      "about to train <function deep_hit at 0x2a2861430>\n",
      "about to train <function deep_hit at 0x2a2861430>\n",
      "about to train <function deep_hit at 0x2a2861430>\n",
      "about to train <function deep_hit at 0x2a2861430>\n",
      "about to train <function deep_hit at 0x2a2861430>\n",
      "about to train <function deep_hit at 0x2a2861430>\n",
      "about to train <function deep_hit at 0x2a2861430>\n",
      "about to train <function deep_hit at 0x2a2861430>\n",
      "about to train <function deep_hit at 0x2a2861430>\n",
      "about to train <function deep_hit at 0x2a2861430>\n",
      "c_vals [0.44982052835251535, 0.5269757166665208, 0.6153991538788895, 0.5315811197889063, 0.5247347794613215, 0.5245729988214178, 0.5943845462713387, 0.5224840677292322, 0.5262951510822272, 0.47940656107585344]\n",
      "about to train <function deep_weibull at 0x2a286c0d0>\n"
     ]
    },
    {
     "name": "stderr",
     "output_type": "stream",
     "text": [
      "/Users/cuongwilliams/miniconda3/envs/jh/lib/python3.8/site-packages/keras/optimizers/legacy/rmsprop.py:143: UserWarning: The `lr` argument is deprecated, use `learning_rate` instead.\n",
      "  super().__init__(name, **kwargs)\n"
     ]
    },
    {
     "name": "stdout",
     "output_type": "stream",
     "text": [
      "WARNING:tensorflow:Your input ran out of data; interrupting training. Make sure that your dataset or generator can generate at least `steps_per_epoch * epochs` batches (in this case, 1875 batches). You may need to use the repeat() function when building your dataset.\n",
      "1/1 [==============================] - 0s 27ms/step\n",
      "about to train <function deep_weibull at 0x2a286c0d0>\n",
      "WARNING:tensorflow:Your input ran out of data; interrupting training. Make sure that your dataset or generator can generate at least `steps_per_epoch * epochs` batches (in this case, 1875 batches). You may need to use the repeat() function when building your dataset.\n",
      "1/1 [==============================] - 0s 26ms/step\n",
      "about to train <function deep_weibull at 0x2a286c0d0>\n",
      "WARNING:tensorflow:Your input ran out of data; interrupting training. Make sure that your dataset or generator can generate at least `steps_per_epoch * epochs` batches (in this case, 1875 batches). You may need to use the repeat() function when building your dataset.\n",
      "1/1 [==============================] - 0s 26ms/step\n",
      "about to train <function deep_weibull at 0x2a286c0d0>\n",
      "WARNING:tensorflow:Your input ran out of data; interrupting training. Make sure that your dataset or generator can generate at least `steps_per_epoch * epochs` batches (in this case, 1875 batches). You may need to use the repeat() function when building your dataset.\n",
      "1/1 [==============================] - 0s 26ms/step\n",
      "about to train <function deep_weibull at 0x2a286c0d0>\n",
      "WARNING:tensorflow:Your input ran out of data; interrupting training. Make sure that your dataset or generator can generate at least `steps_per_epoch * epochs` batches (in this case, 1875 batches). You may need to use the repeat() function when building your dataset.\n",
      "1/1 [==============================] - 0s 26ms/step\n",
      "about to train <function deep_weibull at 0x2a286c0d0>\n",
      "WARNING:tensorflow:Your input ran out of data; interrupting training. Make sure that your dataset or generator can generate at least `steps_per_epoch * epochs` batches (in this case, 1875 batches). You may need to use the repeat() function when building your dataset.\n",
      "1/1 [==============================] - 0s 26ms/step\n",
      "about to train <function deep_weibull at 0x2a286c0d0>\n",
      "WARNING:tensorflow:Your input ran out of data; interrupting training. Make sure that your dataset or generator can generate at least `steps_per_epoch * epochs` batches (in this case, 1875 batches). You may need to use the repeat() function when building your dataset.\n",
      "1/1 [==============================] - 0s 25ms/step\n",
      "about to train <function deep_weibull at 0x2a286c0d0>\n",
      "WARNING:tensorflow:Your input ran out of data; interrupting training. Make sure that your dataset or generator can generate at least `steps_per_epoch * epochs` batches (in this case, 1875 batches). You may need to use the repeat() function when building your dataset.\n",
      "1/1 [==============================] - 0s 26ms/step\n",
      "about to train <function deep_weibull at 0x2a286c0d0>\n",
      "WARNING:tensorflow:Your input ran out of data; interrupting training. Make sure that your dataset or generator can generate at least `steps_per_epoch * epochs` batches (in this case, 1875 batches). You may need to use the repeat() function when building your dataset.\n",
      "1/1 [==============================] - 0s 26ms/step\n",
      "about to train <function deep_weibull at 0x2a286c0d0>\n",
      "WARNING:tensorflow:Your input ran out of data; interrupting training. Make sure that your dataset or generator can generate at least `steps_per_epoch * epochs` batches (in this case, 1875 batches). You may need to use the repeat() function when building your dataset.\n",
      "1/1 [==============================] - 0s 26ms/step\n",
      "c_vals [0.536869283565203, 0.568473549382446, 0.5273912934638396, 0.5599218873726648, 0.5155475400014977, 0.5236123479334733, 0.5980533093740641, 0.5573027566244705, 0.5591678363946071, 0.5226186157233236]\n",
      "about to train <function regression_weibull at 0x2a2861670>\n",
      "about to train <function regression_weibull at 0x2a2861670>\n",
      "about to train <function regression_weibull at 0x2a2861670>\n"
     ]
    },
    {
     "name": "stderr",
     "output_type": "stream",
     "text": [
      "/tmp/ipykernel_18797/2643545636.py:15: RuntimeWarning: invalid value encountered in log\n",
      "  l = np.sum(df[\"status\"] * (np.divide(np.subtract(np.log(df[\"time\"]),mu),sigma))-np.log(sigma)) # first sum of l\n"
     ]
    },
    {
     "name": "stdout",
     "output_type": "stream",
     "text": [
      "about to train <function regression_weibull at 0x2a2861670>\n"
     ]
    },
    {
     "name": "stderr",
     "output_type": "stream",
     "text": [
      "/Users/cuongwilliams/miniconda3/envs/jh/lib/python3.8/site-packages/pandas/core/arraylike.py:364: RuntimeWarning: divide by zero encountered in log\n",
      "  result = getattr(ufunc, method)(*inputs, **kwargs)\n",
      "/Users/cuongwilliams/miniconda3/envs/jh/lib/python3.8/site-packages/pandas/core/arraylike.py:364: RuntimeWarning: divide by zero encountered in log\n",
      "  result = getattr(ufunc, method)(*inputs, **kwargs)\n",
      "/Users/cuongwilliams/miniconda3/envs/jh/lib/python3.8/site-packages/pandas/core/arraylike.py:364: RuntimeWarning: divide by zero encountered in log\n",
      "  result = getattr(ufunc, method)(*inputs, **kwargs)\n"
     ]
    },
    {
     "name": "stdout",
     "output_type": "stream",
     "text": [
      "about to train <function regression_weibull at 0x2a2861670>\n",
      "about to train <function regression_weibull at 0x2a2861670>\n"
     ]
    },
    {
     "name": "stderr",
     "output_type": "stream",
     "text": [
      "/Users/cuongwilliams/miniconda3/envs/jh/lib/python3.8/site-packages/pandas/core/arraylike.py:364: RuntimeWarning: divide by zero encountered in log\n",
      "  result = getattr(ufunc, method)(*inputs, **kwargs)\n",
      "/Users/cuongwilliams/miniconda3/envs/jh/lib/python3.8/site-packages/pandas/core/arraylike.py:364: RuntimeWarning: divide by zero encountered in log\n",
      "  result = getattr(ufunc, method)(*inputs, **kwargs)\n",
      "/tmp/ipykernel_18797/2643545636.py:15: RuntimeWarning: invalid value encountered in log\n",
      "  l = np.sum(df[\"status\"] * (np.divide(np.subtract(np.log(df[\"time\"]),mu),sigma))-np.log(sigma)) # first sum of l\n",
      "/Users/cuongwilliams/miniconda3/envs/jh/lib/python3.8/site-packages/scipy/optimize/_numdiff.py:576: RuntimeWarning: invalid value encountered in subtract\n",
      "  df = fun(x) - f0\n",
      "/Users/cuongwilliams/miniconda3/envs/jh/lib/python3.8/site-packages/pandas/core/arraylike.py:364: RuntimeWarning: divide by zero encountered in log\n",
      "  result = getattr(ufunc, method)(*inputs, **kwargs)\n",
      "/tmp/ipykernel_18797/2643545636.py:15: RuntimeWarning: invalid value encountered in log\n",
      "  l = np.sum(df[\"status\"] * (np.divide(np.subtract(np.log(df[\"time\"]),mu),sigma))-np.log(sigma)) # first sum of l\n",
      "/Users/cuongwilliams/miniconda3/envs/jh/lib/python3.8/site-packages/pandas/core/arraylike.py:364: RuntimeWarning: divide by zero encountered in log\n",
      "  result = getattr(ufunc, method)(*inputs, **kwargs)\n",
      "/Users/cuongwilliams/miniconda3/envs/jh/lib/python3.8/site-packages/pandas/core/arraylike.py:364: RuntimeWarning: divide by zero encountered in log\n",
      "  result = getattr(ufunc, method)(*inputs, **kwargs)\n"
     ]
    },
    {
     "name": "stdout",
     "output_type": "stream",
     "text": [
      "about to train <function regression_weibull at 0x2a2861670>\n"
     ]
    },
    {
     "name": "stderr",
     "output_type": "stream",
     "text": [
      "/Users/cuongwilliams/miniconda3/envs/jh/lib/python3.8/site-packages/pandas/core/arraylike.py:364: RuntimeWarning: divide by zero encountered in log\n",
      "  result = getattr(ufunc, method)(*inputs, **kwargs)\n",
      "/Users/cuongwilliams/miniconda3/envs/jh/lib/python3.8/site-packages/pandas/core/arraylike.py:364: RuntimeWarning: divide by zero encountered in log\n",
      "  result = getattr(ufunc, method)(*inputs, **kwargs)\n",
      "/tmp/ipykernel_18797/2643545636.py:15: RuntimeWarning: invalid value encountered in log\n",
      "  l = np.sum(df[\"status\"] * (np.divide(np.subtract(np.log(df[\"time\"]),mu),sigma))-np.log(sigma)) # first sum of l\n",
      "/Users/cuongwilliams/miniconda3/envs/jh/lib/python3.8/site-packages/scipy/optimize/_numdiff.py:576: RuntimeWarning: invalid value encountered in subtract\n",
      "  df = fun(x) - f0\n",
      "/Users/cuongwilliams/miniconda3/envs/jh/lib/python3.8/site-packages/pandas/core/arraylike.py:364: RuntimeWarning: divide by zero encountered in log\n",
      "  result = getattr(ufunc, method)(*inputs, **kwargs)\n",
      "/tmp/ipykernel_18797/2643545636.py:15: RuntimeWarning: invalid value encountered in log\n",
      "  l = np.sum(df[\"status\"] * (np.divide(np.subtract(np.log(df[\"time\"]),mu),sigma))-np.log(sigma)) # first sum of l\n",
      "/Users/cuongwilliams/miniconda3/envs/jh/lib/python3.8/site-packages/pandas/core/arraylike.py:364: RuntimeWarning: divide by zero encountered in log\n",
      "  result = getattr(ufunc, method)(*inputs, **kwargs)\n",
      "/Users/cuongwilliams/miniconda3/envs/jh/lib/python3.8/site-packages/pandas/core/arraylike.py:364: RuntimeWarning: divide by zero encountered in log\n",
      "  result = getattr(ufunc, method)(*inputs, **kwargs)\n"
     ]
    },
    {
     "name": "stdout",
     "output_type": "stream",
     "text": [
      "about to train <function regression_weibull at 0x2a2861670>\n",
      "about to train <function regression_weibull at 0x2a2861670>\n",
      "about to train <function regression_weibull at 0x2a2861670>\n"
     ]
    },
    {
     "name": "stderr",
     "output_type": "stream",
     "text": [
      "/Users/cuongwilliams/miniconda3/envs/jh/lib/python3.8/site-packages/pandas/core/arraylike.py:364: RuntimeWarning: divide by zero encountered in log\n",
      "  result = getattr(ufunc, method)(*inputs, **kwargs)\n",
      "/Users/cuongwilliams/miniconda3/envs/jh/lib/python3.8/site-packages/pandas/core/arraylike.py:364: RuntimeWarning: divide by zero encountered in log\n",
      "  result = getattr(ufunc, method)(*inputs, **kwargs)\n",
      "/tmp/ipykernel_18797/2643545636.py:15: RuntimeWarning: invalid value encountered in log\n",
      "  l = np.sum(df[\"status\"] * (np.divide(np.subtract(np.log(df[\"time\"]),mu),sigma))-np.log(sigma)) # first sum of l\n",
      "/Users/cuongwilliams/miniconda3/envs/jh/lib/python3.8/site-packages/scipy/optimize/_numdiff.py:576: RuntimeWarning: invalid value encountered in subtract\n",
      "  df = fun(x) - f0\n",
      "/Users/cuongwilliams/miniconda3/envs/jh/lib/python3.8/site-packages/pandas/core/arraylike.py:364: RuntimeWarning: divide by zero encountered in log\n",
      "  result = getattr(ufunc, method)(*inputs, **kwargs)\n",
      "/tmp/ipykernel_18797/2643545636.py:15: RuntimeWarning: invalid value encountered in log\n",
      "  l = np.sum(df[\"status\"] * (np.divide(np.subtract(np.log(df[\"time\"]),mu),sigma))-np.log(sigma)) # first sum of l\n",
      "/Users/cuongwilliams/miniconda3/envs/jh/lib/python3.8/site-packages/pandas/core/arraylike.py:364: RuntimeWarning: divide by zero encountered in log\n",
      "  result = getattr(ufunc, method)(*inputs, **kwargs)\n"
     ]
    },
    {
     "name": "stdout",
     "output_type": "stream",
     "text": [
      "c_vals [0.6238954239400071, 0.6307503742753054, 0.6281419478394792, 0.6324943174410629, 0.6337683029136617, 0.6270302678987508, 0.6359694842912751, 0.6186412616855776, 0.6296392612232669, 0.63361741304458]\n",
      "about to train <function deep_hit at 0x2a2861430>\n",
      "about to train <function deep_hit at 0x2a2861430>\n",
      "about to train <function deep_hit at 0x2a2861430>\n",
      "about to train <function deep_hit at 0x2a2861430>\n",
      "about to train <function deep_hit at 0x2a2861430>\n",
      "about to train <function deep_hit at 0x2a2861430>\n",
      "about to train <function deep_hit at 0x2a2861430>\n",
      "about to train <function deep_hit at 0x2a2861430>\n",
      "about to train <function deep_hit at 0x2a2861430>\n",
      "about to train <function deep_hit at 0x2a2861430>\n",
      "c_vals [0.5474867679504327, 0.5016349363201845, 0.561363255760029, 0.5698076149123951, 0.489636162398043, 0.4655593253088735, 0.5905096314678123, 0.5254249625347891, 0.4919129161555117, 0.5853097848427004]\n",
      "about to train <function deep_weibull at 0x2a286c0d0>\n"
     ]
    },
    {
     "name": "stderr",
     "output_type": "stream",
     "text": [
      "/Users/cuongwilliams/miniconda3/envs/jh/lib/python3.8/site-packages/keras/optimizers/legacy/rmsprop.py:143: UserWarning: The `lr` argument is deprecated, use `learning_rate` instead.\n",
      "  super().__init__(name, **kwargs)\n"
     ]
    },
    {
     "name": "stdout",
     "output_type": "stream",
     "text": [
      "WARNING:tensorflow:Your input ran out of data; interrupting training. Make sure that your dataset or generator can generate at least `steps_per_epoch * epochs` batches (in this case, 1875 batches). You may need to use the repeat() function when building your dataset.\n",
      "1/1 [==============================] - 0s 26ms/step\n",
      "about to train <function deep_weibull at 0x2a286c0d0>\n",
      "WARNING:tensorflow:Your input ran out of data; interrupting training. Make sure that your dataset or generator can generate at least `steps_per_epoch * epochs` batches (in this case, 1875 batches). You may need to use the repeat() function when building your dataset.\n",
      "1/1 [==============================] - 0s 26ms/step\n",
      "about to train <function deep_weibull at 0x2a286c0d0>\n",
      "WARNING:tensorflow:Your input ran out of data; interrupting training. Make sure that your dataset or generator can generate at least `steps_per_epoch * epochs` batches (in this case, 1875 batches). You may need to use the repeat() function when building your dataset.\n",
      "1/1 [==============================] - 0s 26ms/step\n",
      "about to train <function deep_weibull at 0x2a286c0d0>\n",
      "WARNING:tensorflow:Your input ran out of data; interrupting training. Make sure that your dataset or generator can generate at least `steps_per_epoch * epochs` batches (in this case, 1875 batches). You may need to use the repeat() function when building your dataset.\n",
      "1/1 [==============================] - 0s 26ms/step\n",
      "about to train <function deep_weibull at 0x2a286c0d0>\n",
      "WARNING:tensorflow:Your input ran out of data; interrupting training. Make sure that your dataset or generator can generate at least `steps_per_epoch * epochs` batches (in this case, 1875 batches). You may need to use the repeat() function when building your dataset.\n",
      "1/1 [==============================] - 0s 25ms/step\n",
      "about to train <function deep_weibull at 0x2a286c0d0>\n",
      "WARNING:tensorflow:Your input ran out of data; interrupting training. Make sure that your dataset or generator can generate at least `steps_per_epoch * epochs` batches (in this case, 1875 batches). You may need to use the repeat() function when building your dataset.\n",
      "1/1 [==============================] - 0s 26ms/step\n",
      "about to train <function deep_weibull at 0x2a286c0d0>\n",
      "WARNING:tensorflow:Your input ran out of data; interrupting training. Make sure that your dataset or generator can generate at least `steps_per_epoch * epochs` batches (in this case, 1875 batches). You may need to use the repeat() function when building your dataset.\n",
      "1/1 [==============================] - 0s 26ms/step\n",
      "about to train <function deep_weibull at 0x2a286c0d0>\n",
      "WARNING:tensorflow:Your input ran out of data; interrupting training. Make sure that your dataset or generator can generate at least `steps_per_epoch * epochs` batches (in this case, 1875 batches). You may need to use the repeat() function when building your dataset.\n",
      "1/1 [==============================] - 0s 26ms/step\n",
      "about to train <function deep_weibull at 0x2a286c0d0>\n",
      "WARNING:tensorflow:Your input ran out of data; interrupting training. Make sure that your dataset or generator can generate at least `steps_per_epoch * epochs` batches (in this case, 1875 batches). You may need to use the repeat() function when building your dataset.\n",
      "1/1 [==============================] - 0s 26ms/step\n",
      "about to train <function deep_weibull at 0x2a286c0d0>\n",
      "WARNING:tensorflow:Your input ran out of data; interrupting training. Make sure that your dataset or generator can generate at least `steps_per_epoch * epochs` batches (in this case, 1875 batches). You may need to use the repeat() function when building your dataset.\n",
      "1/1 [==============================] - 0s 26ms/step\n",
      "c_vals [0.5403420327628977, 0.5875620434654147, 0.5106855926635759, 0.5888349762211125, 0.5098900943961536, 0.5514613950739364, 0.5942347650056904, 0.5489916506101478, 0.5719442355854303, 0.5200657690986593]\n",
      "about to train <function regression_weibull at 0x2a2861670>\n"
     ]
    },
    {
     "name": "stderr",
     "output_type": "stream",
     "text": [
      "/tmp/ipykernel_18797/2643545636.py:15: RuntimeWarning: invalid value encountered in log\n",
      "  l = np.sum(df[\"status\"] * (np.divide(np.subtract(np.log(df[\"time\"]),mu),sigma))-np.log(sigma)) # first sum of l\n"
     ]
    },
    {
     "name": "stdout",
     "output_type": "stream",
     "text": [
      "about to train <function regression_weibull at 0x2a2861670>\n"
     ]
    },
    {
     "name": "stderr",
     "output_type": "stream",
     "text": [
      "/tmp/ipykernel_18797/2643545636.py:15: RuntimeWarning: invalid value encountered in log\n",
      "  l = np.sum(df[\"status\"] * (np.divide(np.subtract(np.log(df[\"time\"]),mu),sigma))-np.log(sigma)) # first sum of l\n"
     ]
    },
    {
     "name": "stdout",
     "output_type": "stream",
     "text": [
      "about to train <function regression_weibull at 0x2a2861670>\n"
     ]
    },
    {
     "name": "stderr",
     "output_type": "stream",
     "text": [
      "/tmp/ipykernel_18797/2643545636.py:15: RuntimeWarning: invalid value encountered in log\n",
      "  l = np.sum(df[\"status\"] * (np.divide(np.subtract(np.log(df[\"time\"]),mu),sigma))-np.log(sigma)) # first sum of l\n",
      "/tmp/ipykernel_18797/2643545636.py:15: RuntimeWarning: invalid value encountered in log\n",
      "  l = np.sum(df[\"status\"] * (np.divide(np.subtract(np.log(df[\"time\"]),mu),sigma))-np.log(sigma)) # first sum of l\n"
     ]
    },
    {
     "name": "stdout",
     "output_type": "stream",
     "text": [
      "about to train <function regression_weibull at 0x2a2861670>\n",
      "about to train <function regression_weibull at 0x2a2861670>\n"
     ]
    },
    {
     "name": "stderr",
     "output_type": "stream",
     "text": [
      "/tmp/ipykernel_18797/2643545636.py:15: RuntimeWarning: invalid value encountered in log\n",
      "  l = np.sum(df[\"status\"] * (np.divide(np.subtract(np.log(df[\"time\"]),mu),sigma))-np.log(sigma)) # first sum of l\n",
      "/tmp/ipykernel_18797/2643545636.py:15: RuntimeWarning: invalid value encountered in log\n",
      "  l = np.sum(df[\"status\"] * (np.divide(np.subtract(np.log(df[\"time\"]),mu),sigma))-np.log(sigma)) # first sum of l\n"
     ]
    },
    {
     "name": "stdout",
     "output_type": "stream",
     "text": [
      "about to train <function regression_weibull at 0x2a2861670>\n"
     ]
    },
    {
     "name": "stderr",
     "output_type": "stream",
     "text": [
      "/tmp/ipykernel_18797/2643545636.py:15: RuntimeWarning: invalid value encountered in log\n",
      "  l = np.sum(df[\"status\"] * (np.divide(np.subtract(np.log(df[\"time\"]),mu),sigma))-np.log(sigma)) # first sum of l\n"
     ]
    },
    {
     "name": "stdout",
     "output_type": "stream",
     "text": [
      "about to train <function regression_weibull at 0x2a2861670>\n",
      "about to train <function regression_weibull at 0x2a2861670>\n",
      "about to train <function regression_weibull at 0x2a2861670>\n"
     ]
    },
    {
     "name": "stderr",
     "output_type": "stream",
     "text": [
      "/tmp/ipykernel_18797/2643545636.py:15: RuntimeWarning: invalid value encountered in log\n",
      "  l = np.sum(df[\"status\"] * (np.divide(np.subtract(np.log(df[\"time\"]),mu),sigma))-np.log(sigma)) # first sum of l\n"
     ]
    },
    {
     "name": "stdout",
     "output_type": "stream",
     "text": [
      "about to train <function regression_weibull at 0x2a2861670>\n"
     ]
    },
    {
     "name": "stderr",
     "output_type": "stream",
     "text": [
      "/Users/cuongwilliams/miniconda3/envs/jh/lib/python3.8/site-packages/pandas/core/arraylike.py:364: RuntimeWarning: divide by zero encountered in log\n",
      "  result = getattr(ufunc, method)(*inputs, **kwargs)\n",
      "/Users/cuongwilliams/miniconda3/envs/jh/lib/python3.8/site-packages/pandas/core/arraylike.py:364: RuntimeWarning: divide by zero encountered in log\n",
      "  result = getattr(ufunc, method)(*inputs, **kwargs)\n"
     ]
    },
    {
     "name": "stdout",
     "output_type": "stream",
     "text": [
      "c_vals [0.6385119265520067, 0.6414233074850135, 0.6171946588264119, 0.6253868802338404, 0.6353449666266436, 0.6193627893289892, 0.6269746270467745, 0.6351846915089371, 0.6344016180484757, 0.6478847788944156]\n",
      "about to train <function deep_hit at 0x2a2861430>\n",
      "about to train <function deep_hit at 0x2a2861430>\n",
      "about to train <function deep_hit at 0x2a2861430>\n",
      "about to train <function deep_hit at 0x2a2861430>\n",
      "about to train <function deep_hit at 0x2a2861430>\n",
      "about to train <function deep_hit at 0x2a2861430>\n",
      "about to train <function deep_hit at 0x2a2861430>\n",
      "about to train <function deep_hit at 0x2a2861430>\n",
      "about to train <function deep_hit at 0x2a2861430>\n",
      "about to train <function deep_hit at 0x2a2861430>\n",
      "c_vals [0.4997699890825804, 0.5150479924687248, 0.5115145575564539, 0.576203732073252, 0.5815908102304773, 0.5272831323048609, 0.47146239641099136, 0.5537591760567502, 0.5337981385865097, 0.4629914958770089]\n",
      "about to train <function deep_weibull at 0x2a286c0d0>\n"
     ]
    },
    {
     "name": "stderr",
     "output_type": "stream",
     "text": [
      "/Users/cuongwilliams/miniconda3/envs/jh/lib/python3.8/site-packages/keras/optimizers/legacy/rmsprop.py:143: UserWarning: The `lr` argument is deprecated, use `learning_rate` instead.\n",
      "  super().__init__(name, **kwargs)\n"
     ]
    },
    {
     "name": "stdout",
     "output_type": "stream",
     "text": [
      "1/1 [==============================] - 0s 26ms/step\n",
      "about to train <function deep_weibull at 0x2a286c0d0>\n",
      "1/1 [==============================] - 0s 26ms/step\n",
      "about to train <function deep_weibull at 0x2a286c0d0>\n",
      "1/1 [==============================] - 0s 27ms/step\n",
      "about to train <function deep_weibull at 0x2a286c0d0>\n",
      "1/1 [==============================] - 0s 26ms/step\n",
      "about to train <function deep_weibull at 0x2a286c0d0>\n",
      "1/1 [==============================] - 0s 26ms/step\n",
      "about to train <function deep_weibull at 0x2a286c0d0>\n",
      "1/1 [==============================] - 0s 26ms/step\n",
      "about to train <function deep_weibull at 0x2a286c0d0>\n",
      "1/1 [==============================] - 0s 27ms/step\n",
      "about to train <function deep_weibull at 0x2a286c0d0>\n",
      "1/1 [==============================] - 0s 26ms/step\n",
      "about to train <function deep_weibull at 0x2a286c0d0>\n",
      "1/1 [==============================] - 0s 26ms/step\n",
      "about to train <function deep_weibull at 0x2a286c0d0>\n",
      "1/1 [==============================] - 0s 26ms/step\n",
      "c_vals [0.5450205875969042, 0.57052321010899, 0.5088162031932705, 0.5883315774555119, 0.5042138240799723, 0.546963275113927, 0.5922930105499277, 0.5438305038459788, 0.5567747558128062, 0.5353047754417837]\n",
      "about to train <function regression_weibull at 0x2a2861670>\n",
      "about to train <function regression_weibull at 0x2a2861670>\n"
     ]
    },
    {
     "name": "stderr",
     "output_type": "stream",
     "text": [
      "/tmp/ipykernel_18797/2643545636.py:15: RuntimeWarning: invalid value encountered in log\n",
      "  l = np.sum(df[\"status\"] * (np.divide(np.subtract(np.log(df[\"time\"]),mu),sigma))-np.log(sigma)) # first sum of l\n",
      "/Users/cuongwilliams/miniconda3/envs/jh/lib/python3.8/site-packages/pandas/core/arraylike.py:364: RuntimeWarning: overflow encountered in exp\n",
      "  result = getattr(ufunc, method)(*inputs, **kwargs)\n",
      "/Users/cuongwilliams/miniconda3/envs/jh/lib/python3.8/site-packages/scipy/optimize/_numdiff.py:576: RuntimeWarning: invalid value encountered in subtract\n",
      "  df = fun(x) - f0\n",
      "/tmp/ipykernel_18797/2643545636.py:15: RuntimeWarning: invalid value encountered in log\n",
      "  l = np.sum(df[\"status\"] * (np.divide(np.subtract(np.log(df[\"time\"]),mu),sigma))-np.log(sigma)) # first sum of l\n",
      "/Users/cuongwilliams/miniconda3/envs/jh/lib/python3.8/site-packages/pandas/core/arraylike.py:364: RuntimeWarning: overflow encountered in exp\n",
      "  result = getattr(ufunc, method)(*inputs, **kwargs)\n"
     ]
    },
    {
     "name": "stdout",
     "output_type": "stream",
     "text": [
      "about to train <function regression_weibull at 0x2a2861670>\n",
      "about to train <function regression_weibull at 0x2a2861670>\n"
     ]
    },
    {
     "name": "stderr",
     "output_type": "stream",
     "text": [
      "/Users/cuongwilliams/miniconda3/envs/jh/lib/python3.8/site-packages/pandas/core/arraylike.py:364: RuntimeWarning: divide by zero encountered in log\n",
      "  result = getattr(ufunc, method)(*inputs, **kwargs)\n",
      "/Users/cuongwilliams/miniconda3/envs/jh/lib/python3.8/site-packages/pandas/core/arraylike.py:364: RuntimeWarning: divide by zero encountered in log\n",
      "  result = getattr(ufunc, method)(*inputs, **kwargs)\n",
      "/tmp/ipykernel_18797/2643545636.py:15: RuntimeWarning: invalid value encountered in log\n",
      "  l = np.sum(df[\"status\"] * (np.divide(np.subtract(np.log(df[\"time\"]),mu),sigma))-np.log(sigma)) # first sum of l\n",
      "/Users/cuongwilliams/miniconda3/envs/jh/lib/python3.8/site-packages/scipy/optimize/_numdiff.py:576: RuntimeWarning: invalid value encountered in subtract\n",
      "  df = fun(x) - f0\n",
      "/Users/cuongwilliams/miniconda3/envs/jh/lib/python3.8/site-packages/pandas/core/arraylike.py:364: RuntimeWarning: divide by zero encountered in log\n",
      "  result = getattr(ufunc, method)(*inputs, **kwargs)\n",
      "/tmp/ipykernel_18797/2643545636.py:15: RuntimeWarning: invalid value encountered in log\n",
      "  l = np.sum(df[\"status\"] * (np.divide(np.subtract(np.log(df[\"time\"]),mu),sigma))-np.log(sigma)) # first sum of l\n",
      "/Users/cuongwilliams/miniconda3/envs/jh/lib/python3.8/site-packages/pandas/core/arraylike.py:364: RuntimeWarning: divide by zero encountered in log\n",
      "  result = getattr(ufunc, method)(*inputs, **kwargs)\n"
     ]
    },
    {
     "name": "stdout",
     "output_type": "stream",
     "text": [
      "about to train <function regression_weibull at 0x2a2861670>\n"
     ]
    },
    {
     "name": "stderr",
     "output_type": "stream",
     "text": [
      "/tmp/ipykernel_18797/2643545636.py:15: RuntimeWarning: invalid value encountered in log\n",
      "  l = np.sum(df[\"status\"] * (np.divide(np.subtract(np.log(df[\"time\"]),mu),sigma))-np.log(sigma)) # first sum of l\n"
     ]
    },
    {
     "name": "stdout",
     "output_type": "stream",
     "text": [
      "about to train <function regression_weibull at 0x2a2861670>\n"
     ]
    },
    {
     "name": "stderr",
     "output_type": "stream",
     "text": [
      "/Users/cuongwilliams/miniconda3/envs/jh/lib/python3.8/site-packages/pandas/core/arraylike.py:364: RuntimeWarning: divide by zero encountered in log\n",
      "  result = getattr(ufunc, method)(*inputs, **kwargs)\n",
      "/Users/cuongwilliams/miniconda3/envs/jh/lib/python3.8/site-packages/pandas/core/arraylike.py:364: RuntimeWarning: divide by zero encountered in log\n",
      "  result = getattr(ufunc, method)(*inputs, **kwargs)\n",
      "/tmp/ipykernel_18797/2643545636.py:15: RuntimeWarning: invalid value encountered in log\n",
      "  l = np.sum(df[\"status\"] * (np.divide(np.subtract(np.log(df[\"time\"]),mu),sigma))-np.log(sigma)) # first sum of l\n",
      "/Users/cuongwilliams/miniconda3/envs/jh/lib/python3.8/site-packages/scipy/optimize/_numdiff.py:576: RuntimeWarning: invalid value encountered in subtract\n",
      "  df = fun(x) - f0\n",
      "/Users/cuongwilliams/miniconda3/envs/jh/lib/python3.8/site-packages/pandas/core/arraylike.py:364: RuntimeWarning: divide by zero encountered in log\n",
      "  result = getattr(ufunc, method)(*inputs, **kwargs)\n",
      "/tmp/ipykernel_18797/2643545636.py:15: RuntimeWarning: invalid value encountered in log\n",
      "  l = np.sum(df[\"status\"] * (np.divide(np.subtract(np.log(df[\"time\"]),mu),sigma))-np.log(sigma)) # first sum of l\n",
      "/Users/cuongwilliams/miniconda3/envs/jh/lib/python3.8/site-packages/pandas/core/arraylike.py:364: RuntimeWarning: divide by zero encountered in log\n",
      "  result = getattr(ufunc, method)(*inputs, **kwargs)\n"
     ]
    },
    {
     "name": "stdout",
     "output_type": "stream",
     "text": [
      "about to train <function regression_weibull at 0x2a2861670>\n",
      "about to train <function regression_weibull at 0x2a2861670>\n"
     ]
    },
    {
     "name": "stderr",
     "output_type": "stream",
     "text": [
      "/Users/cuongwilliams/miniconda3/envs/jh/lib/python3.8/site-packages/pandas/core/arraylike.py:364: RuntimeWarning: divide by zero encountered in log\n",
      "  result = getattr(ufunc, method)(*inputs, **kwargs)\n",
      "/Users/cuongwilliams/miniconda3/envs/jh/lib/python3.8/site-packages/pandas/core/arraylike.py:364: RuntimeWarning: divide by zero encountered in log\n",
      "  result = getattr(ufunc, method)(*inputs, **kwargs)\n",
      "/tmp/ipykernel_18797/2643545636.py:15: RuntimeWarning: invalid value encountered in log\n",
      "  l = np.sum(df[\"status\"] * (np.divide(np.subtract(np.log(df[\"time\"]),mu),sigma))-np.log(sigma)) # first sum of l\n",
      "/Users/cuongwilliams/miniconda3/envs/jh/lib/python3.8/site-packages/scipy/optimize/_numdiff.py:576: RuntimeWarning: invalid value encountered in subtract\n",
      "  df = fun(x) - f0\n",
      "/Users/cuongwilliams/miniconda3/envs/jh/lib/python3.8/site-packages/pandas/core/arraylike.py:364: RuntimeWarning: divide by zero encountered in log\n",
      "  result = getattr(ufunc, method)(*inputs, **kwargs)\n",
      "/tmp/ipykernel_18797/2643545636.py:15: RuntimeWarning: invalid value encountered in log\n",
      "  l = np.sum(df[\"status\"] * (np.divide(np.subtract(np.log(df[\"time\"]),mu),sigma))-np.log(sigma)) # first sum of l\n",
      "/Users/cuongwilliams/miniconda3/envs/jh/lib/python3.8/site-packages/pandas/core/arraylike.py:364: RuntimeWarning: divide by zero encountered in log\n",
      "  result = getattr(ufunc, method)(*inputs, **kwargs)\n"
     ]
    },
    {
     "name": "stdout",
     "output_type": "stream",
     "text": [
      "about to train <function regression_weibull at 0x2a2861670>\n"
     ]
    },
    {
     "name": "stderr",
     "output_type": "stream",
     "text": [
      "/Users/cuongwilliams/miniconda3/envs/jh/lib/python3.8/site-packages/pandas/core/arraylike.py:364: RuntimeWarning: divide by zero encountered in log\n",
      "  result = getattr(ufunc, method)(*inputs, **kwargs)\n",
      "/Users/cuongwilliams/miniconda3/envs/jh/lib/python3.8/site-packages/pandas/core/arraylike.py:364: RuntimeWarning: divide by zero encountered in log\n",
      "  result = getattr(ufunc, method)(*inputs, **kwargs)\n"
     ]
    },
    {
     "name": "stdout",
     "output_type": "stream",
     "text": [
      "about to train <function regression_weibull at 0x2a2861670>\n"
     ]
    },
    {
     "name": "stderr",
     "output_type": "stream",
     "text": [
      "/tmp/ipykernel_18797/2643545636.py:15: RuntimeWarning: invalid value encountered in log\n",
      "  l = np.sum(df[\"status\"] * (np.divide(np.subtract(np.log(df[\"time\"]),mu),sigma))-np.log(sigma)) # first sum of l\n",
      "/tmp/ipykernel_18797/2643545636.py:15: RuntimeWarning: invalid value encountered in log\n",
      "  l = np.sum(df[\"status\"] * (np.divide(np.subtract(np.log(df[\"time\"]),mu),sigma))-np.log(sigma)) # first sum of l\n"
     ]
    },
    {
     "name": "stdout",
     "output_type": "stream",
     "text": [
      "c_vals [0.6302607209540444, 0.6283695769648637, 0.6288547962188129, 0.6248756050119871, 0.6229735682402963, 0.6390224990925486, 0.6326128886613558, 0.6315064096512923, 0.6291875335191521, 0.5981606564065368]\n",
      "about to train <function deep_hit at 0x2a2861430>\n",
      "about to train <function deep_hit at 0x2a2861430>\n",
      "about to train <function deep_hit at 0x2a2861430>\n",
      "about to train <function deep_hit at 0x2a2861430>\n",
      "about to train <function deep_hit at 0x2a2861430>\n",
      "about to train <function deep_hit at 0x2a2861430>\n",
      "about to train <function deep_hit at 0x2a2861430>\n",
      "about to train <function deep_hit at 0x2a2861430>\n",
      "about to train <function deep_hit at 0x2a2861430>\n",
      "about to train <function deep_hit at 0x2a2861430>\n",
      "c_vals [0.5792646660242124, 0.4794511976609917, 0.5194203125846015, 0.5436720646552374, 0.5323444503891694, 0.5363465152917433, 0.5298168127265754, 0.5466082655238167, 0.528008792404088, 0.5343748347272906]\n",
      "about to train <function deep_weibull at 0x2a286c0d0>\n"
     ]
    },
    {
     "name": "stderr",
     "output_type": "stream",
     "text": [
      "/Users/cuongwilliams/miniconda3/envs/jh/lib/python3.8/site-packages/keras/optimizers/legacy/rmsprop.py:143: UserWarning: The `lr` argument is deprecated, use `learning_rate` instead.\n",
      "  super().__init__(name, **kwargs)\n"
     ]
    },
    {
     "name": "stdout",
     "output_type": "stream",
     "text": [
      "1/1 [==============================] - 0s 26ms/step\n",
      "about to train <function deep_weibull at 0x2a286c0d0>\n",
      "1/1 [==============================] - 0s 25ms/step\n",
      "about to train <function deep_weibull at 0x2a286c0d0>\n",
      "1/1 [==============================] - 0s 27ms/step\n",
      "about to train <function deep_weibull at 0x2a286c0d0>\n",
      "1/1 [==============================] - 0s 25ms/step\n",
      "about to train <function deep_weibull at 0x2a286c0d0>\n",
      "1/1 [==============================] - 0s 26ms/step\n",
      "about to train <function deep_weibull at 0x2a286c0d0>\n",
      "1/1 [==============================] - 0s 26ms/step\n",
      "about to train <function deep_weibull at 0x2a286c0d0>\n",
      "1/1 [==============================] - 0s 26ms/step\n",
      "about to train <function deep_weibull at 0x2a286c0d0>\n",
      "1/1 [==============================] - 0s 26ms/step\n",
      "about to train <function deep_weibull at 0x2a286c0d0>\n",
      "1/1 [==============================] - 0s 26ms/step\n",
      "about to train <function deep_weibull at 0x2a286c0d0>\n",
      "1/1 [==============================] - 0s 26ms/step\n",
      "c_vals [0.5399287779316991, 0.5805787983761943, 0.5140020799142642, 0.6008786809607817, 0.5223888215643533, 0.5601207908034793, 0.5874970954889874, 0.5313232767572262, 0.5623399578508463, 0.5486071760466013]\n",
      "about to train <function regression_weibull at 0x2a2861670>\n"
     ]
    },
    {
     "name": "stderr",
     "output_type": "stream",
     "text": [
      "/Users/cuongwilliams/miniconda3/envs/jh/lib/python3.8/site-packages/pandas/core/arraylike.py:364: RuntimeWarning: divide by zero encountered in log\n",
      "  result = getattr(ufunc, method)(*inputs, **kwargs)\n",
      "/Users/cuongwilliams/miniconda3/envs/jh/lib/python3.8/site-packages/pandas/core/arraylike.py:364: RuntimeWarning: divide by zero encountered in log\n",
      "  result = getattr(ufunc, method)(*inputs, **kwargs)\n"
     ]
    },
    {
     "name": "stdout",
     "output_type": "stream",
     "text": [
      "about to train <function regression_weibull at 0x2a2861670>\n"
     ]
    },
    {
     "name": "stderr",
     "output_type": "stream",
     "text": [
      "/Users/cuongwilliams/miniconda3/envs/jh/lib/python3.8/site-packages/pandas/core/arraylike.py:364: RuntimeWarning: divide by zero encountered in log\n",
      "  result = getattr(ufunc, method)(*inputs, **kwargs)\n",
      "/tmp/ipykernel_18797/2643545636.py:15: RuntimeWarning: invalid value encountered in log\n",
      "  l = np.sum(df[\"status\"] * (np.divide(np.subtract(np.log(df[\"time\"]),mu),sigma))-np.log(sigma)) # first sum of l\n",
      "/Users/cuongwilliams/miniconda3/envs/jh/lib/python3.8/site-packages/scipy/optimize/_numdiff.py:576: RuntimeWarning: invalid value encountered in subtract\n",
      "  df = fun(x) - f0\n",
      "/Users/cuongwilliams/miniconda3/envs/jh/lib/python3.8/site-packages/pandas/core/arraylike.py:364: RuntimeWarning: divide by zero encountered in log\n",
      "  result = getattr(ufunc, method)(*inputs, **kwargs)\n",
      "/tmp/ipykernel_18797/2643545636.py:15: RuntimeWarning: invalid value encountered in log\n",
      "  l = np.sum(df[\"status\"] * (np.divide(np.subtract(np.log(df[\"time\"]),mu),sigma))-np.log(sigma)) # first sum of l\n",
      "/Users/cuongwilliams/miniconda3/envs/jh/lib/python3.8/site-packages/pandas/core/arraylike.py:364: RuntimeWarning: divide by zero encountered in log\n",
      "  result = getattr(ufunc, method)(*inputs, **kwargs)\n"
     ]
    },
    {
     "name": "stdout",
     "output_type": "stream",
     "text": [
      "about to train <function regression_weibull at 0x2a2861670>\n"
     ]
    },
    {
     "name": "stderr",
     "output_type": "stream",
     "text": [
      "/tmp/ipykernel_18797/2643545636.py:15: RuntimeWarning: invalid value encountered in log\n",
      "  l = np.sum(df[\"status\"] * (np.divide(np.subtract(np.log(df[\"time\"]),mu),sigma))-np.log(sigma)) # first sum of l\n"
     ]
    },
    {
     "name": "stdout",
     "output_type": "stream",
     "text": [
      "about to train <function regression_weibull at 0x2a2861670>\n"
     ]
    },
    {
     "name": "stderr",
     "output_type": "stream",
     "text": [
      "/Users/cuongwilliams/miniconda3/envs/jh/lib/python3.8/site-packages/pandas/core/arraylike.py:364: RuntimeWarning: divide by zero encountered in log\n",
      "  result = getattr(ufunc, method)(*inputs, **kwargs)\n",
      "/Users/cuongwilliams/miniconda3/envs/jh/lib/python3.8/site-packages/pandas/core/arraylike.py:364: RuntimeWarning: divide by zero encountered in log\n",
      "  result = getattr(ufunc, method)(*inputs, **kwargs)\n",
      "/tmp/ipykernel_18797/2643545636.py:15: RuntimeWarning: invalid value encountered in log\n",
      "  l = np.sum(df[\"status\"] * (np.divide(np.subtract(np.log(df[\"time\"]),mu),sigma))-np.log(sigma)) # first sum of l\n",
      "/Users/cuongwilliams/miniconda3/envs/jh/lib/python3.8/site-packages/scipy/optimize/_numdiff.py:576: RuntimeWarning: invalid value encountered in subtract\n",
      "  df = fun(x) - f0\n",
      "/Users/cuongwilliams/miniconda3/envs/jh/lib/python3.8/site-packages/pandas/core/arraylike.py:364: RuntimeWarning: divide by zero encountered in log\n",
      "  result = getattr(ufunc, method)(*inputs, **kwargs)\n",
      "/tmp/ipykernel_18797/2643545636.py:15: RuntimeWarning: invalid value encountered in log\n",
      "  l = np.sum(df[\"status\"] * (np.divide(np.subtract(np.log(df[\"time\"]),mu),sigma))-np.log(sigma)) # first sum of l\n",
      "/Users/cuongwilliams/miniconda3/envs/jh/lib/python3.8/site-packages/pandas/core/arraylike.py:364: RuntimeWarning: divide by zero encountered in log\n",
      "  result = getattr(ufunc, method)(*inputs, **kwargs)\n"
     ]
    },
    {
     "name": "stdout",
     "output_type": "stream",
     "text": [
      "about to train <function regression_weibull at 0x2a2861670>\n",
      "about to train <function regression_weibull at 0x2a2861670>\n"
     ]
    },
    {
     "name": "stderr",
     "output_type": "stream",
     "text": [
      "/Users/cuongwilliams/miniconda3/envs/jh/lib/python3.8/site-packages/pandas/core/arraylike.py:364: RuntimeWarning: divide by zero encountered in log\n",
      "  result = getattr(ufunc, method)(*inputs, **kwargs)\n",
      "/Users/cuongwilliams/miniconda3/envs/jh/lib/python3.8/site-packages/pandas/core/arraylike.py:364: RuntimeWarning: divide by zero encountered in log\n",
      "  result = getattr(ufunc, method)(*inputs, **kwargs)\n",
      "/tmp/ipykernel_18797/2643545636.py:15: RuntimeWarning: invalid value encountered in log\n",
      "  l = np.sum(df[\"status\"] * (np.divide(np.subtract(np.log(df[\"time\"]),mu),sigma))-np.log(sigma)) # first sum of l\n",
      "/Users/cuongwilliams/miniconda3/envs/jh/lib/python3.8/site-packages/scipy/optimize/_numdiff.py:576: RuntimeWarning: invalid value encountered in subtract\n",
      "  df = fun(x) - f0\n",
      "/Users/cuongwilliams/miniconda3/envs/jh/lib/python3.8/site-packages/pandas/core/arraylike.py:364: RuntimeWarning: divide by zero encountered in log\n",
      "  result = getattr(ufunc, method)(*inputs, **kwargs)\n",
      "/tmp/ipykernel_18797/2643545636.py:15: RuntimeWarning: invalid value encountered in log\n",
      "  l = np.sum(df[\"status\"] * (np.divide(np.subtract(np.log(df[\"time\"]),mu),sigma))-np.log(sigma)) # first sum of l\n",
      "/Users/cuongwilliams/miniconda3/envs/jh/lib/python3.8/site-packages/pandas/core/arraylike.py:364: RuntimeWarning: divide by zero encountered in log\n",
      "  result = getattr(ufunc, method)(*inputs, **kwargs)\n"
     ]
    },
    {
     "name": "stdout",
     "output_type": "stream",
     "text": [
      "about to train <function regression_weibull at 0x2a2861670>\n"
     ]
    },
    {
     "name": "stderr",
     "output_type": "stream",
     "text": [
      "/Users/cuongwilliams/miniconda3/envs/jh/lib/python3.8/site-packages/pandas/core/arraylike.py:364: RuntimeWarning: divide by zero encountered in log\n",
      "  result = getattr(ufunc, method)(*inputs, **kwargs)\n"
     ]
    },
    {
     "name": "stdout",
     "output_type": "stream",
     "text": [
      "about to train <function regression_weibull at 0x2a2861670>\n"
     ]
    },
    {
     "name": "stderr",
     "output_type": "stream",
     "text": [
      "/Users/cuongwilliams/miniconda3/envs/jh/lib/python3.8/site-packages/pandas/core/arraylike.py:364: RuntimeWarning: divide by zero encountered in log\n",
      "  result = getattr(ufunc, method)(*inputs, **kwargs)\n"
     ]
    },
    {
     "name": "stdout",
     "output_type": "stream",
     "text": [
      "about to train <function regression_weibull at 0x2a2861670>\n"
     ]
    },
    {
     "name": "stderr",
     "output_type": "stream",
     "text": [
      "/Users/cuongwilliams/miniconda3/envs/jh/lib/python3.8/site-packages/pandas/core/arraylike.py:364: RuntimeWarning: divide by zero encountered in log\n",
      "  result = getattr(ufunc, method)(*inputs, **kwargs)\n",
      "/Users/cuongwilliams/miniconda3/envs/jh/lib/python3.8/site-packages/pandas/core/arraylike.py:364: RuntimeWarning: divide by zero encountered in log\n",
      "  result = getattr(ufunc, method)(*inputs, **kwargs)\n",
      "/tmp/ipykernel_18797/2643545636.py:15: RuntimeWarning: invalid value encountered in log\n",
      "  l = np.sum(df[\"status\"] * (np.divide(np.subtract(np.log(df[\"time\"]),mu),sigma))-np.log(sigma)) # first sum of l\n",
      "/Users/cuongwilliams/miniconda3/envs/jh/lib/python3.8/site-packages/pandas/core/arraylike.py:364: RuntimeWarning: overflow encountered in exp\n",
      "  result = getattr(ufunc, method)(*inputs, **kwargs)\n",
      "/Users/cuongwilliams/miniconda3/envs/jh/lib/python3.8/site-packages/scipy/optimize/_numdiff.py:576: RuntimeWarning: invalid value encountered in subtract\n",
      "  df = fun(x) - f0\n",
      "/Users/cuongwilliams/miniconda3/envs/jh/lib/python3.8/site-packages/pandas/core/arraylike.py:364: RuntimeWarning: divide by zero encountered in log\n",
      "  result = getattr(ufunc, method)(*inputs, **kwargs)\n",
      "/tmp/ipykernel_18797/2643545636.py:15: RuntimeWarning: invalid value encountered in log\n",
      "  l = np.sum(df[\"status\"] * (np.divide(np.subtract(np.log(df[\"time\"]),mu),sigma))-np.log(sigma)) # first sum of l\n",
      "/Users/cuongwilliams/miniconda3/envs/jh/lib/python3.8/site-packages/pandas/core/arraylike.py:364: RuntimeWarning: overflow encountered in exp\n",
      "  result = getattr(ufunc, method)(*inputs, **kwargs)\n",
      "/Users/cuongwilliams/miniconda3/envs/jh/lib/python3.8/site-packages/pandas/core/arraylike.py:364: RuntimeWarning: divide by zero encountered in log\n",
      "  result = getattr(ufunc, method)(*inputs, **kwargs)\n"
     ]
    },
    {
     "name": "stdout",
     "output_type": "stream",
     "text": [
      "about to train <function regression_weibull at 0x2a2861670>\n"
     ]
    },
    {
     "name": "stderr",
     "output_type": "stream",
     "text": [
      "/tmp/ipykernel_18797/2643545636.py:15: RuntimeWarning: invalid value encountered in log\n",
      "  l = np.sum(df[\"status\"] * (np.divide(np.subtract(np.log(df[\"time\"]),mu),sigma))-np.log(sigma)) # first sum of l\n",
      "/tmp/ipykernel_18797/2643545636.py:15: RuntimeWarning: invalid value encountered in log\n",
      "  l = np.sum(df[\"status\"] * (np.divide(np.subtract(np.log(df[\"time\"]),mu),sigma))-np.log(sigma)) # first sum of l\n"
     ]
    },
    {
     "name": "stdout",
     "output_type": "stream",
     "text": [
      "c_vals [0.6265214071974516, 0.6351473070618874, 0.6355889314436373, 0.6193533506760788, 0.6117708800279894, 0.6348915240355613, 0.5993417122145254, 0.6236848090337197, 0.6342436810392049, 0.6202404676497941]\n",
      "about to train <function deep_hit at 0x2a2861430>\n",
      "about to train <function deep_hit at 0x2a2861430>\n",
      "about to train <function deep_hit at 0x2a2861430>\n",
      "about to train <function deep_hit at 0x2a2861430>\n",
      "about to train <function deep_hit at 0x2a2861430>\n",
      "about to train <function deep_hit at 0x2a2861430>\n",
      "about to train <function deep_hit at 0x2a2861430>\n",
      "about to train <function deep_hit at 0x2a2861430>\n",
      "about to train <function deep_hit at 0x2a2861430>\n",
      "about to train <function deep_hit at 0x2a2861430>\n",
      "c_vals [0.5941122528673096, 0.5876091709126655, 0.5109715374296392, 0.5530805550565635, 0.5539945114417852, 0.5585598478210135, 0.487457219067248, 0.523819723061908, 0.5904061350653416, 0.5978189628448696]\n",
      "about to train <function deep_weibull at 0x2a286c0d0>\n"
     ]
    },
    {
     "name": "stderr",
     "output_type": "stream",
     "text": [
      "/Users/cuongwilliams/miniconda3/envs/jh/lib/python3.8/site-packages/keras/optimizers/legacy/rmsprop.py:143: UserWarning: The `lr` argument is deprecated, use `learning_rate` instead.\n",
      "  super().__init__(name, **kwargs)\n"
     ]
    },
    {
     "name": "stdout",
     "output_type": "stream",
     "text": [
      "1/1 [==============================] - 0s 26ms/step\n",
      "about to train <function deep_weibull at 0x2a286c0d0>\n",
      "1/1 [==============================] - 0s 26ms/step\n",
      "about to train <function deep_weibull at 0x2a286c0d0>\n",
      "1/1 [==============================] - 0s 26ms/step\n",
      "about to train <function deep_weibull at 0x2a286c0d0>\n",
      "1/1 [==============================] - 0s 26ms/step\n",
      "about to train <function deep_weibull at 0x2a286c0d0>\n",
      "1/1 [==============================] - 0s 27ms/step\n",
      "about to train <function deep_weibull at 0x2a286c0d0>\n",
      "1/1 [==============================] - 0s 26ms/step\n",
      "about to train <function deep_weibull at 0x2a286c0d0>\n",
      "1/1 [==============================] - 0s 26ms/step\n",
      "about to train <function deep_weibull at 0x2a286c0d0>\n",
      "1/1 [==============================] - 0s 26ms/step\n",
      "about to train <function deep_weibull at 0x2a286c0d0>\n",
      "1/1 [==============================] - 0s 26ms/step\n",
      "about to train <function deep_weibull at 0x2a286c0d0>\n",
      "1/1 [==============================] - 0s 26ms/step\n",
      "c_vals [0.5472327281342962, 0.5778391109312138, 0.49877455584555647, 0.5800349959747976, 0.5299629358319757, 0.5517104724329703, 0.5817318476698966, 0.5629955772046078, 0.5569002716510346, 0.5340795358930074]\n",
      "about to train <function regression_weibull at 0x2a2861670>\n",
      "about to train <function regression_weibull at 0x2a2861670>\n"
     ]
    },
    {
     "name": "stderr",
     "output_type": "stream",
     "text": [
      "/tmp/ipykernel_18797/2643545636.py:15: RuntimeWarning: invalid value encountered in log\n",
      "  l = np.sum(df[\"status\"] * (np.divide(np.subtract(np.log(df[\"time\"]),mu),sigma))-np.log(sigma)) # first sum of l\n"
     ]
    },
    {
     "name": "stdout",
     "output_type": "stream",
     "text": [
      "about to train <function regression_weibull at 0x2a2861670>\n"
     ]
    },
    {
     "name": "stderr",
     "output_type": "stream",
     "text": [
      "/Users/cuongwilliams/miniconda3/envs/jh/lib/python3.8/site-packages/pandas/core/arraylike.py:364: RuntimeWarning: divide by zero encountered in log\n",
      "  result = getattr(ufunc, method)(*inputs, **kwargs)\n",
      "/Users/cuongwilliams/miniconda3/envs/jh/lib/python3.8/site-packages/pandas/core/arraylike.py:364: RuntimeWarning: divide by zero encountered in log\n",
      "  result = getattr(ufunc, method)(*inputs, **kwargs)\n",
      "/tmp/ipykernel_18797/2643545636.py:15: RuntimeWarning: invalid value encountered in log\n",
      "  l = np.sum(df[\"status\"] * (np.divide(np.subtract(np.log(df[\"time\"]),mu),sigma))-np.log(sigma)) # first sum of l\n",
      "/Users/cuongwilliams/miniconda3/envs/jh/lib/python3.8/site-packages/scipy/optimize/_numdiff.py:576: RuntimeWarning: invalid value encountered in subtract\n",
      "  df = fun(x) - f0\n",
      "/Users/cuongwilliams/miniconda3/envs/jh/lib/python3.8/site-packages/pandas/core/arraylike.py:364: RuntimeWarning: divide by zero encountered in log\n",
      "  result = getattr(ufunc, method)(*inputs, **kwargs)\n",
      "/tmp/ipykernel_18797/2643545636.py:15: RuntimeWarning: invalid value encountered in log\n",
      "  l = np.sum(df[\"status\"] * (np.divide(np.subtract(np.log(df[\"time\"]),mu),sigma))-np.log(sigma)) # first sum of l\n",
      "/Users/cuongwilliams/miniconda3/envs/jh/lib/python3.8/site-packages/pandas/core/arraylike.py:364: RuntimeWarning: divide by zero encountered in log\n",
      "  result = getattr(ufunc, method)(*inputs, **kwargs)\n"
     ]
    },
    {
     "name": "stdout",
     "output_type": "stream",
     "text": [
      "about to train <function regression_weibull at 0x2a2861670>\n"
     ]
    },
    {
     "name": "stderr",
     "output_type": "stream",
     "text": [
      "/Users/cuongwilliams/miniconda3/envs/jh/lib/python3.8/site-packages/pandas/core/arraylike.py:364: RuntimeWarning: divide by zero encountered in log\n",
      "  result = getattr(ufunc, method)(*inputs, **kwargs)\n",
      "/tmp/ipykernel_18797/2643545636.py:15: RuntimeWarning: invalid value encountered in log\n",
      "  l = np.sum(df[\"status\"] * (np.divide(np.subtract(np.log(df[\"time\"]),mu),sigma))-np.log(sigma)) # first sum of l\n",
      "/Users/cuongwilliams/miniconda3/envs/jh/lib/python3.8/site-packages/scipy/optimize/_numdiff.py:576: RuntimeWarning: invalid value encountered in subtract\n",
      "  df = fun(x) - f0\n",
      "/Users/cuongwilliams/miniconda3/envs/jh/lib/python3.8/site-packages/pandas/core/arraylike.py:364: RuntimeWarning: divide by zero encountered in log\n",
      "  result = getattr(ufunc, method)(*inputs, **kwargs)\n",
      "/tmp/ipykernel_18797/2643545636.py:15: RuntimeWarning: invalid value encountered in log\n",
      "  l = np.sum(df[\"status\"] * (np.divide(np.subtract(np.log(df[\"time\"]),mu),sigma))-np.log(sigma)) # first sum of l\n",
      "/Users/cuongwilliams/miniconda3/envs/jh/lib/python3.8/site-packages/pandas/core/arraylike.py:364: RuntimeWarning: divide by zero encountered in log\n",
      "  result = getattr(ufunc, method)(*inputs, **kwargs)\n"
     ]
    },
    {
     "name": "stdout",
     "output_type": "stream",
     "text": [
      "about to train <function regression_weibull at 0x2a2861670>\n"
     ]
    },
    {
     "name": "stderr",
     "output_type": "stream",
     "text": [
      "/Users/cuongwilliams/miniconda3/envs/jh/lib/python3.8/site-packages/pandas/core/arraylike.py:364: RuntimeWarning: divide by zero encountered in log\n",
      "  result = getattr(ufunc, method)(*inputs, **kwargs)\n",
      "/tmp/ipykernel_18797/2643545636.py:15: RuntimeWarning: invalid value encountered in log\n",
      "  l = np.sum(df[\"status\"] * (np.divide(np.subtract(np.log(df[\"time\"]),mu),sigma))-np.log(sigma)) # first sum of l\n",
      "/Users/cuongwilliams/miniconda3/envs/jh/lib/python3.8/site-packages/scipy/optimize/_numdiff.py:576: RuntimeWarning: invalid value encountered in subtract\n",
      "  df = fun(x) - f0\n",
      "/Users/cuongwilliams/miniconda3/envs/jh/lib/python3.8/site-packages/pandas/core/arraylike.py:364: RuntimeWarning: divide by zero encountered in log\n",
      "  result = getattr(ufunc, method)(*inputs, **kwargs)\n",
      "/tmp/ipykernel_18797/2643545636.py:15: RuntimeWarning: invalid value encountered in log\n",
      "  l = np.sum(df[\"status\"] * (np.divide(np.subtract(np.log(df[\"time\"]),mu),sigma))-np.log(sigma)) # first sum of l\n",
      "/Users/cuongwilliams/miniconda3/envs/jh/lib/python3.8/site-packages/pandas/core/arraylike.py:364: RuntimeWarning: divide by zero encountered in log\n",
      "  result = getattr(ufunc, method)(*inputs, **kwargs)\n"
     ]
    },
    {
     "name": "stdout",
     "output_type": "stream",
     "text": [
      "about to train <function regression_weibull at 0x2a2861670>\n"
     ]
    },
    {
     "name": "stderr",
     "output_type": "stream",
     "text": [
      "/Users/cuongwilliams/miniconda3/envs/jh/lib/python3.8/site-packages/pandas/core/arraylike.py:364: RuntimeWarning: divide by zero encountered in log\n",
      "  result = getattr(ufunc, method)(*inputs, **kwargs)\n",
      "/Users/cuongwilliams/miniconda3/envs/jh/lib/python3.8/site-packages/pandas/core/arraylike.py:364: RuntimeWarning: divide by zero encountered in log\n",
      "  result = getattr(ufunc, method)(*inputs, **kwargs)\n"
     ]
    },
    {
     "name": "stdout",
     "output_type": "stream",
     "text": [
      "about to train <function regression_weibull at 0x2a2861670>\n"
     ]
    },
    {
     "name": "stderr",
     "output_type": "stream",
     "text": [
      "/Users/cuongwilliams/miniconda3/envs/jh/lib/python3.8/site-packages/pandas/core/arraylike.py:364: RuntimeWarning: divide by zero encountered in log\n",
      "  result = getattr(ufunc, method)(*inputs, **kwargs)\n",
      "/tmp/ipykernel_18797/2643545636.py:15: RuntimeWarning: invalid value encountered in log\n",
      "  l = np.sum(df[\"status\"] * (np.divide(np.subtract(np.log(df[\"time\"]),mu),sigma))-np.log(sigma)) # first sum of l\n",
      "/Users/cuongwilliams/miniconda3/envs/jh/lib/python3.8/site-packages/scipy/optimize/_numdiff.py:576: RuntimeWarning: invalid value encountered in subtract\n",
      "  df = fun(x) - f0\n",
      "/Users/cuongwilliams/miniconda3/envs/jh/lib/python3.8/site-packages/pandas/core/arraylike.py:364: RuntimeWarning: divide by zero encountered in log\n",
      "  result = getattr(ufunc, method)(*inputs, **kwargs)\n",
      "/tmp/ipykernel_18797/2643545636.py:15: RuntimeWarning: invalid value encountered in log\n",
      "  l = np.sum(df[\"status\"] * (np.divide(np.subtract(np.log(df[\"time\"]),mu),sigma))-np.log(sigma)) # first sum of l\n",
      "/Users/cuongwilliams/miniconda3/envs/jh/lib/python3.8/site-packages/pandas/core/arraylike.py:364: RuntimeWarning: divide by zero encountered in log\n",
      "  result = getattr(ufunc, method)(*inputs, **kwargs)\n"
     ]
    },
    {
     "name": "stdout",
     "output_type": "stream",
     "text": [
      "about to train <function regression_weibull at 0x2a2861670>\n",
      "about to train <function regression_weibull at 0x2a2861670>\n"
     ]
    },
    {
     "name": "stderr",
     "output_type": "stream",
     "text": [
      "/Users/cuongwilliams/miniconda3/envs/jh/lib/python3.8/site-packages/pandas/core/arraylike.py:364: RuntimeWarning: divide by zero encountered in log\n",
      "  result = getattr(ufunc, method)(*inputs, **kwargs)\n",
      "/Users/cuongwilliams/miniconda3/envs/jh/lib/python3.8/site-packages/pandas/core/arraylike.py:364: RuntimeWarning: divide by zero encountered in log\n",
      "  result = getattr(ufunc, method)(*inputs, **kwargs)\n",
      "/tmp/ipykernel_18797/2643545636.py:15: RuntimeWarning: invalid value encountered in log\n",
      "  l = np.sum(df[\"status\"] * (np.divide(np.subtract(np.log(df[\"time\"]),mu),sigma))-np.log(sigma)) # first sum of l\n",
      "/Users/cuongwilliams/miniconda3/envs/jh/lib/python3.8/site-packages/scipy/optimize/_numdiff.py:576: RuntimeWarning: invalid value encountered in subtract\n",
      "  df = fun(x) - f0\n",
      "/Users/cuongwilliams/miniconda3/envs/jh/lib/python3.8/site-packages/pandas/core/arraylike.py:364: RuntimeWarning: divide by zero encountered in log\n",
      "  result = getattr(ufunc, method)(*inputs, **kwargs)\n",
      "/tmp/ipykernel_18797/2643545636.py:15: RuntimeWarning: invalid value encountered in log\n",
      "  l = np.sum(df[\"status\"] * (np.divide(np.subtract(np.log(df[\"time\"]),mu),sigma))-np.log(sigma)) # first sum of l\n",
      "/Users/cuongwilliams/miniconda3/envs/jh/lib/python3.8/site-packages/pandas/core/arraylike.py:364: RuntimeWarning: divide by zero encountered in log\n",
      "  result = getattr(ufunc, method)(*inputs, **kwargs)\n"
     ]
    },
    {
     "name": "stdout",
     "output_type": "stream",
     "text": [
      "about to train <function regression_weibull at 0x2a2861670>\n"
     ]
    },
    {
     "name": "stderr",
     "output_type": "stream",
     "text": [
      "/tmp/ipykernel_18797/2643545636.py:15: RuntimeWarning: invalid value encountered in log\n",
      "  l = np.sum(df[\"status\"] * (np.divide(np.subtract(np.log(df[\"time\"]),mu),sigma))-np.log(sigma)) # first sum of l\n"
     ]
    },
    {
     "name": "stdout",
     "output_type": "stream",
     "text": [
      "c_vals [0.6276538221105024, 0.6435255000039615, 0.6408517507219337, 0.6378520160329774, 0.6236109602924675, 0.6309398499186385, 0.6461346013477061, 0.6503414088570316, 0.6247634423547777, 0.6204342884803586]\n",
      "about to train <function deep_hit at 0x2a2861430>\n",
      "about to train <function deep_hit at 0x2a2861430>\n",
      "about to train <function deep_hit at 0x2a2861430>\n",
      "about to train <function deep_hit at 0x2a2861430>\n",
      "about to train <function deep_hit at 0x2a2861430>\n",
      "about to train <function deep_hit at 0x2a2861430>\n",
      "about to train <function deep_hit at 0x2a2861430>\n",
      "about to train <function deep_hit at 0x2a2861430>\n",
      "about to train <function deep_hit at 0x2a2861430>\n",
      "about to train <function deep_hit at 0x2a2861430>\n",
      "c_vals [0.5928498139126352, 0.5596822370175916, 0.5457792428998937, 0.5918840819877578, 0.5598379432129025, 0.5163963756892224, 0.5801747574869619, 0.5380514739507525, 0.582396903634167, 0.5196150648749329]\n",
      "about to train <function deep_weibull at 0x2a286c0d0>\n"
     ]
    },
    {
     "name": "stderr",
     "output_type": "stream",
     "text": [
      "/Users/cuongwilliams/miniconda3/envs/jh/lib/python3.8/site-packages/keras/optimizers/legacy/rmsprop.py:143: UserWarning: The `lr` argument is deprecated, use `learning_rate` instead.\n",
      "  super().__init__(name, **kwargs)\n"
     ]
    },
    {
     "name": "stdout",
     "output_type": "stream",
     "text": [
      "1/1 [==============================] - 0s 26ms/step\n",
      "about to train <function deep_weibull at 0x2a286c0d0>\n",
      "1/1 [==============================] - 0s 26ms/step\n",
      "about to train <function deep_weibull at 0x2a286c0d0>\n",
      "1/1 [==============================] - 0s 26ms/step\n",
      "about to train <function deep_weibull at 0x2a286c0d0>\n",
      "1/1 [==============================] - 0s 27ms/step\n",
      "about to train <function deep_weibull at 0x2a286c0d0>\n",
      "1/1 [==============================] - 0s 26ms/step\n",
      "about to train <function deep_weibull at 0x2a286c0d0>\n",
      "1/1 [==============================] - 0s 26ms/step\n",
      "about to train <function deep_weibull at 0x2a286c0d0>\n",
      "1/1 [==============================] - 0s 26ms/step\n",
      "about to train <function deep_weibull at 0x2a286c0d0>\n",
      "1/1 [==============================] - 0s 26ms/step\n",
      "about to train <function deep_weibull at 0x2a286c0d0>\n",
      "1/1 [==============================] - 0s 26ms/step\n",
      "about to train <function deep_weibull at 0x2a286c0d0>\n",
      "1/1 [==============================] - 0s 25ms/step\n",
      "c_vals [0.5383609013433635, 0.5672354462071534, 0.5110032650793734, 0.5866821679734027, 0.5233493114913464, 0.542371995956736, 0.5803122785118109, 0.5498446478641368, 0.5535502357557549, 0.5448126361426512]\n",
      "about to train <function regression_weibull at 0x2a2861670>\n"
     ]
    },
    {
     "name": "stderr",
     "output_type": "stream",
     "text": [
      "/tmp/ipykernel_18797/2643545636.py:15: RuntimeWarning: invalid value encountered in log\n",
      "  l = np.sum(df[\"status\"] * (np.divide(np.subtract(np.log(df[\"time\"]),mu),sigma))-np.log(sigma)) # first sum of l\n",
      "/Users/cuongwilliams/miniconda3/envs/jh/lib/python3.8/site-packages/pandas/core/arraylike.py:364: RuntimeWarning: overflow encountered in exp\n",
      "  result = getattr(ufunc, method)(*inputs, **kwargs)\n",
      "/Users/cuongwilliams/miniconda3/envs/jh/lib/python3.8/site-packages/scipy/optimize/_numdiff.py:576: RuntimeWarning: invalid value encountered in subtract\n",
      "  df = fun(x) - f0\n",
      "/tmp/ipykernel_18797/2643545636.py:15: RuntimeWarning: invalid value encountered in log\n",
      "  l = np.sum(df[\"status\"] * (np.divide(np.subtract(np.log(df[\"time\"]),mu),sigma))-np.log(sigma)) # first sum of l\n",
      "/Users/cuongwilliams/miniconda3/envs/jh/lib/python3.8/site-packages/pandas/core/arraylike.py:364: RuntimeWarning: overflow encountered in exp\n",
      "  result = getattr(ufunc, method)(*inputs, **kwargs)\n"
     ]
    },
    {
     "name": "stdout",
     "output_type": "stream",
     "text": [
      "about to train <function regression_weibull at 0x2a2861670>\n",
      "about to train <function regression_weibull at 0x2a2861670>\n"
     ]
    },
    {
     "name": "stderr",
     "output_type": "stream",
     "text": [
      "/tmp/ipykernel_18797/2643545636.py:15: RuntimeWarning: invalid value encountered in log\n",
      "  l = np.sum(df[\"status\"] * (np.divide(np.subtract(np.log(df[\"time\"]),mu),sigma))-np.log(sigma)) # first sum of l\n"
     ]
    },
    {
     "name": "stdout",
     "output_type": "stream",
     "text": [
      "about to train <function regression_weibull at 0x2a2861670>\n",
      "about to train <function regression_weibull at 0x2a2861670>\n"
     ]
    },
    {
     "name": "stderr",
     "output_type": "stream",
     "text": [
      "/Users/cuongwilliams/miniconda3/envs/jh/lib/python3.8/site-packages/pandas/core/arraylike.py:364: RuntimeWarning: divide by zero encountered in log\n",
      "  result = getattr(ufunc, method)(*inputs, **kwargs)\n",
      "/Users/cuongwilliams/miniconda3/envs/jh/lib/python3.8/site-packages/pandas/core/arraylike.py:364: RuntimeWarning: divide by zero encountered in log\n",
      "  result = getattr(ufunc, method)(*inputs, **kwargs)\n",
      "/tmp/ipykernel_18797/2643545636.py:15: RuntimeWarning: invalid value encountered in log\n",
      "  l = np.sum(df[\"status\"] * (np.divide(np.subtract(np.log(df[\"time\"]),mu),sigma))-np.log(sigma)) # first sum of l\n",
      "/Users/cuongwilliams/miniconda3/envs/jh/lib/python3.8/site-packages/scipy/optimize/_numdiff.py:576: RuntimeWarning: invalid value encountered in subtract\n",
      "  df = fun(x) - f0\n",
      "/Users/cuongwilliams/miniconda3/envs/jh/lib/python3.8/site-packages/pandas/core/arraylike.py:364: RuntimeWarning: divide by zero encountered in log\n",
      "  result = getattr(ufunc, method)(*inputs, **kwargs)\n",
      "/tmp/ipykernel_18797/2643545636.py:15: RuntimeWarning: invalid value encountered in log\n",
      "  l = np.sum(df[\"status\"] * (np.divide(np.subtract(np.log(df[\"time\"]),mu),sigma))-np.log(sigma)) # first sum of l\n",
      "/Users/cuongwilliams/miniconda3/envs/jh/lib/python3.8/site-packages/pandas/core/arraylike.py:364: RuntimeWarning: divide by zero encountered in log\n",
      "  result = getattr(ufunc, method)(*inputs, **kwargs)\n"
     ]
    },
    {
     "name": "stdout",
     "output_type": "stream",
     "text": [
      "about to train <function regression_weibull at 0x2a2861670>\n"
     ]
    },
    {
     "name": "stderr",
     "output_type": "stream",
     "text": [
      "/Users/cuongwilliams/miniconda3/envs/jh/lib/python3.8/site-packages/pandas/core/arraylike.py:364: RuntimeWarning: overflow encountered in exp\n",
      "  result = getattr(ufunc, method)(*inputs, **kwargs)\n",
      "/Users/cuongwilliams/miniconda3/envs/jh/lib/python3.8/site-packages/scipy/optimize/_numdiff.py:576: RuntimeWarning: invalid value encountered in subtract\n",
      "  df = fun(x) - f0\n",
      "/Users/cuongwilliams/miniconda3/envs/jh/lib/python3.8/site-packages/pandas/core/arraylike.py:364: RuntimeWarning: overflow encountered in exp\n",
      "  result = getattr(ufunc, method)(*inputs, **kwargs)\n"
     ]
    },
    {
     "name": "stdout",
     "output_type": "stream",
     "text": [
      "about to train <function regression_weibull at 0x2a2861670>\n",
      "about to train <function regression_weibull at 0x2a2861670>\n"
     ]
    },
    {
     "name": "stderr",
     "output_type": "stream",
     "text": [
      "/tmp/ipykernel_18797/2643545636.py:15: RuntimeWarning: invalid value encountered in log\n",
      "  l = np.sum(df[\"status\"] * (np.divide(np.subtract(np.log(df[\"time\"]),mu),sigma))-np.log(sigma)) # first sum of l\n"
     ]
    },
    {
     "name": "stdout",
     "output_type": "stream",
     "text": [
      "about to train <function regression_weibull at 0x2a2861670>\n"
     ]
    },
    {
     "name": "stderr",
     "output_type": "stream",
     "text": [
      "/Users/cuongwilliams/miniconda3/envs/jh/lib/python3.8/site-packages/pandas/core/arraylike.py:364: RuntimeWarning: divide by zero encountered in log\n",
      "  result = getattr(ufunc, method)(*inputs, **kwargs)\n",
      "/Users/cuongwilliams/miniconda3/envs/jh/lib/python3.8/site-packages/pandas/core/arraylike.py:364: RuntimeWarning: divide by zero encountered in log\n",
      "  result = getattr(ufunc, method)(*inputs, **kwargs)\n",
      "/tmp/ipykernel_18797/2643545636.py:15: RuntimeWarning: invalid value encountered in log\n",
      "  l = np.sum(df[\"status\"] * (np.divide(np.subtract(np.log(df[\"time\"]),mu),sigma))-np.log(sigma)) # first sum of l\n",
      "/Users/cuongwilliams/miniconda3/envs/jh/lib/python3.8/site-packages/scipy/optimize/_numdiff.py:576: RuntimeWarning: invalid value encountered in subtract\n",
      "  df = fun(x) - f0\n",
      "/Users/cuongwilliams/miniconda3/envs/jh/lib/python3.8/site-packages/pandas/core/arraylike.py:364: RuntimeWarning: divide by zero encountered in log\n",
      "  result = getattr(ufunc, method)(*inputs, **kwargs)\n",
      "/tmp/ipykernel_18797/2643545636.py:15: RuntimeWarning: invalid value encountered in log\n",
      "  l = np.sum(df[\"status\"] * (np.divide(np.subtract(np.log(df[\"time\"]),mu),sigma))-np.log(sigma)) # first sum of l\n",
      "/Users/cuongwilliams/miniconda3/envs/jh/lib/python3.8/site-packages/pandas/core/arraylike.py:364: RuntimeWarning: divide by zero encountered in log\n",
      "  result = getattr(ufunc, method)(*inputs, **kwargs)\n"
     ]
    },
    {
     "name": "stdout",
     "output_type": "stream",
     "text": [
      "about to train <function regression_weibull at 0x2a2861670>\n"
     ]
    },
    {
     "name": "stderr",
     "output_type": "stream",
     "text": [
      "/Users/cuongwilliams/miniconda3/envs/jh/lib/python3.8/site-packages/pandas/core/arraylike.py:364: RuntimeWarning: divide by zero encountered in log\n",
      "  result = getattr(ufunc, method)(*inputs, **kwargs)\n",
      "/Users/cuongwilliams/miniconda3/envs/jh/lib/python3.8/site-packages/pandas/core/arraylike.py:364: RuntimeWarning: divide by zero encountered in log\n",
      "  result = getattr(ufunc, method)(*inputs, **kwargs)\n",
      "/tmp/ipykernel_18797/2643545636.py:15: RuntimeWarning: invalid value encountered in log\n",
      "  l = np.sum(df[\"status\"] * (np.divide(np.subtract(np.log(df[\"time\"]),mu),sigma))-np.log(sigma)) # first sum of l\n",
      "/Users/cuongwilliams/miniconda3/envs/jh/lib/python3.8/site-packages/scipy/optimize/_numdiff.py:576: RuntimeWarning: invalid value encountered in subtract\n",
      "  df = fun(x) - f0\n",
      "/Users/cuongwilliams/miniconda3/envs/jh/lib/python3.8/site-packages/pandas/core/arraylike.py:364: RuntimeWarning: divide by zero encountered in log\n",
      "  result = getattr(ufunc, method)(*inputs, **kwargs)\n",
      "/tmp/ipykernel_18797/2643545636.py:15: RuntimeWarning: invalid value encountered in log\n",
      "  l = np.sum(df[\"status\"] * (np.divide(np.subtract(np.log(df[\"time\"]),mu),sigma))-np.log(sigma)) # first sum of l\n",
      "/Users/cuongwilliams/miniconda3/envs/jh/lib/python3.8/site-packages/pandas/core/arraylike.py:364: RuntimeWarning: divide by zero encountered in log\n",
      "  result = getattr(ufunc, method)(*inputs, **kwargs)\n"
     ]
    },
    {
     "name": "stdout",
     "output_type": "stream",
     "text": [
      "c_vals [0.644935521055289, 0.6504782999486389, 0.6279570577554076, 0.6094638375249706, 0.6446628718030947, 0.6362962749117084, 0.6210176148648436, 0.6501638916053732, 0.6263870804749597, 0.6444877854427797]\n",
      "about to train <function deep_hit at 0x2a2861430>\n",
      "about to train <function deep_hit at 0x2a2861430>\n",
      "about to train <function deep_hit at 0x2a2861430>\n",
      "about to train <function deep_hit at 0x2a2861430>\n",
      "about to train <function deep_hit at 0x2a2861430>\n",
      "about to train <function deep_hit at 0x2a2861430>\n",
      "about to train <function deep_hit at 0x2a2861430>\n",
      "about to train <function deep_hit at 0x2a2861430>\n",
      "about to train <function deep_hit at 0x2a2861430>\n",
      "about to train <function deep_hit at 0x2a2861430>\n",
      "c_vals [0.6153269674731431, 0.5999839496661531, 0.49036347997833774, 0.5756863699226553, 0.5335653010502686, 0.5299325423174264, 0.6127404852349225, 0.4680833442169676, 0.5757201806038699, 0.5789214946004042]\n",
      "about to train <function deep_weibull at 0x2a286c0d0>\n"
     ]
    },
    {
     "name": "stderr",
     "output_type": "stream",
     "text": [
      "/Users/cuongwilliams/miniconda3/envs/jh/lib/python3.8/site-packages/keras/optimizers/legacy/rmsprop.py:143: UserWarning: The `lr` argument is deprecated, use `learning_rate` instead.\n",
      "  super().__init__(name, **kwargs)\n"
     ]
    },
    {
     "name": "stdout",
     "output_type": "stream",
     "text": [
      "1/1 [==============================] - 0s 26ms/step\n",
      "about to train <function deep_weibull at 0x2a286c0d0>\n",
      "1/1 [==============================] - 0s 25ms/step\n",
      "about to train <function deep_weibull at 0x2a286c0d0>\n",
      "1/1 [==============================] - 0s 26ms/step\n",
      "about to train <function deep_weibull at 0x2a286c0d0>\n",
      "1/1 [==============================] - 0s 26ms/step\n",
      "about to train <function deep_weibull at 0x2a286c0d0>\n",
      "1/1 [==============================] - 0s 26ms/step\n",
      "about to train <function deep_weibull at 0x2a286c0d0>\n",
      "1/1 [==============================] - 0s 26ms/step\n",
      "about to train <function deep_weibull at 0x2a286c0d0>\n",
      "1/1 [==============================] - 0s 26ms/step\n",
      "about to train <function deep_weibull at 0x2a286c0d0>\n",
      "1/1 [==============================] - 0s 26ms/step\n",
      "about to train <function deep_weibull at 0x2a286c0d0>\n",
      "1/1 [==============================] - 0s 26ms/step\n",
      "about to train <function deep_weibull at 0x2a286c0d0>\n",
      "1/1 [==============================] - 0s 26ms/step\n",
      "c_vals [0.5265616416171021, 0.5810477657935285, 0.5274728425344845, 0.5903453618808585, 0.5083845105427723, 0.5683927236801165, 0.5871757993095048, 0.5300627215881399, 0.5646041031022666, 0.5547783450664627]\n",
      "about to train <function regression_weibull at 0x2a2861670>\n"
     ]
    },
    {
     "name": "stderr",
     "output_type": "stream",
     "text": [
      "/Users/cuongwilliams/miniconda3/envs/jh/lib/python3.8/site-packages/pandas/core/arraylike.py:364: RuntimeWarning: divide by zero encountered in log\n",
      "  result = getattr(ufunc, method)(*inputs, **kwargs)\n",
      "/Users/cuongwilliams/miniconda3/envs/jh/lib/python3.8/site-packages/pandas/core/arraylike.py:364: RuntimeWarning: divide by zero encountered in log\n",
      "  result = getattr(ufunc, method)(*inputs, **kwargs)\n",
      "/tmp/ipykernel_18797/2643545636.py:15: RuntimeWarning: invalid value encountered in log\n",
      "  l = np.sum(df[\"status\"] * (np.divide(np.subtract(np.log(df[\"time\"]),mu),sigma))-np.log(sigma)) # first sum of l\n",
      "/Users/cuongwilliams/miniconda3/envs/jh/lib/python3.8/site-packages/scipy/optimize/_numdiff.py:576: RuntimeWarning: invalid value encountered in subtract\n",
      "  df = fun(x) - f0\n",
      "/Users/cuongwilliams/miniconda3/envs/jh/lib/python3.8/site-packages/pandas/core/arraylike.py:364: RuntimeWarning: divide by zero encountered in log\n",
      "  result = getattr(ufunc, method)(*inputs, **kwargs)\n",
      "/tmp/ipykernel_18797/2643545636.py:15: RuntimeWarning: invalid value encountered in log\n",
      "  l = np.sum(df[\"status\"] * (np.divide(np.subtract(np.log(df[\"time\"]),mu),sigma))-np.log(sigma)) # first sum of l\n",
      "/Users/cuongwilliams/miniconda3/envs/jh/lib/python3.8/site-packages/pandas/core/arraylike.py:364: RuntimeWarning: divide by zero encountered in log\n",
      "  result = getattr(ufunc, method)(*inputs, **kwargs)\n"
     ]
    },
    {
     "name": "stdout",
     "output_type": "stream",
     "text": [
      "about to train <function regression_weibull at 0x2a2861670>\n"
     ]
    },
    {
     "name": "stderr",
     "output_type": "stream",
     "text": [
      "/Users/cuongwilliams/miniconda3/envs/jh/lib/python3.8/site-packages/pandas/core/arraylike.py:364: RuntimeWarning: divide by zero encountered in log\n",
      "  result = getattr(ufunc, method)(*inputs, **kwargs)\n",
      "/Users/cuongwilliams/miniconda3/envs/jh/lib/python3.8/site-packages/pandas/core/arraylike.py:364: RuntimeWarning: divide by zero encountered in log\n",
      "  result = getattr(ufunc, method)(*inputs, **kwargs)\n",
      "/tmp/ipykernel_18797/2643545636.py:15: RuntimeWarning: invalid value encountered in log\n",
      "  l = np.sum(df[\"status\"] * (np.divide(np.subtract(np.log(df[\"time\"]),mu),sigma))-np.log(sigma)) # first sum of l\n",
      "/Users/cuongwilliams/miniconda3/envs/jh/lib/python3.8/site-packages/scipy/optimize/_numdiff.py:576: RuntimeWarning: invalid value encountered in subtract\n",
      "  df = fun(x) - f0\n",
      "/Users/cuongwilliams/miniconda3/envs/jh/lib/python3.8/site-packages/pandas/core/arraylike.py:364: RuntimeWarning: divide by zero encountered in log\n",
      "  result = getattr(ufunc, method)(*inputs, **kwargs)\n",
      "/tmp/ipykernel_18797/2643545636.py:15: RuntimeWarning: invalid value encountered in log\n",
      "  l = np.sum(df[\"status\"] * (np.divide(np.subtract(np.log(df[\"time\"]),mu),sigma))-np.log(sigma)) # first sum of l\n",
      "/Users/cuongwilliams/miniconda3/envs/jh/lib/python3.8/site-packages/pandas/core/arraylike.py:364: RuntimeWarning: divide by zero encountered in log\n",
      "  result = getattr(ufunc, method)(*inputs, **kwargs)\n"
     ]
    },
    {
     "name": "stdout",
     "output_type": "stream",
     "text": [
      "about to train <function regression_weibull at 0x2a2861670>\n"
     ]
    },
    {
     "name": "stderr",
     "output_type": "stream",
     "text": [
      "/tmp/ipykernel_18797/2643545636.py:15: RuntimeWarning: invalid value encountered in log\n",
      "  l = np.sum(df[\"status\"] * (np.divide(np.subtract(np.log(df[\"time\"]),mu),sigma))-np.log(sigma)) # first sum of l\n",
      "/Users/cuongwilliams/miniconda3/envs/jh/lib/python3.8/site-packages/pandas/core/arraylike.py:364: RuntimeWarning: overflow encountered in exp\n",
      "  result = getattr(ufunc, method)(*inputs, **kwargs)\n",
      "/Users/cuongwilliams/miniconda3/envs/jh/lib/python3.8/site-packages/scipy/optimize/_numdiff.py:576: RuntimeWarning: invalid value encountered in subtract\n",
      "  df = fun(x) - f0\n",
      "/tmp/ipykernel_18797/2643545636.py:15: RuntimeWarning: invalid value encountered in log\n",
      "  l = np.sum(df[\"status\"] * (np.divide(np.subtract(np.log(df[\"time\"]),mu),sigma))-np.log(sigma)) # first sum of l\n",
      "/Users/cuongwilliams/miniconda3/envs/jh/lib/python3.8/site-packages/pandas/core/arraylike.py:364: RuntimeWarning: overflow encountered in exp\n",
      "  result = getattr(ufunc, method)(*inputs, **kwargs)\n"
     ]
    },
    {
     "name": "stdout",
     "output_type": "stream",
     "text": [
      "about to train <function regression_weibull at 0x2a2861670>\n",
      "about to train <function regression_weibull at 0x2a2861670>\n"
     ]
    },
    {
     "name": "stderr",
     "output_type": "stream",
     "text": [
      "/Users/cuongwilliams/miniconda3/envs/jh/lib/python3.8/site-packages/pandas/core/arraylike.py:364: RuntimeWarning: divide by zero encountered in log\n",
      "  result = getattr(ufunc, method)(*inputs, **kwargs)\n",
      "/Users/cuongwilliams/miniconda3/envs/jh/lib/python3.8/site-packages/pandas/core/arraylike.py:364: RuntimeWarning: divide by zero encountered in log\n",
      "  result = getattr(ufunc, method)(*inputs, **kwargs)\n",
      "/tmp/ipykernel_18797/2643545636.py:15: RuntimeWarning: invalid value encountered in log\n",
      "  l = np.sum(df[\"status\"] * (np.divide(np.subtract(np.log(df[\"time\"]),mu),sigma))-np.log(sigma)) # first sum of l\n",
      "/Users/cuongwilliams/miniconda3/envs/jh/lib/python3.8/site-packages/scipy/optimize/_numdiff.py:576: RuntimeWarning: invalid value encountered in subtract\n",
      "  df = fun(x) - f0\n",
      "/Users/cuongwilliams/miniconda3/envs/jh/lib/python3.8/site-packages/pandas/core/arraylike.py:364: RuntimeWarning: divide by zero encountered in log\n",
      "  result = getattr(ufunc, method)(*inputs, **kwargs)\n",
      "/tmp/ipykernel_18797/2643545636.py:15: RuntimeWarning: invalid value encountered in log\n",
      "  l = np.sum(df[\"status\"] * (np.divide(np.subtract(np.log(df[\"time\"]),mu),sigma))-np.log(sigma)) # first sum of l\n",
      "/Users/cuongwilliams/miniconda3/envs/jh/lib/python3.8/site-packages/pandas/core/arraylike.py:364: RuntimeWarning: divide by zero encountered in log\n",
      "  result = getattr(ufunc, method)(*inputs, **kwargs)\n"
     ]
    },
    {
     "name": "stdout",
     "output_type": "stream",
     "text": [
      "about to train <function regression_weibull at 0x2a2861670>\n"
     ]
    },
    {
     "name": "stderr",
     "output_type": "stream",
     "text": [
      "/Users/cuongwilliams/miniconda3/envs/jh/lib/python3.8/site-packages/pandas/core/arraylike.py:364: RuntimeWarning: divide by zero encountered in log\n",
      "  result = getattr(ufunc, method)(*inputs, **kwargs)\n",
      "/Users/cuongwilliams/miniconda3/envs/jh/lib/python3.8/site-packages/pandas/core/arraylike.py:364: RuntimeWarning: divide by zero encountered in log\n",
      "  result = getattr(ufunc, method)(*inputs, **kwargs)\n",
      "/tmp/ipykernel_18797/2643545636.py:15: RuntimeWarning: invalid value encountered in log\n",
      "  l = np.sum(df[\"status\"] * (np.divide(np.subtract(np.log(df[\"time\"]),mu),sigma))-np.log(sigma)) # first sum of l\n",
      "/Users/cuongwilliams/miniconda3/envs/jh/lib/python3.8/site-packages/scipy/optimize/_numdiff.py:576: RuntimeWarning: invalid value encountered in subtract\n",
      "  df = fun(x) - f0\n",
      "/Users/cuongwilliams/miniconda3/envs/jh/lib/python3.8/site-packages/pandas/core/arraylike.py:364: RuntimeWarning: divide by zero encountered in log\n",
      "  result = getattr(ufunc, method)(*inputs, **kwargs)\n",
      "/tmp/ipykernel_18797/2643545636.py:15: RuntimeWarning: invalid value encountered in log\n",
      "  l = np.sum(df[\"status\"] * (np.divide(np.subtract(np.log(df[\"time\"]),mu),sigma))-np.log(sigma)) # first sum of l\n",
      "/Users/cuongwilliams/miniconda3/envs/jh/lib/python3.8/site-packages/pandas/core/arraylike.py:364: RuntimeWarning: divide by zero encountered in log\n",
      "  result = getattr(ufunc, method)(*inputs, **kwargs)\n"
     ]
    },
    {
     "name": "stdout",
     "output_type": "stream",
     "text": [
      "about to train <function regression_weibull at 0x2a2861670>\n",
      "about to train <function regression_weibull at 0x2a2861670>\n"
     ]
    },
    {
     "name": "stderr",
     "output_type": "stream",
     "text": [
      "/tmp/ipykernel_18797/2643545636.py:15: RuntimeWarning: invalid value encountered in log\n",
      "  l = np.sum(df[\"status\"] * (np.divide(np.subtract(np.log(df[\"time\"]),mu),sigma))-np.log(sigma)) # first sum of l\n",
      "/tmp/ipykernel_18797/2643545636.py:15: RuntimeWarning: invalid value encountered in log\n",
      "  l = np.sum(df[\"status\"] * (np.divide(np.subtract(np.log(df[\"time\"]),mu),sigma))-np.log(sigma)) # first sum of l\n",
      "/Users/cuongwilliams/miniconda3/envs/jh/lib/python3.8/site-packages/pandas/core/arraylike.py:364: RuntimeWarning: divide by zero encountered in log\n",
      "  result = getattr(ufunc, method)(*inputs, **kwargs)\n",
      "/Users/cuongwilliams/miniconda3/envs/jh/lib/python3.8/site-packages/pandas/core/arraylike.py:364: RuntimeWarning: divide by zero encountered in log\n",
      "  result = getattr(ufunc, method)(*inputs, **kwargs)\n",
      "/tmp/ipykernel_18797/2643545636.py:15: RuntimeWarning: invalid value encountered in log\n",
      "  l = np.sum(df[\"status\"] * (np.divide(np.subtract(np.log(df[\"time\"]),mu),sigma))-np.log(sigma)) # first sum of l\n",
      "/Users/cuongwilliams/miniconda3/envs/jh/lib/python3.8/site-packages/scipy/optimize/_numdiff.py:576: RuntimeWarning: invalid value encountered in subtract\n",
      "  df = fun(x) - f0\n",
      "/Users/cuongwilliams/miniconda3/envs/jh/lib/python3.8/site-packages/pandas/core/arraylike.py:364: RuntimeWarning: divide by zero encountered in log\n",
      "  result = getattr(ufunc, method)(*inputs, **kwargs)\n",
      "/tmp/ipykernel_18797/2643545636.py:15: RuntimeWarning: invalid value encountered in log\n",
      "  l = np.sum(df[\"status\"] * (np.divide(np.subtract(np.log(df[\"time\"]),mu),sigma))-np.log(sigma)) # first sum of l\n",
      "/Users/cuongwilliams/miniconda3/envs/jh/lib/python3.8/site-packages/pandas/core/arraylike.py:364: RuntimeWarning: divide by zero encountered in log\n",
      "  result = getattr(ufunc, method)(*inputs, **kwargs)\n"
     ]
    },
    {
     "name": "stdout",
     "output_type": "stream",
     "text": [
      "about to train <function regression_weibull at 0x2a2861670>\n",
      "about to train <function regression_weibull at 0x2a2861670>\n"
     ]
    },
    {
     "name": "stderr",
     "output_type": "stream",
     "text": [
      "/tmp/ipykernel_18797/2643545636.py:15: RuntimeWarning: invalid value encountered in log\n",
      "  l = np.sum(df[\"status\"] * (np.divide(np.subtract(np.log(df[\"time\"]),mu),sigma))-np.log(sigma)) # first sum of l\n",
      "/tmp/ipykernel_18797/2643545636.py:15: RuntimeWarning: invalid value encountered in log\n",
      "  l = np.sum(df[\"status\"] * (np.divide(np.subtract(np.log(df[\"time\"]),mu),sigma))-np.log(sigma)) # first sum of l\n",
      "/Users/cuongwilliams/miniconda3/envs/jh/lib/python3.8/site-packages/pandas/core/arraylike.py:364: RuntimeWarning: divide by zero encountered in log\n",
      "  result = getattr(ufunc, method)(*inputs, **kwargs)\n",
      "/Users/cuongwilliams/miniconda3/envs/jh/lib/python3.8/site-packages/pandas/core/arraylike.py:364: RuntimeWarning: divide by zero encountered in log\n",
      "  result = getattr(ufunc, method)(*inputs, **kwargs)\n"
     ]
    },
    {
     "name": "stdout",
     "output_type": "stream",
     "text": [
      "c_vals [0.6338612741005686, 0.6587188484246075, 0.6385967548076923, 0.6357300959417777, 0.6285943787813438, 0.6430744462989926, 0.6038564435900993, 0.6164175343298627, 0.5835656738136833, 0.6230041700359923]\n",
      "about to train <function deep_hit at 0x2a2861430>\n",
      "about to train <function deep_hit at 0x2a2861430>\n",
      "about to train <function deep_hit at 0x2a2861430>\n",
      "about to train <function deep_hit at 0x2a2861430>\n",
      "about to train <function deep_hit at 0x2a2861430>\n",
      "about to train <function deep_hit at 0x2a2861430>\n",
      "about to train <function deep_hit at 0x2a2861430>\n",
      "about to train <function deep_hit at 0x2a2861430>\n",
      "about to train <function deep_hit at 0x2a2861430>\n",
      "about to train <function deep_hit at 0x2a2861430>\n",
      "c_vals [0.5193773912630617, 0.5615806218539054, 0.5769507527834008, 0.5848924367152513, 0.5815701900514797, 0.6118864700845595, 0.5520065000693605, 0.5753456986172055, 0.6101885408492028, 0.5667800345653173]\n",
      "about to train <function deep_weibull at 0x2a286c0d0>\n"
     ]
    },
    {
     "name": "stderr",
     "output_type": "stream",
     "text": [
      "/Users/cuongwilliams/miniconda3/envs/jh/lib/python3.8/site-packages/keras/optimizers/legacy/rmsprop.py:143: UserWarning: The `lr` argument is deprecated, use `learning_rate` instead.\n",
      "  super().__init__(name, **kwargs)\n"
     ]
    },
    {
     "name": "stdout",
     "output_type": "stream",
     "text": [
      "1/1 [==============================] - 0s 25ms/step\n",
      "about to train <function deep_weibull at 0x2a286c0d0>\n",
      "1/1 [==============================] - 0s 25ms/step\n",
      "about to train <function deep_weibull at 0x2a286c0d0>\n",
      "1/1 [==============================] - 0s 25ms/step\n",
      "about to train <function deep_weibull at 0x2a286c0d0>\n",
      "1/1 [==============================] - 0s 25ms/step\n",
      "about to train <function deep_weibull at 0x2a286c0d0>\n",
      "1/1 [==============================] - 0s 26ms/step\n",
      "about to train <function deep_weibull at 0x2a286c0d0>\n",
      "1/1 [==============================] - 0s 25ms/step\n",
      "about to train <function deep_weibull at 0x2a286c0d0>\n",
      "1/1 [==============================] - 0s 25ms/step\n",
      "about to train <function deep_weibull at 0x2a286c0d0>\n",
      "1/1 [==============================] - 0s 26ms/step\n",
      "about to train <function deep_weibull at 0x2a286c0d0>\n",
      "1/1 [==============================] - 0s 25ms/step\n",
      "about to train <function deep_weibull at 0x2a286c0d0>\n",
      "1/1 [==============================] - 0s 25ms/step\n",
      "c_vals [0.5258147604483606, 0.5872363867166449, 0.5212985513663968, 0.6173891007289675, 0.507532021478231, 0.5688648981379547, 0.5941221933770635, 0.5361378554485782, 0.5460467940957255, 0.5385094103283705]\n",
      "about to train <function regression_weibull at 0x2a2861670>\n"
     ]
    },
    {
     "name": "stderr",
     "output_type": "stream",
     "text": [
      "/Users/cuongwilliams/miniconda3/envs/jh/lib/python3.8/site-packages/pandas/core/arraylike.py:364: RuntimeWarning: overflow encountered in exp\n",
      "  result = getattr(ufunc, method)(*inputs, **kwargs)\n",
      "/Users/cuongwilliams/miniconda3/envs/jh/lib/python3.8/site-packages/scipy/optimize/_numdiff.py:576: RuntimeWarning: invalid value encountered in subtract\n",
      "  df = fun(x) - f0\n",
      "/Users/cuongwilliams/miniconda3/envs/jh/lib/python3.8/site-packages/pandas/core/arraylike.py:364: RuntimeWarning: overflow encountered in exp\n",
      "  result = getattr(ufunc, method)(*inputs, **kwargs)\n"
     ]
    },
    {
     "name": "stdout",
     "output_type": "stream",
     "text": [
      "about to train <function regression_weibull at 0x2a2861670>\n",
      "about to train <function regression_weibull at 0x2a2861670>\n",
      "about to train <function regression_weibull at 0x2a2861670>\n"
     ]
    },
    {
     "name": "stderr",
     "output_type": "stream",
     "text": [
      "/Users/cuongwilliams/miniconda3/envs/jh/lib/python3.8/site-packages/pandas/core/arraylike.py:364: RuntimeWarning: divide by zero encountered in log\n",
      "  result = getattr(ufunc, method)(*inputs, **kwargs)\n",
      "/Users/cuongwilliams/miniconda3/envs/jh/lib/python3.8/site-packages/pandas/core/arraylike.py:364: RuntimeWarning: divide by zero encountered in log\n",
      "  result = getattr(ufunc, method)(*inputs, **kwargs)\n"
     ]
    },
    {
     "name": "stdout",
     "output_type": "stream",
     "text": [
      "about to train <function regression_weibull at 0x2a2861670>\n",
      "about to train <function regression_weibull at 0x2a2861670>\n"
     ]
    },
    {
     "name": "stderr",
     "output_type": "stream",
     "text": [
      "/tmp/ipykernel_18797/2643545636.py:15: RuntimeWarning: invalid value encountered in log\n",
      "  l = np.sum(df[\"status\"] * (np.divide(np.subtract(np.log(df[\"time\"]),mu),sigma))-np.log(sigma)) # first sum of l\n",
      "/tmp/ipykernel_18797/2643545636.py:15: RuntimeWarning: invalid value encountered in log\n",
      "  l = np.sum(df[\"status\"] * (np.divide(np.subtract(np.log(df[\"time\"]),mu),sigma))-np.log(sigma)) # first sum of l\n",
      "/Users/cuongwilliams/miniconda3/envs/jh/lib/python3.8/site-packages/pandas/core/arraylike.py:364: RuntimeWarning: divide by zero encountered in log\n",
      "  result = getattr(ufunc, method)(*inputs, **kwargs)\n",
      "/Users/cuongwilliams/miniconda3/envs/jh/lib/python3.8/site-packages/pandas/core/arraylike.py:364: RuntimeWarning: divide by zero encountered in log\n",
      "  result = getattr(ufunc, method)(*inputs, **kwargs)\n",
      "/tmp/ipykernel_18797/2643545636.py:15: RuntimeWarning: invalid value encountered in log\n",
      "  l = np.sum(df[\"status\"] * (np.divide(np.subtract(np.log(df[\"time\"]),mu),sigma))-np.log(sigma)) # first sum of l\n",
      "/Users/cuongwilliams/miniconda3/envs/jh/lib/python3.8/site-packages/scipy/optimize/_numdiff.py:576: RuntimeWarning: invalid value encountered in subtract\n",
      "  df = fun(x) - f0\n",
      "/Users/cuongwilliams/miniconda3/envs/jh/lib/python3.8/site-packages/pandas/core/arraylike.py:364: RuntimeWarning: divide by zero encountered in log\n",
      "  result = getattr(ufunc, method)(*inputs, **kwargs)\n",
      "/tmp/ipykernel_18797/2643545636.py:15: RuntimeWarning: invalid value encountered in log\n",
      "  l = np.sum(df[\"status\"] * (np.divide(np.subtract(np.log(df[\"time\"]),mu),sigma))-np.log(sigma)) # first sum of l\n",
      "/Users/cuongwilliams/miniconda3/envs/jh/lib/python3.8/site-packages/pandas/core/arraylike.py:364: RuntimeWarning: divide by zero encountered in log\n",
      "  result = getattr(ufunc, method)(*inputs, **kwargs)\n"
     ]
    },
    {
     "name": "stdout",
     "output_type": "stream",
     "text": [
      "about to train <function regression_weibull at 0x2a2861670>\n",
      "about to train <function regression_weibull at 0x2a2861670>\n"
     ]
    },
    {
     "name": "stderr",
     "output_type": "stream",
     "text": [
      "/tmp/ipykernel_18797/2643545636.py:15: RuntimeWarning: invalid value encountered in log\n",
      "  l = np.sum(df[\"status\"] * (np.divide(np.subtract(np.log(df[\"time\"]),mu),sigma))-np.log(sigma)) # first sum of l\n",
      "/tmp/ipykernel_18797/2643545636.py:15: RuntimeWarning: invalid value encountered in log\n",
      "  l = np.sum(df[\"status\"] * (np.divide(np.subtract(np.log(df[\"time\"]),mu),sigma))-np.log(sigma)) # first sum of l\n",
      "/Users/cuongwilliams/miniconda3/envs/jh/lib/python3.8/site-packages/pandas/core/arraylike.py:364: RuntimeWarning: divide by zero encountered in log\n",
      "  result = getattr(ufunc, method)(*inputs, **kwargs)\n",
      "/Users/cuongwilliams/miniconda3/envs/jh/lib/python3.8/site-packages/pandas/core/arraylike.py:364: RuntimeWarning: divide by zero encountered in log\n",
      "  result = getattr(ufunc, method)(*inputs, **kwargs)\n",
      "/tmp/ipykernel_18797/2643545636.py:15: RuntimeWarning: invalid value encountered in log\n",
      "  l = np.sum(df[\"status\"] * (np.divide(np.subtract(np.log(df[\"time\"]),mu),sigma))-np.log(sigma)) # first sum of l\n",
      "/Users/cuongwilliams/miniconda3/envs/jh/lib/python3.8/site-packages/scipy/optimize/_numdiff.py:576: RuntimeWarning: invalid value encountered in subtract\n",
      "  df = fun(x) - f0\n",
      "/Users/cuongwilliams/miniconda3/envs/jh/lib/python3.8/site-packages/pandas/core/arraylike.py:364: RuntimeWarning: divide by zero encountered in log\n",
      "  result = getattr(ufunc, method)(*inputs, **kwargs)\n",
      "/tmp/ipykernel_18797/2643545636.py:15: RuntimeWarning: invalid value encountered in log\n",
      "  l = np.sum(df[\"status\"] * (np.divide(np.subtract(np.log(df[\"time\"]),mu),sigma))-np.log(sigma)) # first sum of l\n",
      "/Users/cuongwilliams/miniconda3/envs/jh/lib/python3.8/site-packages/pandas/core/arraylike.py:364: RuntimeWarning: divide by zero encountered in log\n",
      "  result = getattr(ufunc, method)(*inputs, **kwargs)\n"
     ]
    },
    {
     "name": "stdout",
     "output_type": "stream",
     "text": [
      "about to train <function regression_weibull at 0x2a2861670>\n",
      "about to train <function regression_weibull at 0x2a2861670>\n"
     ]
    },
    {
     "name": "stderr",
     "output_type": "stream",
     "text": [
      "/tmp/ipykernel_18797/2643545636.py:15: RuntimeWarning: invalid value encountered in log\n",
      "  l = np.sum(df[\"status\"] * (np.divide(np.subtract(np.log(df[\"time\"]),mu),sigma))-np.log(sigma)) # first sum of l\n",
      "/tmp/ipykernel_18797/2643545636.py:15: RuntimeWarning: invalid value encountered in log\n",
      "  l = np.sum(df[\"status\"] * (np.divide(np.subtract(np.log(df[\"time\"]),mu),sigma))-np.log(sigma)) # first sum of l\n",
      "/Users/cuongwilliams/miniconda3/envs/jh/lib/python3.8/site-packages/pandas/core/arraylike.py:364: RuntimeWarning: divide by zero encountered in log\n",
      "  result = getattr(ufunc, method)(*inputs, **kwargs)\n",
      "/Users/cuongwilliams/miniconda3/envs/jh/lib/python3.8/site-packages/pandas/core/arraylike.py:364: RuntimeWarning: divide by zero encountered in log\n",
      "  result = getattr(ufunc, method)(*inputs, **kwargs)\n"
     ]
    },
    {
     "name": "stdout",
     "output_type": "stream",
     "text": [
      "c_vals [0.6321975259476815, 0.6172868220890471, 0.6253651557004034, 0.6242176694759256, 0.6040797265609475, 0.6193239489619591, 0.6027712688800301, 0.6260674064601295, 0.5882498597684537, 0.624212105055981]\n",
      "about to train <function deep_hit at 0x2a2861430>\n",
      "about to train <function deep_hit at 0x2a2861430>\n",
      "about to train <function deep_hit at 0x2a2861430>\n",
      "about to train <function deep_hit at 0x2a2861430>\n",
      "about to train <function deep_hit at 0x2a2861430>\n",
      "about to train <function deep_hit at 0x2a2861430>\n",
      "about to train <function deep_hit at 0x2a2861430>\n",
      "about to train <function deep_hit at 0x2a2861430>\n",
      "about to train <function deep_hit at 0x2a2861430>\n",
      "about to train <function deep_hit at 0x2a2861430>\n",
      "c_vals [0.5440724792791896, 0.5781128602039857, 0.5806770533177004, 0.5671237102118387, 0.5207811692699018, 0.525575960429179, 0.5615319071239463, 0.5497813621550266, 0.6104443444996387, 0.5545883513625288]\n",
      "about to train <function deep_weibull at 0x2a286c0d0>\n"
     ]
    },
    {
     "name": "stderr",
     "output_type": "stream",
     "text": [
      "/Users/cuongwilliams/miniconda3/envs/jh/lib/python3.8/site-packages/keras/optimizers/legacy/rmsprop.py:143: UserWarning: The `lr` argument is deprecated, use `learning_rate` instead.\n",
      "  super().__init__(name, **kwargs)\n"
     ]
    },
    {
     "name": "stdout",
     "output_type": "stream",
     "text": [
      "1/1 [==============================] - 0s 26ms/step\n",
      "about to train <function deep_weibull at 0x2a286c0d0>\n",
      "1/1 [==============================] - 0s 25ms/step\n",
      "about to train <function deep_weibull at 0x2a286c0d0>\n",
      "1/1 [==============================] - 0s 26ms/step\n",
      "about to train <function deep_weibull at 0x2a286c0d0>\n",
      "1/1 [==============================] - 0s 25ms/step\n",
      "about to train <function deep_weibull at 0x2a286c0d0>\n",
      "1/1 [==============================] - 0s 27ms/step\n",
      "about to train <function deep_weibull at 0x2a286c0d0>\n",
      "1/1 [==============================] - 0s 25ms/step\n",
      "about to train <function deep_weibull at 0x2a286c0d0>\n",
      "1/1 [==============================] - 0s 26ms/step\n",
      "about to train <function deep_weibull at 0x2a286c0d0>\n",
      "1/1 [==============================] - 0s 26ms/step\n",
      "about to train <function deep_weibull at 0x2a286c0d0>\n",
      "1/1 [==============================] - 0s 26ms/step\n",
      "about to train <function deep_weibull at 0x2a286c0d0>\n",
      "1/1 [==============================] - 0s 26ms/step\n",
      "c_vals [0.5360927894068745, 0.5999861436213646, 0.5148446970449713, 0.6063770509746171, 0.5216157942848059, 0.5550114622685884, 0.6051753344897193, 0.5671331628233158, 0.5434010319020451, 0.5549271773305496]\n"
     ]
    }
   ],
   "source": [
    "\n",
    "def c_index(ev):\n",
    "\n",
    "    return ev.concordance_td('antolini')\n",
    "\n",
    "models=[\"regression_weibull\",\"deep_hit\",\"deep_weibull\"]\n",
    "#models=[\"deep_weibull\"]\n",
    "all_splits = [1,2,3,4,5,6,7,8,9,10]\n",
    "\n",
    "results_df = pd.DataFrame()\n",
    "#for train_frac in np.arange(0.60, 0.70, 0.05).tolist():\n",
    "for train_frac in np.arange(0.05, 0.65, 0.05).tolist():\n",
    "\n",
    "    df = metabric.read_df() # read in dataset\n",
    "    df = normalise(df, ['x0', 'x1', 'x2', 'x3', 'x8']) # normalise cols where appropriate\n",
    "    df.rename(columns={\"duration\": \"time\", \"event\": \"status\"}, inplace=True) # rename duration/event cols\n",
    "    make_train_test(df, train_frac=train_frac, dataset=\"metabric_temp\", n_splits=10) # make train/test splits\n",
    "\n",
    "    for model in models:\n",
    "\n",
    "        c_vals = [None] * len(all_splits) #10\n",
    "\n",
    "        for split in all_splits:\n",
    "\n",
    "            # run the model\n",
    "            f_model = globals()[model]\n",
    "            print(\"about to train\", f_model)\n",
    "            #gw result = f_model(\"metabric_temp\", split)\n",
    "            if model==\"deep_weibull\":\n",
    "                result = deep_weibull(\"metabric_temp\", split)\n",
    "            elif model==\"regression_weibull\":\n",
    "                result = regression_weibull(\"metabric_temp\", split)\n",
    "            elif model==\"deep_hit\":\n",
    "                result = deep_hit(\"metabric_temp\", split)\n",
    "            \n",
    "            # get evaluation object\n",
    "            ev = result[\"ev\"]\n",
    "            # compute c index\n",
    "            c_vals[split-1] = c_index(ev)\n",
    "\n",
    "        print(\"c_vals\",c_vals)\n",
    "        c = np.mean(c_vals)\n",
    "        c = round(c, ndigits=3)\n",
    "\n",
    "        new_row = {'train_frac':train_frac, 'model':model, 'mean_c':c}\n",
    "        results_df = results_df.append(new_row, ignore_index=True)\n",
    "\n",
    "\n"
   ]
  },
  {
   "cell_type": "code",
   "execution_count": 15,
   "id": "10643953-a016-4c50-8d8d-b67418db128b",
   "metadata": {
    "tags": []
   },
   "outputs": [
    {
     "name": "stdout",
     "output_type": "stream",
     "text": [
      "    train_frac               model  mean_c\n",
      "0         0.05  regression_weibull   0.602\n",
      "1         0.05            deep_hit   0.501\n",
      "2         0.05        deep_weibull   0.529\n",
      "3         0.10  regression_weibull   0.616\n",
      "4         0.10            deep_hit   0.506\n",
      "5         0.10        deep_weibull   0.535\n",
      "6         0.15  regression_weibull   0.618\n",
      "7         0.15            deep_hit   0.530\n",
      "8         0.15        deep_weibull   0.541\n",
      "9         0.20  regression_weibull   0.622\n",
      "10        0.20            deep_hit   0.530\n",
      "11        0.20        deep_weibull   0.547\n",
      "12        0.25  regression_weibull   0.629\n",
      "13        0.25            deep_hit   0.533\n",
      "14        0.25        deep_weibull   0.552\n",
      "15        0.30  regression_weibull   0.632\n",
      "16        0.30            deep_hit   0.523\n",
      "17        0.30        deep_weibull   0.549\n",
      "18        0.35  regression_weibull   0.627\n",
      "19        0.35            deep_hit   0.533\n",
      "20        0.35        deep_weibull   0.555\n",
      "21        0.40  regression_weibull   0.624\n",
      "22        0.40            deep_hit   0.556\n",
      "23        0.40        deep_weibull   0.552\n",
      "24        0.45  regression_weibull   0.635\n",
      "25        0.45            deep_hit   0.559\n",
      "26        0.45        deep_weibull   0.550\n",
      "27        0.50  regression_weibull   0.636\n",
      "28        0.50            deep_hit   0.558\n",
      "29        0.50        deep_weibull   0.554\n",
      "30        0.55  regression_weibull   0.627\n",
      "31        0.55            deep_hit   0.574\n",
      "32        0.55        deep_weibull   0.554\n",
      "33        0.60  regression_weibull   0.616\n",
      "34        0.60            deep_hit   0.559\n",
      "35        0.60        deep_weibull   0.560\n"
     ]
    }
   ],
   "source": [
    "print(results_df)"
   ]
  },
  {
   "cell_type": "code",
   "execution_count": 16,
   "id": "89fa4f29-dfef-454f-b4e5-95e26d62fd12",
   "metadata": {
    "tags": []
   },
   "outputs": [
    {
     "name": "stderr",
     "output_type": "stream",
     "text": [
      "/tmp/ipykernel_18797/3323902851.py:16: UserWarning: You have mixed positional and keyword arguments, some input may be discarded.\n",
      "  ax.legend([l1, l3, l3],     # The line objects\n"
     ]
    },
    {
     "data": {
      "text/plain": [
       "Text(0, 0.5, '$c$-index')"
      ]
     },
     "execution_count": 16,
     "metadata": {},
     "output_type": "execute_result"
    },
    {
     "data": {
      "image/png": "[encoded data removed]",
      "text/plain": [
       "<Figure size 640x480 with 1 Axes>"
      ]
     },
     "metadata": {},
     "output_type": "display_data"
    }
   ],
   "source": [
    "\n",
    "##results_df.to_csv(\"metabric_size_results.csv\")\n",
    "\n",
    "\n",
    "\n",
    "fig = plt.figure()\n",
    "ax = plt.axes()\n",
    "\n",
    "results_rw = results_df[results_df[\"model\"]==\"regression_weibull\"]\n",
    "results_dw = results_df[results_df[\"model\"]==\"deep_weibull\"]\n",
    "results_dh = results_df[results_df[\"model\"]==\"deep_hit\"]\n",
    "\n",
    "l1 = ax.plot(results_rw[\"train_frac\"], results_rw[\"mean_c\"], color=\"blue\")[0]\n",
    "l2 = ax.plot(results_dw[\"train_frac\"], results_dw[\"mean_c\"], color=\"orange\")[0]\n",
    "l3 = ax.plot(results_dh[\"train_frac\"], results_dh[\"mean_c\"], color=\"green\")[0]\n",
    "\n",
    "ax.legend([l1, l3, l3],     # The line objects\n",
    "#ax.legend([l2],     # The line objects\n",
    "           labels=[\"RegressionWeibull\",\"DeepWeibull\",\"DeepHit\"]  # The labels for each line\n",
    "          #labels=[\"DeepWeibull\"] \n",
    "           )\n",
    "\n",
    "plt.xlabel('Proportion of individuals in training set (%)')\n",
    "plt.ylabel(r'$c$'+\"-index\")\n",
    "\n",
    "#plot_file_path = \"plots/real_data_experiments/metabric_training_size.pdf\"\n",
    "#plt.savefig(plot_file_path)"
   ]
  },
  {
   "cell_type": "code",
   "execution_count": null,
   "id": "916c97c3-5993-4a79-a353-3d62ef46949d",
   "metadata": {},
   "outputs": [],
   "source": []
  }
 ],
 "metadata": {
  "kernelspec": {
   "display_name": "Python 3 (ipykernel)",
   "language": "python",
   "name": "python3"
  },
  "language_info": {
   "codemirror_mode": {
    "name": "ipython",
    "version": 3
   },
   "file_extension": ".py",
   "mimetype": "text/x-python",
   "name": "python",
   "nbconvert_exporter": "python",
   "pygments_lexer": "ipython3",
   "version": "3.8.16"
  }
 },
 "nbformat": 4,
 "nbformat_minor": 5
}
