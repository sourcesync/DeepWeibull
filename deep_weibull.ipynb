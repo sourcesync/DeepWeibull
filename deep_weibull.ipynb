{
 "cells": [
  {
   "cell_type": "markdown",
   "id": "3fe34f84-ad8a-44cb-bdd9-85c3e897b52c",
   "metadata": {},
   "source": [
    "# Intro Survival Analysis and Prediction"
   ]
  },
  {
   "cell_type": "code",
   "execution_count": 13,
   "id": "f8bc9b26-bdb5-4447-bf86-12d43765e72c",
   "metadata": {
    "tags": []
   },
   "outputs": [],
   "source": [
    "# In this cell, we will \"import\" all the python packages \n",
    "# we will need for this notebook.  \n",
    "\n",
    "# These packages are built-in to python.\n",
    "import random\n",
    "import os\n",
    "import math\n",
    "\n",
    "# These are common math and data science related packagee.\n",
    "import pandas as pd\n",
    "import matplotlib.pyplot as plt\n",
    "import numpy as np\n",
    "from sklearn_pandas import DataFrameMapper \n",
    "\n",
    "# These are common machine learned related packages.\n",
    "import scipy.optimize\n",
    "import torch\n",
    "import torchtuples as tt\n",
    "import tensorflow as tf\n",
    "from keras.models import Sequential\n",
    "from keras import initializers\n",
    "from keras.layers import Dense, LSTM, Activation, Masking, Dropout\n",
    "from tensorflow.keras.layers import BatchNormalization\n",
    "from tensorflow.keras.callbacks import EarlyStopping\n",
    "from keras.optimizers import RMSprop\n",
    "from keras import backend as k\n",
    "\n",
    "# \"pycox\" is a survival analysis package built with pytorch.\n",
    "# More information about this package: https://pypi.org/project/pycox/\n",
    "from pycox.datasets import metabric\n",
    "from pycox.evaluation import EvalSurv\n",
    "from pycox.models import DeepHitSingle\n"
   ]
  },
  {
   "cell_type": "markdown",
   "id": "21882eca-538e-4bc5-8253-5c7d91f8e12e",
   "metadata": {},
   "source": [
    "# Metabric Cancer Data \n",
    "\n",
    "\"Cancers are associated with genetic abnormalities. Gene expression measures the level of gene activity in a tissue and gives information about its complex activities. Comparing the genes expressed in normal and diseased tissue can bring better insights into the cancer prognosis and outcomes. Using machine learning techniques on genetic data has the potentials of giving the correct estimation of survival time and can prevent unnecessary surgical and treatment procedures.\" [ Kaggle, https://www.kaggle.com/datasets/raghadalharbi/breast-cancer-gene-expression-profiles-metabric ]\n",
    "\n",
    "The \"metabric\" dataset contains gene expression data from tumor samples of actual cancer patients gathered in a clinical setting.  Here is a description of the tabular dataset:\n",
    "\n",
    "|Column         | Description                 | \n",
    "| ------------- |:---------------------------:| \n",
    "| col 3 is      | right-aligned               |\n",
    "| col 2 is      | centered                    |\n",
    "| zebra stripes | are neat                    |"
   ]
  },
  {
   "cell_type": "code",
   "execution_count": 14,
   "id": "ae59aaaf-bcca-4ad3-b8ac-cef938ec7597",
   "metadata": {
    "tags": []
   },
   "outputs": [
    {
     "name": "stdout",
     "output_type": "stream",
     "text": [
      "Index(['x0', 'x1', 'x2', 'x3', 'x4', 'x5', 'x6', 'x7', 'x8', 'duration',\n",
      "       'event'],\n",
      "      dtype='object')\n"
     ]
    }
   ],
   "source": [
    "\n",
    "# read in dataset into a pandas dataframe\n",
    "df = metabric.read_df() \n",
    "print(df.columns)\n",
    "\n",
    "\n",
    "\n"
   ]
  },
  {
   "cell_type": "markdown",
   "id": "784e58f9-3bc1-4a6e-a256-0fc56c2f667a",
   "metadata": {},
   "source": [
    "# Evaluation Metrics\n",
    "\n",
    "Concordance Index\n",
    "\n"
   ]
  },
  {
   "cell_type": "markdown",
   "id": "8625191c-a4d0-42d2-86d0-8e40613ef89f",
   "metadata": {},
   "source": [
    "# Wrangle"
   ]
  },
  {
   "cell_type": "code",
   "execution_count": 3,
   "id": "b2eddfbd-22b3-44ba-b9b9-df654ac98171",
   "metadata": {
    "tags": []
   },
   "outputs": [],
   "source": [
    "def normalise(df, colnames):\n",
    "    df[colnames] = df[colnames].apply(lambda x: (x-x.mean())/ x.std(), axis=0)\n",
    "    return df\n"
   ]
  },
  {
   "cell_type": "markdown",
   "id": "fcefdd8c-94c3-486f-8afd-4f5f9e7d5ac7",
   "metadata": {},
   "source": [
    "# Data Splits"
   ]
  },
  {
   "cell_type": "code",
   "execution_count": 4,
   "id": "fa94d4bf-06fb-4174-a458-e8b6d636e4bd",
   "metadata": {
    "tags": []
   },
   "outputs": [],
   "source": [
    "\n",
    "\n",
    "def make_train_test(df, train_frac, dataset, n_splits=3):\n",
    "\n",
    "    os.makedirs( \"datasets/\" + dataset, exist_ok=True)\n",
    " \n",
    "    full_file_path = \"datasets/\" + dataset + \"/full.csv\"\n",
    "    df.to_csv(full_file_path, index=False)\n",
    "    \n",
    "    for i in range(1, n_splits+1):\n",
    "\n",
    "        # set seed equal to loop index\n",
    "        random.seed(123*i)\n",
    "\n",
    "        # set output file paths\n",
    "        train_file_path = \"datasets/\" + dataset + \"/train_\" + str(i) + \".csv\"\n",
    "        test_file_path = \"datasets/\" + dataset + \"/test_\" + str(i) + \".csv\"\n",
    "\n",
    "        # create splits (different each time - sample depends on seed)\n",
    "        train_df = df.groupby(\"status\").apply(lambda x: x.sample(frac=train_frac)) # censoring frac. equal in train and test sets\n",
    "        train_df = train_df.reset_index(level=\"status\", drop=True)\n",
    "        train_df = train_df.sort_index()\n",
    "        test_df = df.drop(train_df.index)\n",
    "\n",
    "        # save the resulting file\n",
    "        train_df.to_csv(train_file_path, index=False)\n",
    "        test_df.to_csv(test_file_path, index=False)\n",
    "\n",
    "    \n"
   ]
  },
  {
   "cell_type": "markdown",
   "id": "8dbfab65-eed6-41bb-a6fc-02884e291af0",
   "metadata": {},
   "source": [
    "# define the models\n",
    "\n"
   ]
  },
  {
   "cell_type": "markdown",
   "id": "75b43566-1e13-4e2f-89a0-f8de0cfe2528",
   "metadata": {},
   "source": [
    "# define regression weibull\n",
    "\n"
   ]
  },
  {
   "cell_type": "code",
   "execution_count": 5,
   "id": "e2ccda27-112c-4a52-b77c-fbf19fd9d11c",
   "metadata": {
    "tags": []
   },
   "outputs": [],
   "source": [
    "\n",
    "def weibull_surv(t, alpha, beta):\n",
    "\n",
    "    S = np.empty((len(t),len(alpha)))\n",
    "    \n",
    "    for i in range(len(alpha)):\n",
    "        S[:,i] = np.exp(-np.power(np.divide(t, alpha[i]), beta[i]))\n",
    "\n",
    "    return S\n",
    "\n",
    "def regression_gumbel_loglkhd(theta, sigma, df):\n",
    "    \n",
    "    x = df.drop([\"time\", \"status\"], axis=1) # Pandas dataframe of covariate columns\n",
    "    mu = theta[0] + x.dot(np.array(theta[1:])) # mu = theta_0 + < theta[1:p], x >\n",
    "     \n",
    "    l = np.sum(df[\"status\"] * (np.divide(np.subtract(np.log(df[\"time\"]),mu),sigma))-np.log(sigma)) # first sum of l\n",
    "    l -= np.sum(np.exp(np.divide(np.subtract(np.log(df[\"time\"]),mu),sigma))) # second sum of l\n",
    "    \n",
    "    return l\n",
    "\n",
    "def regression_weibull(dataset, split):\n",
    "\n",
    "    \"\"\"\n",
    "    Paths to input and output files\n",
    "    \"\"\"\n",
    "    train_path = \"datasets/\" + dataset + \"/train_\" + str(split) + \".csv\" # training set data\n",
    "    test_path = \"datasets/\" + dataset + \"/test_\" + str(split) + \".csv\" # test set data\n",
    "\n",
    "    \"\"\"\n",
    "    Read in the appropriate training and test sets (dataset name and split index)\n",
    "    \"\"\"\n",
    "\n",
    "    train_df = pd.read_csv(train_path)\n",
    "    test_df = pd.read_csv(test_path)\n",
    "    \n",
    "    # intialise parameters for the model\n",
    "    p = train_df.shape[1] - 2 # number of covariates (number of columns excluding time, status)\n",
    "    median_log_time = np.log(train_df[\"time\"]).median() # compute median time for estimate of alpha\n",
    "    init_theta = [median_log_time] + [0]*p # [*,0,...,0] # for mu=median log time\n",
    "    init_sigma = [1]\n",
    "    init_params = init_theta + init_sigma\n",
    "\n",
    "    # fit the model\n",
    "    fun = lambda x: -1 * regression_gumbel_loglkhd(x[:-1], x[-1], train_df) # wrapper for negative log-lkhd function\n",
    "    res = scipy.optimize.minimize(fun, x0=init_params) # minimise negative log-lkhd\n",
    "\n",
    "    # make predictions on the test set\n",
    "    parameters = res.x\n",
    "    theta = parameters[:-1]\n",
    "    sigma = parameters[-1]\n",
    "    test_result = test_df.copy()\n",
    "    x = test_result.drop([\"time\", \"status\"], axis=1)\n",
    "    test_result[\"pred_alpha\"] = np.exp(theta[0] + x.dot(np.array(theta[1:]))) # alpha = exp(mu)\n",
    "    test_result[\"pred_beta\"] = 1/sigma # beta = 1/sigma\n",
    "\n",
    "    # if any of the predicted alpha/beta are negative, set equal to small eps\n",
    "    eps = 1e-8\n",
    "    test_result[\"pred_alpha\"] = np.maximum(test_result[\"pred_alpha\"], eps*np.ones(len(test_result[\"pred_alpha\"])))\n",
    "    test_result[\"pred_beta\"] = np.maximum(test_result[\"pred_beta\"], eps*np.ones(len(test_result[\"pred_beta\"])))\n",
    "\n",
    "    \"\"\"\n",
    "    Create EvalSurv object\n",
    "    \"\"\"\n",
    "    t_max = train_df[\"time\"].max()\n",
    "    num_vals = max(math.ceil(t_max), 5000)\n",
    "    t_vals = np.linspace(0, t_max, num_vals)\n",
    "    surv = weibull_surv(t_vals, test_result[\"pred_alpha\"], test_result[\"pred_beta\"])\n",
    "    surv = pd.DataFrame(data=surv, index=t_vals)\n",
    "\n",
    "    test_time = test_df['time'].values\n",
    "    test_status = test_df['status'].values\n",
    "\n",
    "    ev = EvalSurv(surv, test_time, test_status, censor_surv='km')\n",
    "    \n",
    "    return ({\"parameters\" : parameters, \"test_result\" : test_result, \"ev\" : ev }) "
   ]
  },
  {
   "cell_type": "markdown",
   "id": "1a00cacd-62b9-4930-92d7-83313d00dc18",
   "metadata": {},
   "source": [
    "# define deep hit"
   ]
  },
  {
   "cell_type": "code",
   "execution_count": 6,
   "id": "d06b363d-fd01-4c24-9925-c263163d65cb",
   "metadata": {
    "tags": []
   },
   "outputs": [],
   "source": [
    "def deep_hit(dataset, split, plot=False, alpha=0.5, lr=1e-4, epochs=50, batch_size=100):\n",
    "\n",
    "    \"\"\"\n",
    "    Paths to input and output files\n",
    "    \"\"\"\n",
    "    train_path = \"datasets/\" + dataset + \"/train_\" + str(split) + \".csv\" # training set data\n",
    "    test_path = \"datasets/\" + dataset + \"/test_\" + str(split) + \".csv\" # test set data\n",
    " \n",
    "    training_loss_plot_path = \"plots/deep_hit/training_loss/\" + dataset + \"_\" + str(split) + \".pdf\" # create plot of loss for different lr's\n",
    "\n",
    "    \"\"\"\n",
    "    Read in the appropriate training and test sets (dataset name and split index)\n",
    "    \"\"\"\n",
    "\n",
    "    train_df = pd.read_csv(train_path)\n",
    "    test_df = pd.read_csv(test_path)\n",
    "\n",
    "    \"\"\"\n",
    "    Data preprocessing: set up for DeepHitSingle\n",
    "    \"\"\"\n",
    "\n",
    "    # split the training set into training and validation set\n",
    "    df = train_df.copy()\n",
    "    train_df = df.groupby(\"status\").apply(lambda x: x.sample(frac=0.8)) # censoring frac. equal in train and test sets\n",
    "    train_df = train_df.reset_index(level=\"status\", drop=True)\n",
    "    train_df = train_df.sort_index()\n",
    "    val_df = df.drop(train_df.index)\n",
    "\n",
    "    # convert x values to float32 (needed for PyTorch)\n",
    "    x_cols = list(train_df)\n",
    "    x_cols.remove('time')\n",
    "    x_cols.remove('status')\n",
    "    x_cols = [(col, None) for col in x_cols]\n",
    "    x_mapper = DataFrameMapper(x_cols)\n",
    "    train_x = x_mapper.fit_transform(train_df).astype('float32')\n",
    "    val_x = x_mapper.transform(val_df).astype('float32')\n",
    "    test_x = x_mapper.transform(test_df).astype('float32')\n",
    "\n",
    "    # discretise time for DeepHit, using time index set {0,1,...,T_max}\n",
    "    num_durations = math.ceil(train_df[\"time\"].max()) # largest survival time in training set set to be T_max \n",
    "    labtrans = DeepHitSingle.label_transform(num_durations, scheme='equidistant') # set up partition\n",
    "    get_target = lambda df: (df['time'].values, df['status'].values) \n",
    "    train_y = labtrans.fit_transform(*get_target(train_df))\n",
    "    val_y = labtrans.transform(*get_target(val_df))\n",
    "    test_time, test_status = get_target(test_df)\n",
    "\n",
    "    \"\"\"\n",
    "    Define the DeepHit network. Since K=1 (single event) the architecture is very simple.\n",
    "    Model architecture: layers and widths as stated in paper; use dropout probability 0.1 and batch normalisation \n",
    "    \"\"\"\n",
    "\n",
    "    p = train_x.shape[1] # number of covariates\n",
    "    in_features = p # number of input nodes = number of covariates\n",
    "    out_features = labtrans.out_features # equals num_durations \n",
    "    nodes_1 = 3*p\n",
    "    nodes_2 = 5*p\n",
    "    nodes_3 = 3*p\n",
    "    num_nodes = [nodes_1,nodes_2,nodes_3] # layer widths as stated in DeepHit paper\n",
    "    net = tt.practical.MLPVanilla(in_features, num_nodes, out_features, batch_norm=False, dropout=0.25)\n",
    "\n",
    "    \"\"\"\n",
    "    Set learning parameters and fit the model.\n",
    "    NB: alpha in DeepHitSingle() differs from DH paper: alpha_{pycox} = 1/(1+alpha_{DH}\n",
    "    The deep_hit(..., alpha, ...) refers to alpha as in the Deep Hit paper.\n",
    "    \"\"\"\n",
    "\n",
    "    alpha_pycox = 1/(1+alpha)\n",
    "    model = DeepHitSingle(net, tt.optim.Adam, alpha=alpha_pycox, sigma=0.2, duration_index=labtrans.cuts)\n",
    "\n",
    "    \"\"\"\n",
    "    Train the model (with early stopping) and plot the training and validation loss.\n",
    "    \"\"\"\n",
    "    model.optimizer.set_lr(lr)\n",
    "    callbacks = [tt.callbacks.EarlyStopping()]\n",
    "    log = model.fit(train_x, train_y, batch_size, epochs, callbacks, val_data=(val_x, val_y), verbose=False)\n",
    "\n",
    "    if plot ==True: \n",
    "      log.plot()\n",
    "      plt.xlabel(\"Epoch\")\n",
    "      plt.ylabel(\"Loss\")\n",
    "      plt.title(\"Training loss: DeepHit ($\\\\alpha =$\" + str(alpha) + \") on \" + tidy_datasets[dataset] + \" (Split \" + str(split) + \")\")\n",
    "      plt.legend(['Train', 'Validation'])\n",
    "      plt.savefig(training_loss_plot_path)\n",
    "      plt.clf()\n",
    "      plt.close('all')\n",
    "    \n",
    "    \"\"\"\n",
    "    Predict the survival curves for the test set \n",
    "    \"\"\"\n",
    "\n",
    "    surv = model.predict_surv_df(test_x)\n",
    "\n",
    "    \"\"\"\n",
    "    Create evaluation object\n",
    "    \"\"\"\n",
    "\n",
    "    ev = EvalSurv(surv, test_time, test_status, censor_surv='km')\n",
    "\n",
    "    return ({\"test_result\" : surv, \"ev\" : ev})\n"
   ]
  },
  {
   "cell_type": "markdown",
   "id": "253cea48-7447-4fa9-beba-8bb80f77741d",
   "metadata": {
    "tags": []
   },
   "source": [
    "# define deep weibull"
   ]
  },
  {
   "cell_type": "code",
   "execution_count": 7,
   "id": "ee6b7536-ecca-4338-954f-4ce9560a42ac",
   "metadata": {
    "tags": []
   },
   "outputs": [],
   "source": [
    "\n",
    "\"\"\"\n",
    "CUSTOM LOSS AND ACTIVATION FUNCTIONS\n",
    "\"\"\"\n",
    "\n",
    "def weibull_surv(t, alpha, beta):\n",
    "\n",
    "    S = np.empty((len(t),len(alpha)))\n",
    "    \n",
    "    for i in range(len(alpha)):\n",
    "        S[:,i] = np.exp(-np.power(np.divide(t, alpha[i]), beta[i]))\n",
    "\n",
    "    return S\n",
    "\n",
    "\n",
    "def deep_weibull_loss(y, weibull_param_pred, name=None):\n",
    "    epsilon = 1e-10\n",
    "    time = y[:, 0] # actual time to event\n",
    "    status = y[:, 1] # actual status (censored/dead)\n",
    "    a = weibull_param_pred[:, 0] # alpha\n",
    "    b = weibull_param_pred[:, 1] # beta\n",
    "    norm_time = (time + epsilon) / a # time / alpha (rescaled time)\n",
    "    return -1 * k.mean(status * (k.log(b) + b * k.log(norm_time)) - k.pow(norm_time, b))\n",
    "\n",
    "\n",
    "def weibull_activate(weibull_param):\n",
    "    a = k.exp(weibull_param[:, 0]) # exponential of alpha \n",
    "    #a = k.softplus(weibull_param[:, 0]) # softplus of alpha\n",
    "    b = k.softplus(weibull_param[:, 1]) # softplus of beta\n",
    "    a = k.reshape(a, (k.shape(a)[0], 1))\n",
    "    b = k.reshape(b, (k.shape(b)[0], 1))\n",
    "    return k.concatenate((a, b), axis=1)\n",
    "\n",
    "def deep_weibull(dataset, split, plot=False, lr=1e-4, epochs=75, steps_per_epoch=25):\n",
    "\n",
    "    \"\"\"\n",
    "    Paths to input and output files\n",
    "    \"\"\"\n",
    "    train_path = \"datasets/\" + dataset + \"/train_\" + str(split) + \".csv\" # training set data\n",
    "    test_path = \"datasets/\" + dataset + \"/test_\" + str(split) + \".csv\" # test set data\n",
    " \n",
    "    training_loss_plot_path = \"plots/deep_weibull/training_loss/\" + dataset + \"_\" + str(split) + \".pdf\" # create plot of loss for different lr's\n",
    "\n",
    "    \"\"\"\n",
    "    Read in the appropriate training and test sets (dataset name and split index)\n",
    "    \"\"\"\n",
    "\n",
    "    train_df = pd.read_csv(train_path)\n",
    "    test_df = pd.read_csv(test_path)\n",
    "\n",
    "    \"\"\"\n",
    "    Data preprocessing: set up for DeepWeibull\n",
    "    \"\"\"\n",
    "\n",
    "    # split the training set into training and validation set\n",
    "    df = train_df.copy()\n",
    "    train_df = df.groupby(\"status\").apply(lambda x: x.sample(frac=0.8)) # censoring frac. equal in train and test sets\n",
    "    train_df = train_df.reset_index(level=\"status\", drop=True)\n",
    "    train_df = train_df.sort_index()\n",
    "    val_df = df.drop(train_df.index)\n",
    "\n",
    "    # separate covariates and outcomes\n",
    "    train_x = train_df.copy()\n",
    "    test_x = test_df.copy()\n",
    "    val_x = val_df.copy()\n",
    "    train_y = pd.DataFrame([train_x.pop(colname) for colname in ['time', 'status']]).T\n",
    "    test_y = pd.DataFrame([test_x.pop(colname) for colname in ['time', 'status']]).T\n",
    "    val_y = pd.DataFrame([val_x.pop(colname) for colname in ['time', 'status']]).T\n",
    "\n",
    "    # convert to tensors and float32 type\n",
    "    train_x = tf.convert_to_tensor(train_x.values, tf.float32)\n",
    "    train_y = tf.convert_to_tensor(train_y.values, tf.float32)\n",
    "    test_x = tf.convert_to_tensor(test_x.values, tf.float32)\n",
    "    test_y = tf.convert_to_tensor(test_y.values, tf.float32)\n",
    "    val_x = tf.convert_to_tensor(val_x.values, tf.float32)\n",
    "    val_y = tf.convert_to_tensor(val_y.values, tf.float32)\n",
    "\n",
    "    \"\"\"\n",
    "    Define the DeepWeibull network. \n",
    "    Model architecture: layers and widths as stated in paper; use dropout probability 0.1 and batch normalisation \n",
    "    'glorot_normal' is Xavier initialisation\n",
    "    \"\"\"\n",
    "\n",
    "    p = train_x.shape[1] # number of covariates\n",
    "\n",
    "    model = Sequential()\n",
    "\n",
    "    model.add(Dense(p, input_dim=p, activation='tanh', kernel_initializer='glorot_normal', bias_initializer='glorot_normal'))\n",
    "    model.add(Dropout(0.25))\n",
    "\n",
    "    model.add(Dense(2*p, activation='tanh', kernel_initializer='glorot_normal', bias_initializer='glorot_normal'))\n",
    "    model.add(Dropout(0.25))\n",
    "\n",
    "    model.add(Dense(p, activation='tanh', kernel_initializer='glorot_normal', bias_initializer='glorot_normal'))\n",
    "    model.add(Dropout(0.25))\n",
    "\n",
    "    model.add(Dense(2)) # layer with 2 nodes (alpha and beta)\n",
    "    model.add(Activation(weibull_activate)) # apply custom activation function (exp and softplus)\n",
    "\n",
    "    \"\"\"\n",
    "    Compile the model:\n",
    "        - using the (negative) log-likelihood for the Weibull as the loss function\n",
    "        - using Root Mean Square Prop optimisation (common) and customisable learning rate\n",
    "    \"\"\"\n",
    "\n",
    "    model.compile(loss=deep_weibull_loss, optimizer=RMSprop(lr=lr))\n",
    "\n",
    "    \"\"\"\n",
    "    Train the model with early stopping and plot the training and validation loss.\n",
    "    \"\"\"\n",
    "    es = EarlyStopping(monitor='val_loss', mode='min', verbose=2, patience=15)\n",
    "    callbacks = [es] # use [EarlyStopping()] if desired\n",
    "    log = model.fit(train_x, train_y, \n",
    "        epochs=epochs, \n",
    "        steps_per_epoch=steps_per_epoch, \n",
    "        validation_data=(val_x, val_y), \n",
    "        callbacks=callbacks, \n",
    "        validation_steps=5, \n",
    "        verbose=0)\n",
    "\n",
    "    if plot==True:\n",
    "        plt.plot(log.history['loss'])\n",
    "        plt.plot(log.history['val_loss'])\n",
    "        plt.xlabel(\"Epoch\")\n",
    "        plt.ylabel(\"Loss\")\n",
    "        plt.title('Training loss: DeepWeibull on '+ tidy_datasets[dataset] + \" (Split \" + str(split) + \")\")\n",
    "        plt.legend(['Train', 'Validation'])\n",
    "        plt.savefig(training_loss_plot_path)\n",
    "        plt.clf()\n",
    "        plt.close('all')\n",
    "\n",
    "    \"\"\"\n",
    "    Use learnt model to make predictions on the test set\n",
    "    \"\"\"\n",
    "\n",
    "    test_predict = model.predict(test_x, steps=1) # predict Weibull parameters using covariates\n",
    "    test_predict = np.resize(test_predict, test_y.shape) # put into (,2) array\n",
    "    test_predict = pd.DataFrame(test_predict) # convert to dataframe\n",
    "    test_predict.columns = [\"pred_alpha\", \"pred_beta\"] # name columns\n",
    "    test_result = test_df.copy()\n",
    "    test_result.reset_index(inplace = True) # reset the index (before concat - probably better way of doing this)\n",
    "    test_result = pd.concat([test_result, test_predict], axis=1) # results = test data plus predictions\n",
    "    test_result.set_index(\"index\", drop=True, inplace=True) # recover the index (after concat - probably better way of doing this)\n",
    "\n",
    "    \"\"\"\n",
    "    Create EvalSurv object\n",
    "    \"\"\"\n",
    "    t_max = train_df[\"time\"].max()\n",
    "    num_vals = max(math.ceil(t_max), 5000)\n",
    "    t_vals = np.linspace(0, t_max, num_vals)\n",
    "    surv = weibull_surv(t_vals, test_result[\"pred_alpha\"], test_result[\"pred_beta\"])\n",
    "    surv = pd.DataFrame(data=surv, index=t_vals)\n",
    "\n",
    "    test_time = test_df['time'].values\n",
    "    test_status = test_df['status'].values\n",
    "\n",
    "    ev = EvalSurv(surv, test_time, test_status, censor_surv='km')\n",
    "\n",
    "    return ({\"test_result\" : test_result, \"ev\" : ev})\n"
   ]
  },
  {
   "cell_type": "markdown",
   "id": "9ed543e1-909d-43a5-a3d8-fd7e597c6e82",
   "metadata": {},
   "source": [
    "# Experiments"
   ]
  },
  {
   "cell_type": "code",
   "execution_count": 8,
   "id": "fea1ed44-2aa6-402a-9ae4-d61b118956ad",
   "metadata": {
    "tags": []
   },
   "outputs": [
    {
     "name": "stdout",
     "output_type": "stream",
     "text": [
      "about to train <function regression_weibull at 0x2888ce9d0>\n"
     ]
    },
    {
     "name": "stderr",
     "output_type": "stream",
     "text": [
      "/tmp/ipykernel_25631/2643545636.py:15: RuntimeWarning: invalid value encountered in log\n",
      "  l = np.sum(df[\"status\"] * (np.divide(np.subtract(np.log(df[\"time\"]),mu),sigma))-np.log(sigma)) # first sum of l\n"
     ]
    },
    {
     "name": "stdout",
     "output_type": "stream",
     "text": [
      "about to train <function regression_weibull at 0x2888ce9d0>\n"
     ]
    },
    {
     "name": "stderr",
     "output_type": "stream",
     "text": [
      "/tmp/ipykernel_25631/2643545636.py:15: RuntimeWarning: invalid value encountered in log\n",
      "  l = np.sum(df[\"status\"] * (np.divide(np.subtract(np.log(df[\"time\"]),mu),sigma))-np.log(sigma)) # first sum of l\n",
      "/tmp/ipykernel_25631/2643545636.py:15: RuntimeWarning: invalid value encountered in log\n",
      "  l = np.sum(df[\"status\"] * (np.divide(np.subtract(np.log(df[\"time\"]),mu),sigma))-np.log(sigma)) # first sum of l\n"
     ]
    },
    {
     "name": "stdout",
     "output_type": "stream",
     "text": [
      "about to train <function regression_weibull at 0x2888ce9d0>\n"
     ]
    },
    {
     "name": "stderr",
     "output_type": "stream",
     "text": [
      "/tmp/ipykernel_25631/2643545636.py:15: RuntimeWarning: invalid value encountered in log\n",
      "  l = np.sum(df[\"status\"] * (np.divide(np.subtract(np.log(df[\"time\"]),mu),sigma))-np.log(sigma)) # first sum of l\n",
      "/tmp/ipykernel_25631/2643545636.py:15: RuntimeWarning: invalid value encountered in log\n",
      "  l = np.sum(df[\"status\"] * (np.divide(np.subtract(np.log(df[\"time\"]),mu),sigma))-np.log(sigma)) # first sum of l\n"
     ]
    },
    {
     "name": "stdout",
     "output_type": "stream",
     "text": [
      "about to train <function regression_weibull at 0x2888ce9d0>\n"
     ]
    },
    {
     "name": "stderr",
     "output_type": "stream",
     "text": [
      "/tmp/ipykernel_25631/2643545636.py:15: RuntimeWarning: invalid value encountered in log\n",
      "  l = np.sum(df[\"status\"] * (np.divide(np.subtract(np.log(df[\"time\"]),mu),sigma))-np.log(sigma)) # first sum of l\n"
     ]
    },
    {
     "name": "stdout",
     "output_type": "stream",
     "text": [
      "about to train <function regression_weibull at 0x2888ce9d0>\n"
     ]
    },
    {
     "name": "stderr",
     "output_type": "stream",
     "text": [
      "/tmp/ipykernel_25631/2643545636.py:15: RuntimeWarning: invalid value encountered in log\n",
      "  l = np.sum(df[\"status\"] * (np.divide(np.subtract(np.log(df[\"time\"]),mu),sigma))-np.log(sigma)) # first sum of l\n",
      "/tmp/ipykernel_25631/2643545636.py:15: RuntimeWarning: invalid value encountered in log\n",
      "  l = np.sum(df[\"status\"] * (np.divide(np.subtract(np.log(df[\"time\"]),mu),sigma))-np.log(sigma)) # first sum of l\n"
     ]
    },
    {
     "name": "stdout",
     "output_type": "stream",
     "text": [
      "about to train <function regression_weibull at 0x2888ce9d0>\n",
      "about to train <function regression_weibull at 0x2888ce9d0>\n"
     ]
    },
    {
     "name": "stderr",
     "output_type": "stream",
     "text": [
      "/tmp/ipykernel_25631/2643545636.py:15: RuntimeWarning: invalid value encountered in log\n",
      "  l = np.sum(df[\"status\"] * (np.divide(np.subtract(np.log(df[\"time\"]),mu),sigma))-np.log(sigma)) # first sum of l\n"
     ]
    },
    {
     "name": "stdout",
     "output_type": "stream",
     "text": [
      "about to train <function regression_weibull at 0x2888ce9d0>\n"
     ]
    },
    {
     "name": "stderr",
     "output_type": "stream",
     "text": [
      "/tmp/ipykernel_25631/2643545636.py:15: RuntimeWarning: invalid value encountered in log\n",
      "  l = np.sum(df[\"status\"] * (np.divide(np.subtract(np.log(df[\"time\"]),mu),sigma))-np.log(sigma)) # first sum of l\n"
     ]
    },
    {
     "name": "stdout",
     "output_type": "stream",
     "text": [
      "about to train <function regression_weibull at 0x2888ce9d0>\n",
      "about to train <function regression_weibull at 0x2888ce9d0>\n",
      "c_vals [0.6012452285163316, 0.6156616474756421, 0.62679671684901, 0.618080632930858, 0.5370303218982053, 0.6160294133221309, 0.6099033207675976, 0.603444617718511, 0.6313852041357183, 0.5955339016025474]\n",
      "about to train <function deep_hit at 0x2888cedc0>\n",
      "about to train <function deep_hit at 0x2888cedc0>\n",
      "about to train <function deep_hit at 0x2888cedc0>\n",
      "about to train <function deep_hit at 0x2888cedc0>\n",
      "about to train <function deep_hit at 0x2888cedc0>\n",
      "about to train <function deep_hit at 0x2888cedc0>\n",
      "about to train <function deep_hit at 0x2888cedc0>\n",
      "about to train <function deep_hit at 0x2888cedc0>\n",
      "about to train <function deep_hit at 0x2888cedc0>\n",
      "about to train <function deep_hit at 0x2888cedc0>\n",
      "c_vals [0.4850335819154938, 0.5718104517271922, 0.5010696506633249, 0.5609643145635255, 0.4782889406970039, 0.5020174884298891, 0.4647916218995749, 0.5233919989815728, 0.5405656577078283, 0.477052329177339]\n",
      "about to train <function deep_weibull at 0x2888eaca0>\n"
     ]
    },
    {
     "name": "stderr",
     "output_type": "stream",
     "text": [
      "/Users/cuongwilliams/miniconda3/envs/jh/lib/python3.8/site-packages/keras/optimizers/legacy/rmsprop.py:143: UserWarning: The `lr` argument is deprecated, use `learning_rate` instead.\n",
      "  super().__init__(name, **kwargs)\n",
      "2023-05-01 17:31:07.828696: W tensorflow/tsl/platform/profile_utils/cpu_utils.cc:128] Failed to get CPU frequency: 0 Hz\n"
     ]
    },
    {
     "name": "stdout",
     "output_type": "stream",
     "text": [
      "WARNING:tensorflow:Your input ran out of data; interrupting training. Make sure that your dataset or generator can generate at least `steps_per_epoch * epochs` batches (in this case, 1875 batches). You may need to use the repeat() function when building your dataset.\n",
      "1/1 [==============================] - 0s 36ms/step\n",
      "about to train <function deep_weibull at 0x2888eaca0>\n",
      "WARNING:tensorflow:Your input ran out of data; interrupting training. Make sure that your dataset or generator can generate at least `steps_per_epoch * epochs` batches (in this case, 1875 batches). You may need to use the repeat() function when building your dataset.\n",
      "1/1 [==============================] - 0s 26ms/step\n",
      "about to train <function deep_weibull at 0x2888eaca0>\n",
      "WARNING:tensorflow:Your input ran out of data; interrupting training. Make sure that your dataset or generator can generate at least `steps_per_epoch * epochs` batches (in this case, 1875 batches). You may need to use the repeat() function when building your dataset.\n",
      "1/1 [==============================] - 0s 25ms/step\n",
      "about to train <function deep_weibull at 0x2888eaca0>\n",
      "WARNING:tensorflow:Your input ran out of data; interrupting training. Make sure that your dataset or generator can generate at least `steps_per_epoch * epochs` batches (in this case, 1875 batches). You may need to use the repeat() function when building your dataset.\n",
      "1/1 [==============================] - 0s 26ms/step\n",
      "about to train <function deep_weibull at 0x2888eaca0>\n",
      "WARNING:tensorflow:Your input ran out of data; interrupting training. Make sure that your dataset or generator can generate at least `steps_per_epoch * epochs` batches (in this case, 1875 batches). You may need to use the repeat() function when building your dataset.\n",
      "WARNING:tensorflow:5 out of the last 5 calls to <function Model.make_predict_function.<locals>.predict_function at 0x2b6a66820> triggered tf.function retracing. Tracing is expensive and the excessive number of tracings could be due to (1) creating @tf.function repeatedly in a loop, (2) passing tensors with different shapes, (3) passing Python objects instead of tensors. For (1), please define your @tf.function outside of the loop. For (2), @tf.function has reduce_retracing=True option that can avoid unnecessary retracing. For (3), please refer to https://www.tensorflow.org/guide/function#controlling_retracing and https://www.tensorflow.org/api_docs/python/tf/function for  more details.\n",
      "1/1 [==============================] - 0s 26ms/step\n",
      "about to train <function deep_weibull at 0x2888eaca0>\n",
      "WARNING:tensorflow:Your input ran out of data; interrupting training. Make sure that your dataset or generator can generate at least `steps_per_epoch * epochs` batches (in this case, 1875 batches). You may need to use the repeat() function when building your dataset.\n",
      "WARNING:tensorflow:6 out of the last 6 calls to <function Model.make_predict_function.<locals>.predict_function at 0x2b79bb430> triggered tf.function retracing. Tracing is expensive and the excessive number of tracings could be due to (1) creating @tf.function repeatedly in a loop, (2) passing tensors with different shapes, (3) passing Python objects instead of tensors. For (1), please define your @tf.function outside of the loop. For (2), @tf.function has reduce_retracing=True option that can avoid unnecessary retracing. For (3), please refer to https://www.tensorflow.org/guide/function#controlling_retracing and https://www.tensorflow.org/api_docs/python/tf/function for  more details.\n",
      "1/1 [==============================] - 0s 26ms/step\n",
      "about to train <function deep_weibull at 0x2888eaca0>\n",
      "WARNING:tensorflow:Your input ran out of data; interrupting training. Make sure that your dataset or generator can generate at least `steps_per_epoch * epochs` batches (in this case, 1875 batches). You may need to use the repeat() function when building your dataset.\n",
      "1/1 [==============================] - 0s 26ms/step\n",
      "about to train <function deep_weibull at 0x2888eaca0>\n",
      "WARNING:tensorflow:Your input ran out of data; interrupting training. Make sure that your dataset or generator can generate at least `steps_per_epoch * epochs` batches (in this case, 1875 batches). You may need to use the repeat() function when building your dataset.\n",
      "1/1 [==============================] - 0s 26ms/step\n",
      "about to train <function deep_weibull at 0x2888eaca0>\n",
      "WARNING:tensorflow:Your input ran out of data; interrupting training. Make sure that your dataset or generator can generate at least `steps_per_epoch * epochs` batches (in this case, 1875 batches). You may need to use the repeat() function when building your dataset.\n",
      "1/1 [==============================] - 0s 25ms/step\n",
      "about to train <function deep_weibull at 0x2888eaca0>\n",
      "WARNING:tensorflow:Your input ran out of data; interrupting training. Make sure that your dataset or generator can generate at least `steps_per_epoch * epochs` batches (in this case, 1875 batches). You may need to use the repeat() function when building your dataset.\n",
      "1/1 [==============================] - 0s 25ms/step\n",
      "c_vals [0.45122722956018296, 0.5236235606731621, 0.5362712835719522, 0.46847895444799725, 0.5169943785443649, 0.5269863347371617, 0.5733309280693424, 0.5501319004628893, 0.5917426978282532, 0.5150730159178318]\n",
      "about to train <function regression_weibull at 0x2888ce9d0>\n",
      "about to train <function regression_weibull at 0x2888ce9d0>\n"
     ]
    },
    {
     "name": "stderr",
     "output_type": "stream",
     "text": [
      "/tmp/ipykernel_25631/2643545636.py:15: RuntimeWarning: invalid value encountered in log\n",
      "  l = np.sum(df[\"status\"] * (np.divide(np.subtract(np.log(df[\"time\"]),mu),sigma))-np.log(sigma)) # first sum of l\n"
     ]
    },
    {
     "name": "stdout",
     "output_type": "stream",
     "text": [
      "about to train <function regression_weibull at 0x2888ce9d0>\n"
     ]
    },
    {
     "name": "stderr",
     "output_type": "stream",
     "text": [
      "/tmp/ipykernel_25631/2643545636.py:15: RuntimeWarning: invalid value encountered in log\n",
      "  l = np.sum(df[\"status\"] * (np.divide(np.subtract(np.log(df[\"time\"]),mu),sigma))-np.log(sigma)) # first sum of l\n"
     ]
    },
    {
     "name": "stdout",
     "output_type": "stream",
     "text": [
      "about to train <function regression_weibull at 0x2888ce9d0>\n"
     ]
    },
    {
     "name": "stderr",
     "output_type": "stream",
     "text": [
      "/tmp/ipykernel_25631/2643545636.py:15: RuntimeWarning: invalid value encountered in log\n",
      "  l = np.sum(df[\"status\"] * (np.divide(np.subtract(np.log(df[\"time\"]),mu),sigma))-np.log(sigma)) # first sum of l\n"
     ]
    },
    {
     "name": "stdout",
     "output_type": "stream",
     "text": [
      "about to train <function regression_weibull at 0x2888ce9d0>\n",
      "about to train <function regression_weibull at 0x2888ce9d0>\n"
     ]
    },
    {
     "name": "stderr",
     "output_type": "stream",
     "text": [
      "/tmp/ipykernel_25631/2643545636.py:15: RuntimeWarning: invalid value encountered in log\n",
      "  l = np.sum(df[\"status\"] * (np.divide(np.subtract(np.log(df[\"time\"]),mu),sigma))-np.log(sigma)) # first sum of l\n",
      "/tmp/ipykernel_25631/2643545636.py:15: RuntimeWarning: invalid value encountered in log\n",
      "  l = np.sum(df[\"status\"] * (np.divide(np.subtract(np.log(df[\"time\"]),mu),sigma))-np.log(sigma)) # first sum of l\n"
     ]
    },
    {
     "name": "stdout",
     "output_type": "stream",
     "text": [
      "about to train <function regression_weibull at 0x2888ce9d0>\n"
     ]
    },
    {
     "name": "stderr",
     "output_type": "stream",
     "text": [
      "/tmp/ipykernel_25631/2643545636.py:15: RuntimeWarning: invalid value encountered in log\n",
      "  l = np.sum(df[\"status\"] * (np.divide(np.subtract(np.log(df[\"time\"]),mu),sigma))-np.log(sigma)) # first sum of l\n",
      "/tmp/ipykernel_25631/2643545636.py:15: RuntimeWarning: invalid value encountered in log\n",
      "  l = np.sum(df[\"status\"] * (np.divide(np.subtract(np.log(df[\"time\"]),mu),sigma))-np.log(sigma)) # first sum of l\n"
     ]
    },
    {
     "name": "stdout",
     "output_type": "stream",
     "text": [
      "about to train <function regression_weibull at 0x2888ce9d0>\n"
     ]
    },
    {
     "name": "stderr",
     "output_type": "stream",
     "text": [
      "/tmp/ipykernel_25631/2643545636.py:15: RuntimeWarning: invalid value encountered in log\n",
      "  l = np.sum(df[\"status\"] * (np.divide(np.subtract(np.log(df[\"time\"]),mu),sigma))-np.log(sigma)) # first sum of l\n"
     ]
    },
    {
     "name": "stdout",
     "output_type": "stream",
     "text": [
      "about to train <function regression_weibull at 0x2888ce9d0>\n"
     ]
    },
    {
     "name": "stderr",
     "output_type": "stream",
     "text": [
      "/tmp/ipykernel_25631/2643545636.py:15: RuntimeWarning: invalid value encountered in log\n",
      "  l = np.sum(df[\"status\"] * (np.divide(np.subtract(np.log(df[\"time\"]),mu),sigma))-np.log(sigma)) # first sum of l\n"
     ]
    },
    {
     "name": "stdout",
     "output_type": "stream",
     "text": [
      "about to train <function regression_weibull at 0x2888ce9d0>\n",
      "c_vals [0.6164032224665477, 0.6221726918582385, 0.6209525160913968, 0.6058319164487981, 0.6359213974997598, 0.620917955811196, 0.5991862330522773, 0.6246275382124595, 0.616939688585808, 0.6312765007260743]\n",
      "about to train <function deep_hit at 0x2888cedc0>\n",
      "about to train <function deep_hit at 0x2888cedc0>\n",
      "about to train <function deep_hit at 0x2888cedc0>\n",
      "about to train <function deep_hit at 0x2888cedc0>\n",
      "about to train <function deep_hit at 0x2888cedc0>\n",
      "about to train <function deep_hit at 0x2888cedc0>\n",
      "about to train <function deep_hit at 0x2888cedc0>\n",
      "about to train <function deep_hit at 0x2888cedc0>\n",
      "about to train <function deep_hit at 0x2888cedc0>\n",
      "about to train <function deep_hit at 0x2888cedc0>\n",
      "c_vals [0.5233076627256861, 0.4924751147659444, 0.5741376863862645, 0.49934491665172615, 0.5181627136054702, 0.46298035011023014, 0.4734657513432877, 0.4283502826864182, 0.5684036973057203, 0.45956609050641833]\n",
      "about to train <function deep_weibull at 0x2888eaca0>\n"
     ]
    },
    {
     "name": "stderr",
     "output_type": "stream",
     "text": [
      "/Users/cuongwilliams/miniconda3/envs/jh/lib/python3.8/site-packages/keras/optimizers/legacy/rmsprop.py:143: UserWarning: The `lr` argument is deprecated, use `learning_rate` instead.\n",
      "  super().__init__(name, **kwargs)\n"
     ]
    },
    {
     "name": "stdout",
     "output_type": "stream",
     "text": [
      "WARNING:tensorflow:Your input ran out of data; interrupting training. Make sure that your dataset or generator can generate at least `steps_per_epoch * epochs` batches (in this case, 1875 batches). You may need to use the repeat() function when building your dataset.\n",
      "1/1 [==============================] - 0s 26ms/step\n",
      "about to train <function deep_weibull at 0x2888eaca0>\n",
      "WARNING:tensorflow:Your input ran out of data; interrupting training. Make sure that your dataset or generator can generate at least `steps_per_epoch * epochs` batches (in this case, 1875 batches). You may need to use the repeat() function when building your dataset.\n",
      "1/1 [==============================] - 0s 25ms/step\n",
      "about to train <function deep_weibull at 0x2888eaca0>\n",
      "WARNING:tensorflow:Your input ran out of data; interrupting training. Make sure that your dataset or generator can generate at least `steps_per_epoch * epochs` batches (in this case, 1875 batches). You may need to use the repeat() function when building your dataset.\n",
      "1/1 [==============================] - 0s 26ms/step\n",
      "about to train <function deep_weibull at 0x2888eaca0>\n",
      "WARNING:tensorflow:Your input ran out of data; interrupting training. Make sure that your dataset or generator can generate at least `steps_per_epoch * epochs` batches (in this case, 1875 batches). You may need to use the repeat() function when building your dataset.\n",
      "1/1 [==============================] - 0s 25ms/step\n",
      "about to train <function deep_weibull at 0x2888eaca0>\n",
      "WARNING:tensorflow:Your input ran out of data; interrupting training. Make sure that your dataset or generator can generate at least `steps_per_epoch * epochs` batches (in this case, 1875 batches). You may need to use the repeat() function when building your dataset.\n",
      "1/1 [==============================] - 0s 26ms/step\n",
      "about to train <function deep_weibull at 0x2888eaca0>\n",
      "WARNING:tensorflow:Your input ran out of data; interrupting training. Make sure that your dataset or generator can generate at least `steps_per_epoch * epochs` batches (in this case, 1875 batches). You may need to use the repeat() function when building your dataset.\n",
      "1/1 [==============================] - 0s 25ms/step\n",
      "about to train <function deep_weibull at 0x2888eaca0>\n",
      "WARNING:tensorflow:Your input ran out of data; interrupting training. Make sure that your dataset or generator can generate at least `steps_per_epoch * epochs` batches (in this case, 1875 batches). You may need to use the repeat() function when building your dataset.\n",
      "1/1 [==============================] - 0s 26ms/step\n",
      "about to train <function deep_weibull at 0x2888eaca0>\n",
      "WARNING:tensorflow:Your input ran out of data; interrupting training. Make sure that your dataset or generator can generate at least `steps_per_epoch * epochs` batches (in this case, 1875 batches). You may need to use the repeat() function when building your dataset.\n",
      "1/1 [==============================] - 0s 26ms/step\n",
      "about to train <function deep_weibull at 0x2888eaca0>\n",
      "WARNING:tensorflow:Your input ran out of data; interrupting training. Make sure that your dataset or generator can generate at least `steps_per_epoch * epochs` batches (in this case, 1875 batches). You may need to use the repeat() function when building your dataset.\n",
      "1/1 [==============================] - 0s 26ms/step\n",
      "about to train <function deep_weibull at 0x2888eaca0>\n",
      "WARNING:tensorflow:Your input ran out of data; interrupting training. Make sure that your dataset or generator can generate at least `steps_per_epoch * epochs` batches (in this case, 1875 batches). You may need to use the repeat() function when building your dataset.\n",
      "1/1 [==============================] - 0s 25ms/step\n",
      "c_vals [0.5059469693234595, 0.5923793247046801, 0.5228895931133157, 0.4648185763905991, 0.5055840787593289, 0.5161554022634446, 0.6091096908119713, 0.5372027947205575, 0.5595716382495642, 0.5168229394129692]\n",
      "about to train <function regression_weibull at 0x2888ce9d0>\n"
     ]
    },
    {
     "name": "stderr",
     "output_type": "stream",
     "text": [
      "/tmp/ipykernel_25631/2643545636.py:15: RuntimeWarning: invalid value encountered in log\n",
      "  l = np.sum(df[\"status\"] * (np.divide(np.subtract(np.log(df[\"time\"]),mu),sigma))-np.log(sigma)) # first sum of l\n"
     ]
    },
    {
     "name": "stdout",
     "output_type": "stream",
     "text": [
      "about to train <function regression_weibull at 0x2888ce9d0>\n",
      "about to train <function regression_weibull at 0x2888ce9d0>\n",
      "about to train <function regression_weibull at 0x2888ce9d0>\n"
     ]
    },
    {
     "name": "stderr",
     "output_type": "stream",
     "text": [
      "/tmp/ipykernel_25631/2643545636.py:15: RuntimeWarning: invalid value encountered in log\n",
      "  l = np.sum(df[\"status\"] * (np.divide(np.subtract(np.log(df[\"time\"]),mu),sigma))-np.log(sigma)) # first sum of l\n"
     ]
    },
    {
     "name": "stdout",
     "output_type": "stream",
     "text": [
      "about to train <function regression_weibull at 0x2888ce9d0>\n"
     ]
    },
    {
     "name": "stderr",
     "output_type": "stream",
     "text": [
      "/tmp/ipykernel_25631/2643545636.py:15: RuntimeWarning: invalid value encountered in log\n",
      "  l = np.sum(df[\"status\"] * (np.divide(np.subtract(np.log(df[\"time\"]),mu),sigma))-np.log(sigma)) # first sum of l\n",
      "/tmp/ipykernel_25631/2643545636.py:15: RuntimeWarning: invalid value encountered in log\n",
      "  l = np.sum(df[\"status\"] * (np.divide(np.subtract(np.log(df[\"time\"]),mu),sigma))-np.log(sigma)) # first sum of l\n"
     ]
    },
    {
     "name": "stdout",
     "output_type": "stream",
     "text": [
      "about to train <function regression_weibull at 0x2888ce9d0>\n",
      "about to train <function regression_weibull at 0x2888ce9d0>\n"
     ]
    },
    {
     "name": "stderr",
     "output_type": "stream",
     "text": [
      "/tmp/ipykernel_25631/2643545636.py:15: RuntimeWarning: invalid value encountered in log\n",
      "  l = np.sum(df[\"status\"] * (np.divide(np.subtract(np.log(df[\"time\"]),mu),sigma))-np.log(sigma)) # first sum of l\n"
     ]
    },
    {
     "name": "stdout",
     "output_type": "stream",
     "text": [
      "about to train <function regression_weibull at 0x2888ce9d0>\n",
      "about to train <function regression_weibull at 0x2888ce9d0>\n"
     ]
    },
    {
     "name": "stderr",
     "output_type": "stream",
     "text": [
      "/Users/cuongwilliams/miniconda3/envs/jh/lib/python3.8/site-packages/pandas/core/arraylike.py:364: RuntimeWarning: divide by zero encountered in log\n",
      "  result = getattr(ufunc, method)(*inputs, **kwargs)\n",
      "/Users/cuongwilliams/miniconda3/envs/jh/lib/python3.8/site-packages/pandas/core/arraylike.py:364: RuntimeWarning: divide by zero encountered in log\n",
      "  result = getattr(ufunc, method)(*inputs, **kwargs)\n"
     ]
    },
    {
     "name": "stdout",
     "output_type": "stream",
     "text": [
      "about to train <function regression_weibull at 0x2888ce9d0>\n",
      "c_vals [0.6269768467475193, 0.625539859287574, 0.6166013503942585, 0.6083982029466097, 0.5788338077812402, 0.6347245578157126, 0.6296959784278404, 0.6129182881099569, 0.6328307046005217, 0.6222394609151315]\n",
      "about to train <function deep_hit at 0x2888cedc0>\n",
      "about to train <function deep_hit at 0x2888cedc0>\n",
      "about to train <function deep_hit at 0x2888cedc0>\n",
      "about to train <function deep_hit at 0x2888cedc0>\n",
      "about to train <function deep_hit at 0x2888cedc0>\n",
      "about to train <function deep_hit at 0x2888cedc0>\n",
      "about to train <function deep_hit at 0x2888cedc0>\n",
      "about to train <function deep_hit at 0x2888cedc0>\n",
      "about to train <function deep_hit at 0x2888cedc0>\n",
      "about to train <function deep_hit at 0x2888cedc0>\n",
      "c_vals [0.6089889746416759, 0.48265580854246304, 0.5561311830389252, 0.500322641699475, 0.48176817054506665, 0.5371351105502016, 0.5182092455269818, 0.4437308926024566, 0.5296817470011242, 0.5015586651505457]\n",
      "about to train <function deep_weibull at 0x2888eaca0>\n"
     ]
    },
    {
     "name": "stderr",
     "output_type": "stream",
     "text": [
      "/Users/cuongwilliams/miniconda3/envs/jh/lib/python3.8/site-packages/keras/optimizers/legacy/rmsprop.py:143: UserWarning: The `lr` argument is deprecated, use `learning_rate` instead.\n",
      "  super().__init__(name, **kwargs)\n"
     ]
    },
    {
     "name": "stdout",
     "output_type": "stream",
     "text": [
      "WARNING:tensorflow:Your input ran out of data; interrupting training. Make sure that your dataset or generator can generate at least `steps_per_epoch * epochs` batches (in this case, 1875 batches). You may need to use the repeat() function when building your dataset.\n",
      "1/1 [==============================] - 0s 25ms/step\n",
      "about to train <function deep_weibull at 0x2888eaca0>\n",
      "WARNING:tensorflow:Your input ran out of data; interrupting training. Make sure that your dataset or generator can generate at least `steps_per_epoch * epochs` batches (in this case, 1875 batches). You may need to use the repeat() function when building your dataset.\n",
      "1/1 [==============================] - 0s 25ms/step\n",
      "about to train <function deep_weibull at 0x2888eaca0>\n",
      "WARNING:tensorflow:Your input ran out of data; interrupting training. Make sure that your dataset or generator can generate at least `steps_per_epoch * epochs` batches (in this case, 1875 batches). You may need to use the repeat() function when building your dataset.\n",
      "1/1 [==============================] - 0s 25ms/step\n",
      "about to train <function deep_weibull at 0x2888eaca0>\n",
      "WARNING:tensorflow:Your input ran out of data; interrupting training. Make sure that your dataset or generator can generate at least `steps_per_epoch * epochs` batches (in this case, 1875 batches). You may need to use the repeat() function when building your dataset.\n",
      "1/1 [==============================] - 0s 26ms/step\n",
      "about to train <function deep_weibull at 0x2888eaca0>\n",
      "WARNING:tensorflow:Your input ran out of data; interrupting training. Make sure that your dataset or generator can generate at least `steps_per_epoch * epochs` batches (in this case, 1875 batches). You may need to use the repeat() function when building your dataset.\n",
      "1/1 [==============================] - 0s 26ms/step\n",
      "about to train <function deep_weibull at 0x2888eaca0>\n",
      "WARNING:tensorflow:Your input ran out of data; interrupting training. Make sure that your dataset or generator can generate at least `steps_per_epoch * epochs` batches (in this case, 1875 batches). You may need to use the repeat() function when building your dataset.\n",
      "1/1 [==============================] - 0s 27ms/step\n",
      "about to train <function deep_weibull at 0x2888eaca0>\n",
      "WARNING:tensorflow:Your input ran out of data; interrupting training. Make sure that your dataset or generator can generate at least `steps_per_epoch * epochs` batches (in this case, 1875 batches). You may need to use the repeat() function when building your dataset.\n",
      "1/1 [==============================] - 0s 25ms/step\n",
      "about to train <function deep_weibull at 0x2888eaca0>\n",
      "WARNING:tensorflow:Your input ran out of data; interrupting training. Make sure that your dataset or generator can generate at least `steps_per_epoch * epochs` batches (in this case, 1875 batches). You may need to use the repeat() function when building your dataset.\n",
      "1/1 [==============================] - 0s 26ms/step\n",
      "about to train <function deep_weibull at 0x2888eaca0>\n",
      "WARNING:tensorflow:Your input ran out of data; interrupting training. Make sure that your dataset or generator can generate at least `steps_per_epoch * epochs` batches (in this case, 1875 batches). You may need to use the repeat() function when building your dataset.\n",
      "1/1 [==============================] - 0s 25ms/step\n",
      "about to train <function deep_weibull at 0x2888eaca0>\n",
      "WARNING:tensorflow:Your input ran out of data; interrupting training. Make sure that your dataset or generator can generate at least `steps_per_epoch * epochs` batches (in this case, 1875 batches). You may need to use the repeat() function when building your dataset.\n",
      "1/1 [==============================] - 0s 25ms/step\n",
      "c_vals [0.4977816979051819, 0.5853226968035012, 0.5206462742273226, 0.574478211447084, 0.4969777410684906, 0.5377000580365157, 0.6032247726192713, 0.5545673526427544, 0.5613082630043312, 0.5362437993195136]\n",
      "about to train <function regression_weibull at 0x2888ce9d0>\n"
     ]
    },
    {
     "name": "stderr",
     "output_type": "stream",
     "text": [
      "/tmp/ipykernel_25631/2643545636.py:15: RuntimeWarning: invalid value encountered in log\n",
      "  l = np.sum(df[\"status\"] * (np.divide(np.subtract(np.log(df[\"time\"]),mu),sigma))-np.log(sigma)) # first sum of l\n"
     ]
    },
    {
     "name": "stdout",
     "output_type": "stream",
     "text": [
      "about to train <function regression_weibull at 0x2888ce9d0>\n",
      "about to train <function regression_weibull at 0x2888ce9d0>\n"
     ]
    },
    {
     "name": "stderr",
     "output_type": "stream",
     "text": [
      "/Users/cuongwilliams/miniconda3/envs/jh/lib/python3.8/site-packages/pandas/core/arraylike.py:364: RuntimeWarning: divide by zero encountered in log\n",
      "  result = getattr(ufunc, method)(*inputs, **kwargs)\n",
      "/Users/cuongwilliams/miniconda3/envs/jh/lib/python3.8/site-packages/pandas/core/arraylike.py:364: RuntimeWarning: divide by zero encountered in log\n",
      "  result = getattr(ufunc, method)(*inputs, **kwargs)\n",
      "/tmp/ipykernel_25631/2643545636.py:15: RuntimeWarning: invalid value encountered in log\n",
      "  l = np.sum(df[\"status\"] * (np.divide(np.subtract(np.log(df[\"time\"]),mu),sigma))-np.log(sigma)) # first sum of l\n",
      "/Users/cuongwilliams/miniconda3/envs/jh/lib/python3.8/site-packages/scipy/optimize/_numdiff.py:576: RuntimeWarning: invalid value encountered in subtract\n",
      "  df = fun(x) - f0\n",
      "/Users/cuongwilliams/miniconda3/envs/jh/lib/python3.8/site-packages/pandas/core/arraylike.py:364: RuntimeWarning: divide by zero encountered in log\n",
      "  result = getattr(ufunc, method)(*inputs, **kwargs)\n",
      "/tmp/ipykernel_25631/2643545636.py:15: RuntimeWarning: invalid value encountered in log\n",
      "  l = np.sum(df[\"status\"] * (np.divide(np.subtract(np.log(df[\"time\"]),mu),sigma))-np.log(sigma)) # first sum of l\n",
      "/Users/cuongwilliams/miniconda3/envs/jh/lib/python3.8/site-packages/pandas/core/arraylike.py:364: RuntimeWarning: divide by zero encountered in log\n",
      "  result = getattr(ufunc, method)(*inputs, **kwargs)\n"
     ]
    },
    {
     "name": "stdout",
     "output_type": "stream",
     "text": [
      "about to train <function regression_weibull at 0x2888ce9d0>\n"
     ]
    },
    {
     "name": "stderr",
     "output_type": "stream",
     "text": [
      "/tmp/ipykernel_25631/2643545636.py:15: RuntimeWarning: invalid value encountered in log\n",
      "  l = np.sum(df[\"status\"] * (np.divide(np.subtract(np.log(df[\"time\"]),mu),sigma))-np.log(sigma)) # first sum of l\n"
     ]
    },
    {
     "name": "stdout",
     "output_type": "stream",
     "text": [
      "about to train <function regression_weibull at 0x2888ce9d0>\n"
     ]
    },
    {
     "name": "stderr",
     "output_type": "stream",
     "text": [
      "/tmp/ipykernel_25631/2643545636.py:15: RuntimeWarning: invalid value encountered in log\n",
      "  l = np.sum(df[\"status\"] * (np.divide(np.subtract(np.log(df[\"time\"]),mu),sigma))-np.log(sigma)) # first sum of l\n",
      "/tmp/ipykernel_25631/2643545636.py:15: RuntimeWarning: invalid value encountered in log\n",
      "  l = np.sum(df[\"status\"] * (np.divide(np.subtract(np.log(df[\"time\"]),mu),sigma))-np.log(sigma)) # first sum of l\n"
     ]
    },
    {
     "name": "stdout",
     "output_type": "stream",
     "text": [
      "about to train <function regression_weibull at 0x2888ce9d0>\n"
     ]
    },
    {
     "name": "stderr",
     "output_type": "stream",
     "text": [
      "/tmp/ipykernel_25631/2643545636.py:15: RuntimeWarning: invalid value encountered in log\n",
      "  l = np.sum(df[\"status\"] * (np.divide(np.subtract(np.log(df[\"time\"]),mu),sigma))-np.log(sigma)) # first sum of l\n"
     ]
    },
    {
     "name": "stdout",
     "output_type": "stream",
     "text": [
      "about to train <function regression_weibull at 0x2888ce9d0>\n"
     ]
    },
    {
     "name": "stderr",
     "output_type": "stream",
     "text": [
      "/tmp/ipykernel_25631/2643545636.py:15: RuntimeWarning: invalid value encountered in log\n",
      "  l = np.sum(df[\"status\"] * (np.divide(np.subtract(np.log(df[\"time\"]),mu),sigma))-np.log(sigma)) # first sum of l\n"
     ]
    },
    {
     "name": "stdout",
     "output_type": "stream",
     "text": [
      "about to train <function regression_weibull at 0x2888ce9d0>\n"
     ]
    },
    {
     "name": "stderr",
     "output_type": "stream",
     "text": [
      "/tmp/ipykernel_25631/2643545636.py:15: RuntimeWarning: invalid value encountered in log\n",
      "  l = np.sum(df[\"status\"] * (np.divide(np.subtract(np.log(df[\"time\"]),mu),sigma))-np.log(sigma)) # first sum of l\n"
     ]
    },
    {
     "name": "stdout",
     "output_type": "stream",
     "text": [
      "about to train <function regression_weibull at 0x2888ce9d0>\n"
     ]
    },
    {
     "name": "stderr",
     "output_type": "stream",
     "text": [
      "/Users/cuongwilliams/miniconda3/envs/jh/lib/python3.8/site-packages/pandas/core/arraylike.py:364: RuntimeWarning: divide by zero encountered in log\n",
      "  result = getattr(ufunc, method)(*inputs, **kwargs)\n",
      "/Users/cuongwilliams/miniconda3/envs/jh/lib/python3.8/site-packages/pandas/core/arraylike.py:364: RuntimeWarning: divide by zero encountered in log\n",
      "  result = getattr(ufunc, method)(*inputs, **kwargs)\n",
      "/tmp/ipykernel_25631/2643545636.py:15: RuntimeWarning: invalid value encountered in log\n",
      "  l = np.sum(df[\"status\"] * (np.divide(np.subtract(np.log(df[\"time\"]),mu),sigma))-np.log(sigma)) # first sum of l\n",
      "/Users/cuongwilliams/miniconda3/envs/jh/lib/python3.8/site-packages/scipy/optimize/_numdiff.py:576: RuntimeWarning: invalid value encountered in subtract\n",
      "  df = fun(x) - f0\n",
      "/Users/cuongwilliams/miniconda3/envs/jh/lib/python3.8/site-packages/pandas/core/arraylike.py:364: RuntimeWarning: divide by zero encountered in log\n",
      "  result = getattr(ufunc, method)(*inputs, **kwargs)\n",
      "/tmp/ipykernel_25631/2643545636.py:15: RuntimeWarning: invalid value encountered in log\n",
      "  l = np.sum(df[\"status\"] * (np.divide(np.subtract(np.log(df[\"time\"]),mu),sigma))-np.log(sigma)) # first sum of l\n",
      "/Users/cuongwilliams/miniconda3/envs/jh/lib/python3.8/site-packages/pandas/core/arraylike.py:364: RuntimeWarning: divide by zero encountered in log\n",
      "  result = getattr(ufunc, method)(*inputs, **kwargs)\n"
     ]
    },
    {
     "name": "stdout",
     "output_type": "stream",
     "text": [
      "about to train <function regression_weibull at 0x2888ce9d0>\n",
      "c_vals [0.6273290127729189, 0.6192471914044727, 0.6284590834860193, 0.6259696724065361, 0.6190792491421381, 0.6288604395440365, 0.6326937090114161, 0.624786795802745, 0.6377976698136296, 0.6318872576166943]\n",
      "about to train <function deep_hit at 0x2888cedc0>\n",
      "about to train <function deep_hit at 0x2888cedc0>\n",
      "about to train <function deep_hit at 0x2888cedc0>\n",
      "about to train <function deep_hit at 0x2888cedc0>\n",
      "about to train <function deep_hit at 0x2888cedc0>\n",
      "about to train <function deep_hit at 0x2888cedc0>\n",
      "about to train <function deep_hit at 0x2888cedc0>\n",
      "about to train <function deep_hit at 0x2888cedc0>\n",
      "about to train <function deep_hit at 0x2888cedc0>\n",
      "about to train <function deep_hit at 0x2888cedc0>\n",
      "c_vals [0.5377600201346505, 0.5601804400757958, 0.43736805942802515, 0.4890084018499807, 0.46969222247009074, 0.5198464033913653, 0.41496733369456223, 0.5085431295882541, 0.49260846886533816, 0.5650920748546104]\n",
      "about to train <function deep_weibull at 0x2888eaca0>\n"
     ]
    },
    {
     "name": "stderr",
     "output_type": "stream",
     "text": [
      "/Users/cuongwilliams/miniconda3/envs/jh/lib/python3.8/site-packages/keras/optimizers/legacy/rmsprop.py:143: UserWarning: The `lr` argument is deprecated, use `learning_rate` instead.\n",
      "  super().__init__(name, **kwargs)\n"
     ]
    },
    {
     "name": "stdout",
     "output_type": "stream",
     "text": [
      "WARNING:tensorflow:Your input ran out of data; interrupting training. Make sure that your dataset or generator can generate at least `steps_per_epoch * epochs` batches (in this case, 1875 batches). You may need to use the repeat() function when building your dataset.\n",
      "1/1 [==============================] - 0s 26ms/step\n",
      "about to train <function deep_weibull at 0x2888eaca0>\n",
      "WARNING:tensorflow:Your input ran out of data; interrupting training. Make sure that your dataset or generator can generate at least `steps_per_epoch * epochs` batches (in this case, 1875 batches). You may need to use the repeat() function when building your dataset.\n",
      "1/1 [==============================] - 0s 26ms/step\n",
      "about to train <function deep_weibull at 0x2888eaca0>\n",
      "WARNING:tensorflow:Your input ran out of data; interrupting training. Make sure that your dataset or generator can generate at least `steps_per_epoch * epochs` batches (in this case, 1875 batches). You may need to use the repeat() function when building your dataset.\n",
      "1/1 [==============================] - 0s 25ms/step\n",
      "about to train <function deep_weibull at 0x2888eaca0>\n",
      "WARNING:tensorflow:Your input ran out of data; interrupting training. Make sure that your dataset or generator can generate at least `steps_per_epoch * epochs` batches (in this case, 1875 batches). You may need to use the repeat() function when building your dataset.\n",
      "1/1 [==============================] - 0s 24ms/step\n",
      "about to train <function deep_weibull at 0x2888eaca0>\n",
      "WARNING:tensorflow:Your input ran out of data; interrupting training. Make sure that your dataset or generator can generate at least `steps_per_epoch * epochs` batches (in this case, 1875 batches). You may need to use the repeat() function when building your dataset.\n",
      "1/1 [==============================] - 0s 25ms/step\n",
      "about to train <function deep_weibull at 0x2888eaca0>\n",
      "WARNING:tensorflow:Your input ran out of data; interrupting training. Make sure that your dataset or generator can generate at least `steps_per_epoch * epochs` batches (in this case, 1875 batches). You may need to use the repeat() function when building your dataset.\n",
      "1/1 [==============================] - 0s 26ms/step\n",
      "about to train <function deep_weibull at 0x2888eaca0>\n",
      "WARNING:tensorflow:Your input ran out of data; interrupting training. Make sure that your dataset or generator can generate at least `steps_per_epoch * epochs` batches (in this case, 1875 batches). You may need to use the repeat() function when building your dataset.\n",
      "1/1 [==============================] - 0s 25ms/step\n",
      "about to train <function deep_weibull at 0x2888eaca0>\n",
      "WARNING:tensorflow:Your input ran out of data; interrupting training. Make sure that your dataset or generator can generate at least `steps_per_epoch * epochs` batches (in this case, 1875 batches). You may need to use the repeat() function when building your dataset.\n",
      "1/1 [==============================] - 0s 25ms/step\n",
      "about to train <function deep_weibull at 0x2888eaca0>\n",
      "WARNING:tensorflow:Your input ran out of data; interrupting training. Make sure that your dataset or generator can generate at least `steps_per_epoch * epochs` batches (in this case, 1875 batches). You may need to use the repeat() function when building your dataset.\n",
      "1/1 [==============================] - 0s 26ms/step\n",
      "about to train <function deep_weibull at 0x2888eaca0>\n",
      "WARNING:tensorflow:Your input ran out of data; interrupting training. Make sure that your dataset or generator can generate at least `steps_per_epoch * epochs` batches (in this case, 1875 batches). You may need to use the repeat() function when building your dataset.\n",
      "1/1 [==============================] - 0s 25ms/step\n",
      "c_vals [0.5305430063549991, 0.5829354385508797, 0.5212660818131124, 0.5322154180878953, 0.5075496858057384, 0.5363006950905806, 0.5891531672925892, 0.5591622945260134, 0.5478867389998443, 0.5311605899461253]\n",
      "about to train <function regression_weibull at 0x2888ce9d0>\n"
     ]
    },
    {
     "name": "stderr",
     "output_type": "stream",
     "text": [
      "/Users/cuongwilliams/miniconda3/envs/jh/lib/python3.8/site-packages/pandas/core/arraylike.py:364: RuntimeWarning: divide by zero encountered in log\n",
      "  result = getattr(ufunc, method)(*inputs, **kwargs)\n",
      "/Users/cuongwilliams/miniconda3/envs/jh/lib/python3.8/site-packages/pandas/core/arraylike.py:364: RuntimeWarning: divide by zero encountered in log\n",
      "  result = getattr(ufunc, method)(*inputs, **kwargs)\n"
     ]
    },
    {
     "name": "stdout",
     "output_type": "stream",
     "text": [
      "about to train <function regression_weibull at 0x2888ce9d0>\n",
      "about to train <function regression_weibull at 0x2888ce9d0>\n"
     ]
    },
    {
     "name": "stderr",
     "output_type": "stream",
     "text": [
      "/tmp/ipykernel_25631/2643545636.py:15: RuntimeWarning: invalid value encountered in log\n",
      "  l = np.sum(df[\"status\"] * (np.divide(np.subtract(np.log(df[\"time\"]),mu),sigma))-np.log(sigma)) # first sum of l\n"
     ]
    },
    {
     "name": "stdout",
     "output_type": "stream",
     "text": [
      "about to train <function regression_weibull at 0x2888ce9d0>\n",
      "about to train <function regression_weibull at 0x2888ce9d0>\n"
     ]
    },
    {
     "name": "stderr",
     "output_type": "stream",
     "text": [
      "/tmp/ipykernel_25631/2643545636.py:15: RuntimeWarning: invalid value encountered in log\n",
      "  l = np.sum(df[\"status\"] * (np.divide(np.subtract(np.log(df[\"time\"]),mu),sigma))-np.log(sigma)) # first sum of l\n"
     ]
    },
    {
     "name": "stdout",
     "output_type": "stream",
     "text": [
      "about to train <function regression_weibull at 0x2888ce9d0>\n"
     ]
    },
    {
     "name": "stderr",
     "output_type": "stream",
     "text": [
      "/tmp/ipykernel_25631/2643545636.py:15: RuntimeWarning: invalid value encountered in log\n",
      "  l = np.sum(df[\"status\"] * (np.divide(np.subtract(np.log(df[\"time\"]),mu),sigma))-np.log(sigma)) # first sum of l\n"
     ]
    },
    {
     "name": "stdout",
     "output_type": "stream",
     "text": [
      "about to train <function regression_weibull at 0x2888ce9d0>\n",
      "about to train <function regression_weibull at 0x2888ce9d0>\n"
     ]
    },
    {
     "name": "stderr",
     "output_type": "stream",
     "text": [
      "/tmp/ipykernel_25631/2643545636.py:15: RuntimeWarning: invalid value encountered in log\n",
      "  l = np.sum(df[\"status\"] * (np.divide(np.subtract(np.log(df[\"time\"]),mu),sigma))-np.log(sigma)) # first sum of l\n",
      "/tmp/ipykernel_25631/2643545636.py:15: RuntimeWarning: invalid value encountered in log\n",
      "  l = np.sum(df[\"status\"] * (np.divide(np.subtract(np.log(df[\"time\"]),mu),sigma))-np.log(sigma)) # first sum of l\n"
     ]
    },
    {
     "name": "stdout",
     "output_type": "stream",
     "text": [
      "about to train <function regression_weibull at 0x2888ce9d0>\n"
     ]
    },
    {
     "name": "stderr",
     "output_type": "stream",
     "text": [
      "/Users/cuongwilliams/miniconda3/envs/jh/lib/python3.8/site-packages/pandas/core/arraylike.py:364: RuntimeWarning: divide by zero encountered in log\n",
      "  result = getattr(ufunc, method)(*inputs, **kwargs)\n",
      "/Users/cuongwilliams/miniconda3/envs/jh/lib/python3.8/site-packages/pandas/core/arraylike.py:364: RuntimeWarning: divide by zero encountered in log\n",
      "  result = getattr(ufunc, method)(*inputs, **kwargs)\n",
      "/tmp/ipykernel_25631/2643545636.py:15: RuntimeWarning: invalid value encountered in log\n",
      "  l = np.sum(df[\"status\"] * (np.divide(np.subtract(np.log(df[\"time\"]),mu),sigma))-np.log(sigma)) # first sum of l\n",
      "/Users/cuongwilliams/miniconda3/envs/jh/lib/python3.8/site-packages/scipy/optimize/_numdiff.py:576: RuntimeWarning: invalid value encountered in subtract\n",
      "  df = fun(x) - f0\n",
      "/Users/cuongwilliams/miniconda3/envs/jh/lib/python3.8/site-packages/pandas/core/arraylike.py:364: RuntimeWarning: divide by zero encountered in log\n",
      "  result = getattr(ufunc, method)(*inputs, **kwargs)\n",
      "/tmp/ipykernel_25631/2643545636.py:15: RuntimeWarning: invalid value encountered in log\n",
      "  l = np.sum(df[\"status\"] * (np.divide(np.subtract(np.log(df[\"time\"]),mu),sigma))-np.log(sigma)) # first sum of l\n",
      "/Users/cuongwilliams/miniconda3/envs/jh/lib/python3.8/site-packages/pandas/core/arraylike.py:364: RuntimeWarning: divide by zero encountered in log\n",
      "  result = getattr(ufunc, method)(*inputs, **kwargs)\n"
     ]
    },
    {
     "name": "stdout",
     "output_type": "stream",
     "text": [
      "about to train <function regression_weibull at 0x2888ce9d0>\n",
      "c_vals [0.6297660207673205, 0.6315548506071675, 0.632269271293106, 0.6294230864837608, 0.6257959339967818, 0.6276874761278275, 0.6397910425869199, 0.5937851399381819, 0.6314385052435199, 0.635022144545292]\n",
      "about to train <function deep_hit at 0x2888cedc0>\n",
      "about to train <function deep_hit at 0x2888cedc0>\n",
      "about to train <function deep_hit at 0x2888cedc0>\n",
      "about to train <function deep_hit at 0x2888cedc0>\n",
      "about to train <function deep_hit at 0x2888cedc0>\n",
      "about to train <function deep_hit at 0x2888cedc0>\n",
      "about to train <function deep_hit at 0x2888cedc0>\n",
      "about to train <function deep_hit at 0x2888cedc0>\n",
      "about to train <function deep_hit at 0x2888cedc0>\n",
      "about to train <function deep_hit at 0x2888cedc0>\n",
      "c_vals [0.5493216782622731, 0.5068300143588348, 0.48995643135803174, 0.565139452134573, 0.4981058073090075, 0.46280326500587077, 0.6040062393871184, 0.5803408468054088, 0.5191353139045143, 0.5027109689976366]\n",
      "about to train <function deep_weibull at 0x2888eaca0>\n"
     ]
    },
    {
     "name": "stderr",
     "output_type": "stream",
     "text": [
      "/Users/cuongwilliams/miniconda3/envs/jh/lib/python3.8/site-packages/keras/optimizers/legacy/rmsprop.py:143: UserWarning: The `lr` argument is deprecated, use `learning_rate` instead.\n",
      "  super().__init__(name, **kwargs)\n"
     ]
    },
    {
     "name": "stdout",
     "output_type": "stream",
     "text": [
      "WARNING:tensorflow:Your input ran out of data; interrupting training. Make sure that your dataset or generator can generate at least `steps_per_epoch * epochs` batches (in this case, 1875 batches). You may need to use the repeat() function when building your dataset.\n",
      "1/1 [==============================] - 0s 25ms/step\n",
      "about to train <function deep_weibull at 0x2888eaca0>\n",
      "WARNING:tensorflow:Your input ran out of data; interrupting training. Make sure that your dataset or generator can generate at least `steps_per_epoch * epochs` batches (in this case, 1875 batches). You may need to use the repeat() function when building your dataset.\n",
      "1/1 [==============================] - 0s 25ms/step\n",
      "about to train <function deep_weibull at 0x2888eaca0>\n",
      "WARNING:tensorflow:Your input ran out of data; interrupting training. Make sure that your dataset or generator can generate at least `steps_per_epoch * epochs` batches (in this case, 1875 batches). You may need to use the repeat() function when building your dataset.\n",
      "1/1 [==============================] - 0s 25ms/step\n",
      "about to train <function deep_weibull at 0x2888eaca0>\n",
      "WARNING:tensorflow:Your input ran out of data; interrupting training. Make sure that your dataset or generator can generate at least `steps_per_epoch * epochs` batches (in this case, 1875 batches). You may need to use the repeat() function when building your dataset.\n",
      "1/1 [==============================] - 0s 26ms/step\n",
      "about to train <function deep_weibull at 0x2888eaca0>\n",
      "WARNING:tensorflow:Your input ran out of data; interrupting training. Make sure that your dataset or generator can generate at least `steps_per_epoch * epochs` batches (in this case, 1875 batches). You may need to use the repeat() function when building your dataset.\n",
      "1/1 [==============================] - 0s 25ms/step\n",
      "about to train <function deep_weibull at 0x2888eaca0>\n",
      "WARNING:tensorflow:Your input ran out of data; interrupting training. Make sure that your dataset or generator can generate at least `steps_per_epoch * epochs` batches (in this case, 1875 batches). You may need to use the repeat() function when building your dataset.\n",
      "1/1 [==============================] - 0s 27ms/step\n",
      "about to train <function deep_weibull at 0x2888eaca0>\n",
      "WARNING:tensorflow:Your input ran out of data; interrupting training. Make sure that your dataset or generator can generate at least `steps_per_epoch * epochs` batches (in this case, 1875 batches). You may need to use the repeat() function when building your dataset.\n",
      "1/1 [==============================] - 0s 25ms/step\n",
      "about to train <function deep_weibull at 0x2888eaca0>\n",
      "WARNING:tensorflow:Your input ran out of data; interrupting training. Make sure that your dataset or generator can generate at least `steps_per_epoch * epochs` batches (in this case, 1875 batches). You may need to use the repeat() function when building your dataset.\n",
      "1/1 [==============================] - 0s 25ms/step\n",
      "about to train <function deep_weibull at 0x2888eaca0>\n",
      "WARNING:tensorflow:Your input ran out of data; interrupting training. Make sure that your dataset or generator can generate at least `steps_per_epoch * epochs` batches (in this case, 1875 batches). You may need to use the repeat() function when building your dataset.\n",
      "1/1 [==============================] - 0s 25ms/step\n",
      "about to train <function deep_weibull at 0x2888eaca0>\n",
      "WARNING:tensorflow:Your input ran out of data; interrupting training. Make sure that your dataset or generator can generate at least `steps_per_epoch * epochs` batches (in this case, 1875 batches). You may need to use the repeat() function when building your dataset.\n",
      "1/1 [==============================] - 0s 25ms/step\n",
      "c_vals [0.5359902704508837, 0.5714121694314157, 0.5226556938235043, 0.5924233492659853, 0.5211134558774878, 0.5414788722432061, 0.5916713208207107, 0.5506566047544513, 0.555471068773497, 0.5390912934060041]\n",
      "about to train <function regression_weibull at 0x2888ce9d0>\n"
     ]
    },
    {
     "name": "stderr",
     "output_type": "stream",
     "text": [
      "/tmp/ipykernel_25631/2643545636.py:15: RuntimeWarning: invalid value encountered in log\n",
      "  l = np.sum(df[\"status\"] * (np.divide(np.subtract(np.log(df[\"time\"]),mu),sigma))-np.log(sigma)) # first sum of l\n"
     ]
    },
    {
     "name": "stdout",
     "output_type": "stream",
     "text": [
      "about to train <function regression_weibull at 0x2888ce9d0>\n"
     ]
    },
    {
     "name": "stderr",
     "output_type": "stream",
     "text": [
      "/Users/cuongwilliams/miniconda3/envs/jh/lib/python3.8/site-packages/pandas/core/arraylike.py:364: RuntimeWarning: divide by zero encountered in log\n",
      "  result = getattr(ufunc, method)(*inputs, **kwargs)\n",
      "/Users/cuongwilliams/miniconda3/envs/jh/lib/python3.8/site-packages/pandas/core/arraylike.py:364: RuntimeWarning: divide by zero encountered in log\n",
      "  result = getattr(ufunc, method)(*inputs, **kwargs)\n",
      "/tmp/ipykernel_25631/2643545636.py:15: RuntimeWarning: invalid value encountered in log\n",
      "  l = np.sum(df[\"status\"] * (np.divide(np.subtract(np.log(df[\"time\"]),mu),sigma))-np.log(sigma)) # first sum of l\n",
      "/Users/cuongwilliams/miniconda3/envs/jh/lib/python3.8/site-packages/scipy/optimize/_numdiff.py:576: RuntimeWarning: invalid value encountered in subtract\n",
      "  df = fun(x) - f0\n",
      "/Users/cuongwilliams/miniconda3/envs/jh/lib/python3.8/site-packages/pandas/core/arraylike.py:364: RuntimeWarning: divide by zero encountered in log\n",
      "  result = getattr(ufunc, method)(*inputs, **kwargs)\n",
      "/tmp/ipykernel_25631/2643545636.py:15: RuntimeWarning: invalid value encountered in log\n",
      "  l = np.sum(df[\"status\"] * (np.divide(np.subtract(np.log(df[\"time\"]),mu),sigma))-np.log(sigma)) # first sum of l\n",
      "/Users/cuongwilliams/miniconda3/envs/jh/lib/python3.8/site-packages/pandas/core/arraylike.py:364: RuntimeWarning: divide by zero encountered in log\n",
      "  result = getattr(ufunc, method)(*inputs, **kwargs)\n"
     ]
    },
    {
     "name": "stdout",
     "output_type": "stream",
     "text": [
      "about to train <function regression_weibull at 0x2888ce9d0>\n"
     ]
    },
    {
     "name": "stderr",
     "output_type": "stream",
     "text": [
      "/tmp/ipykernel_25631/2643545636.py:15: RuntimeWarning: invalid value encountered in log\n",
      "  l = np.sum(df[\"status\"] * (np.divide(np.subtract(np.log(df[\"time\"]),mu),sigma))-np.log(sigma)) # first sum of l\n",
      "/tmp/ipykernel_25631/2643545636.py:15: RuntimeWarning: invalid value encountered in log\n",
      "  l = np.sum(df[\"status\"] * (np.divide(np.subtract(np.log(df[\"time\"]),mu),sigma))-np.log(sigma)) # first sum of l\n"
     ]
    },
    {
     "name": "stdout",
     "output_type": "stream",
     "text": [
      "about to train <function regression_weibull at 0x2888ce9d0>\n",
      "about to train <function regression_weibull at 0x2888ce9d0>\n"
     ]
    },
    {
     "name": "stderr",
     "output_type": "stream",
     "text": [
      "/tmp/ipykernel_25631/2643545636.py:15: RuntimeWarning: invalid value encountered in log\n",
      "  l = np.sum(df[\"status\"] * (np.divide(np.subtract(np.log(df[\"time\"]),mu),sigma))-np.log(sigma)) # first sum of l\n",
      "/tmp/ipykernel_25631/2643545636.py:15: RuntimeWarning: invalid value encountered in log\n",
      "  l = np.sum(df[\"status\"] * (np.divide(np.subtract(np.log(df[\"time\"]),mu),sigma))-np.log(sigma)) # first sum of l\n"
     ]
    },
    {
     "name": "stdout",
     "output_type": "stream",
     "text": [
      "about to train <function regression_weibull at 0x2888ce9d0>\n"
     ]
    },
    {
     "name": "stderr",
     "output_type": "stream",
     "text": [
      "/tmp/ipykernel_25631/2643545636.py:15: RuntimeWarning: invalid value encountered in log\n",
      "  l = np.sum(df[\"status\"] * (np.divide(np.subtract(np.log(df[\"time\"]),mu),sigma))-np.log(sigma)) # first sum of l\n"
     ]
    },
    {
     "name": "stdout",
     "output_type": "stream",
     "text": [
      "about to train <function regression_weibull at 0x2888ce9d0>\n",
      "about to train <function regression_weibull at 0x2888ce9d0>\n"
     ]
    },
    {
     "name": "stderr",
     "output_type": "stream",
     "text": [
      "/tmp/ipykernel_25631/2643545636.py:15: RuntimeWarning: invalid value encountered in log\n",
      "  l = np.sum(df[\"status\"] * (np.divide(np.subtract(np.log(df[\"time\"]),mu),sigma))-np.log(sigma)) # first sum of l\n",
      "/tmp/ipykernel_25631/2643545636.py:15: RuntimeWarning: invalid value encountered in log\n",
      "  l = np.sum(df[\"status\"] * (np.divide(np.subtract(np.log(df[\"time\"]),mu),sigma))-np.log(sigma)) # first sum of l\n"
     ]
    },
    {
     "name": "stdout",
     "output_type": "stream",
     "text": [
      "about to train <function regression_weibull at 0x2888ce9d0>\n"
     ]
    },
    {
     "name": "stderr",
     "output_type": "stream",
     "text": [
      "/Users/cuongwilliams/miniconda3/envs/jh/lib/python3.8/site-packages/pandas/core/arraylike.py:364: RuntimeWarning: divide by zero encountered in log\n",
      "  result = getattr(ufunc, method)(*inputs, **kwargs)\n",
      "/Users/cuongwilliams/miniconda3/envs/jh/lib/python3.8/site-packages/pandas/core/arraylike.py:364: RuntimeWarning: divide by zero encountered in log\n",
      "  result = getattr(ufunc, method)(*inputs, **kwargs)\n",
      "/tmp/ipykernel_25631/2643545636.py:15: RuntimeWarning: invalid value encountered in log\n",
      "  l = np.sum(df[\"status\"] * (np.divide(np.subtract(np.log(df[\"time\"]),mu),sigma))-np.log(sigma)) # first sum of l\n",
      "/Users/cuongwilliams/miniconda3/envs/jh/lib/python3.8/site-packages/scipy/optimize/_numdiff.py:576: RuntimeWarning: invalid value encountered in subtract\n",
      "  df = fun(x) - f0\n",
      "/Users/cuongwilliams/miniconda3/envs/jh/lib/python3.8/site-packages/pandas/core/arraylike.py:364: RuntimeWarning: divide by zero encountered in log\n",
      "  result = getattr(ufunc, method)(*inputs, **kwargs)\n",
      "/tmp/ipykernel_25631/2643545636.py:15: RuntimeWarning: invalid value encountered in log\n",
      "  l = np.sum(df[\"status\"] * (np.divide(np.subtract(np.log(df[\"time\"]),mu),sigma))-np.log(sigma)) # first sum of l\n",
      "/Users/cuongwilliams/miniconda3/envs/jh/lib/python3.8/site-packages/pandas/core/arraylike.py:364: RuntimeWarning: divide by zero encountered in log\n",
      "  result = getattr(ufunc, method)(*inputs, **kwargs)\n"
     ]
    },
    {
     "name": "stdout",
     "output_type": "stream",
     "text": [
      "about to train <function regression_weibull at 0x2888ce9d0>\n",
      "c_vals [0.6229706579306222, 0.6375972699817356, 0.6121705184772089, 0.6303860754539762, 0.592878315233571, 0.6357109421658353, 0.6248765093527381, 0.6424092802965747, 0.6214034011809519, 0.6237407383335499]\n",
      "about to train <function deep_hit at 0x2888cedc0>\n",
      "about to train <function deep_hit at 0x2888cedc0>\n",
      "about to train <function deep_hit at 0x2888cedc0>\n",
      "about to train <function deep_hit at 0x2888cedc0>\n",
      "about to train <function deep_hit at 0x2888cedc0>\n",
      "about to train <function deep_hit at 0x2888cedc0>\n",
      "about to train <function deep_hit at 0x2888cedc0>\n",
      "about to train <function deep_hit at 0x2888cedc0>\n",
      "about to train <function deep_hit at 0x2888cedc0>\n",
      "about to train <function deep_hit at 0x2888cedc0>\n",
      "c_vals [0.43748050476132927, 0.5658476284846731, 0.4882690635917792, 0.5139356345230641, 0.5303354388599091, 0.5651009636337223, 0.5473447272952171, 0.49143565746525325, 0.548667124705049, 0.5494946704796568]\n",
      "about to train <function deep_weibull at 0x2888eaca0>\n"
     ]
    },
    {
     "name": "stderr",
     "output_type": "stream",
     "text": [
      "/Users/cuongwilliams/miniconda3/envs/jh/lib/python3.8/site-packages/keras/optimizers/legacy/rmsprop.py:143: UserWarning: The `lr` argument is deprecated, use `learning_rate` instead.\n",
      "  super().__init__(name, **kwargs)\n"
     ]
    },
    {
     "name": "stdout",
     "output_type": "stream",
     "text": [
      "1/1 [==============================] - 0s 26ms/step\n",
      "about to train <function deep_weibull at 0x2888eaca0>\n",
      "1/1 [==============================] - 0s 25ms/step\n",
      "about to train <function deep_weibull at 0x2888eaca0>\n",
      "1/1 [==============================] - 0s 25ms/step\n",
      "about to train <function deep_weibull at 0x2888eaca0>\n",
      "1/1 [==============================] - 0s 25ms/step\n",
      "about to train <function deep_weibull at 0x2888eaca0>\n",
      "1/1 [==============================] - 0s 25ms/step\n",
      "about to train <function deep_weibull at 0x2888eaca0>\n",
      "1/1 [==============================] - 0s 25ms/step\n",
      "about to train <function deep_weibull at 0x2888eaca0>\n",
      "1/1 [==============================] - 0s 25ms/step\n",
      "about to train <function deep_weibull at 0x2888eaca0>\n",
      "1/1 [==============================] - 0s 26ms/step\n",
      "about to train <function deep_weibull at 0x2888eaca0>\n",
      "1/1 [==============================] - 0s 26ms/step\n",
      "about to train <function deep_weibull at 0x2888eaca0>\n",
      "1/1 [==============================] - 0s 26ms/step\n",
      "c_vals [0.545001135010754, 0.5810756232718687, 0.5110190758935161, 0.5989061521603005, 0.5205353560195193, 0.5515923361257727, 0.5902795974733854, 0.5564396097393122, 0.5576513453374371, 0.5307308592226699]\n",
      "about to train <function regression_weibull at 0x2888ce9d0>\n"
     ]
    },
    {
     "name": "stderr",
     "output_type": "stream",
     "text": [
      "/tmp/ipykernel_25631/2643545636.py:15: RuntimeWarning: invalid value encountered in log\n",
      "  l = np.sum(df[\"status\"] * (np.divide(np.subtract(np.log(df[\"time\"]),mu),sigma))-np.log(sigma)) # first sum of l\n",
      "/tmp/ipykernel_25631/2643545636.py:15: RuntimeWarning: invalid value encountered in log\n",
      "  l = np.sum(df[\"status\"] * (np.divide(np.subtract(np.log(df[\"time\"]),mu),sigma))-np.log(sigma)) # first sum of l\n"
     ]
    },
    {
     "name": "stdout",
     "output_type": "stream",
     "text": [
      "about to train <function regression_weibull at 0x2888ce9d0>\n"
     ]
    },
    {
     "name": "stderr",
     "output_type": "stream",
     "text": [
      "/tmp/ipykernel_25631/2643545636.py:15: RuntimeWarning: invalid value encountered in log\n",
      "  l = np.sum(df[\"status\"] * (np.divide(np.subtract(np.log(df[\"time\"]),mu),sigma))-np.log(sigma)) # first sum of l\n",
      "/tmp/ipykernel_25631/2643545636.py:15: RuntimeWarning: invalid value encountered in log\n",
      "  l = np.sum(df[\"status\"] * (np.divide(np.subtract(np.log(df[\"time\"]),mu),sigma))-np.log(sigma)) # first sum of l\n"
     ]
    },
    {
     "name": "stdout",
     "output_type": "stream",
     "text": [
      "about to train <function regression_weibull at 0x2888ce9d0>\n"
     ]
    },
    {
     "name": "stderr",
     "output_type": "stream",
     "text": [
      "/tmp/ipykernel_25631/2643545636.py:15: RuntimeWarning: invalid value encountered in log\n",
      "  l = np.sum(df[\"status\"] * (np.divide(np.subtract(np.log(df[\"time\"]),mu),sigma))-np.log(sigma)) # first sum of l\n"
     ]
    },
    {
     "name": "stdout",
     "output_type": "stream",
     "text": [
      "about to train <function regression_weibull at 0x2888ce9d0>\n"
     ]
    },
    {
     "name": "stderr",
     "output_type": "stream",
     "text": [
      "/Users/cuongwilliams/miniconda3/envs/jh/lib/python3.8/site-packages/pandas/core/arraylike.py:364: RuntimeWarning: divide by zero encountered in log\n",
      "  result = getattr(ufunc, method)(*inputs, **kwargs)\n",
      "/Users/cuongwilliams/miniconda3/envs/jh/lib/python3.8/site-packages/pandas/core/arraylike.py:364: RuntimeWarning: divide by zero encountered in log\n",
      "  result = getattr(ufunc, method)(*inputs, **kwargs)\n",
      "/tmp/ipykernel_25631/2643545636.py:15: RuntimeWarning: invalid value encountered in log\n",
      "  l = np.sum(df[\"status\"] * (np.divide(np.subtract(np.log(df[\"time\"]),mu),sigma))-np.log(sigma)) # first sum of l\n",
      "/Users/cuongwilliams/miniconda3/envs/jh/lib/python3.8/site-packages/scipy/optimize/_numdiff.py:576: RuntimeWarning: invalid value encountered in subtract\n",
      "  df = fun(x) - f0\n",
      "/Users/cuongwilliams/miniconda3/envs/jh/lib/python3.8/site-packages/pandas/core/arraylike.py:364: RuntimeWarning: divide by zero encountered in log\n",
      "  result = getattr(ufunc, method)(*inputs, **kwargs)\n",
      "/tmp/ipykernel_25631/2643545636.py:15: RuntimeWarning: invalid value encountered in log\n",
      "  l = np.sum(df[\"status\"] * (np.divide(np.subtract(np.log(df[\"time\"]),mu),sigma))-np.log(sigma)) # first sum of l\n",
      "/Users/cuongwilliams/miniconda3/envs/jh/lib/python3.8/site-packages/pandas/core/arraylike.py:364: RuntimeWarning: divide by zero encountered in log\n",
      "  result = getattr(ufunc, method)(*inputs, **kwargs)\n"
     ]
    },
    {
     "name": "stdout",
     "output_type": "stream",
     "text": [
      "about to train <function regression_weibull at 0x2888ce9d0>\n"
     ]
    },
    {
     "name": "stderr",
     "output_type": "stream",
     "text": [
      "/tmp/ipykernel_25631/2643545636.py:15: RuntimeWarning: invalid value encountered in log\n",
      "  l = np.sum(df[\"status\"] * (np.divide(np.subtract(np.log(df[\"time\"]),mu),sigma))-np.log(sigma)) # first sum of l\n",
      "/tmp/ipykernel_25631/2643545636.py:15: RuntimeWarning: invalid value encountered in log\n",
      "  l = np.sum(df[\"status\"] * (np.divide(np.subtract(np.log(df[\"time\"]),mu),sigma))-np.log(sigma)) # first sum of l\n",
      "/Users/cuongwilliams/miniconda3/envs/jh/lib/python3.8/site-packages/pandas/core/arraylike.py:364: RuntimeWarning: divide by zero encountered in log\n",
      "  result = getattr(ufunc, method)(*inputs, **kwargs)\n",
      "/Users/cuongwilliams/miniconda3/envs/jh/lib/python3.8/site-packages/pandas/core/arraylike.py:364: RuntimeWarning: divide by zero encountered in log\n",
      "  result = getattr(ufunc, method)(*inputs, **kwargs)\n"
     ]
    },
    {
     "name": "stdout",
     "output_type": "stream",
     "text": [
      "about to train <function regression_weibull at 0x2888ce9d0>\n"
     ]
    },
    {
     "name": "stderr",
     "output_type": "stream",
     "text": [
      "/tmp/ipykernel_25631/2643545636.py:15: RuntimeWarning: invalid value encountered in log\n",
      "  l = np.sum(df[\"status\"] * (np.divide(np.subtract(np.log(df[\"time\"]),mu),sigma))-np.log(sigma)) # first sum of l\n",
      "/Users/cuongwilliams/miniconda3/envs/jh/lib/python3.8/site-packages/scipy/optimize/_numdiff.py:576: RuntimeWarning: invalid value encountered in subtract\n",
      "  df = fun(x) - f0\n",
      "/Users/cuongwilliams/miniconda3/envs/jh/lib/python3.8/site-packages/pandas/core/arraylike.py:364: RuntimeWarning: divide by zero encountered in log\n",
      "  result = getattr(ufunc, method)(*inputs, **kwargs)\n",
      "/tmp/ipykernel_25631/2643545636.py:15: RuntimeWarning: invalid value encountered in log\n",
      "  l = np.sum(df[\"status\"] * (np.divide(np.subtract(np.log(df[\"time\"]),mu),sigma))-np.log(sigma)) # first sum of l\n",
      "/Users/cuongwilliams/miniconda3/envs/jh/lib/python3.8/site-packages/pandas/core/arraylike.py:364: RuntimeWarning: divide by zero encountered in log\n",
      "  result = getattr(ufunc, method)(*inputs, **kwargs)\n"
     ]
    },
    {
     "name": "stdout",
     "output_type": "stream",
     "text": [
      "about to train <function regression_weibull at 0x2888ce9d0>\n"
     ]
    },
    {
     "name": "stderr",
     "output_type": "stream",
     "text": [
      "/tmp/ipykernel_25631/2643545636.py:15: RuntimeWarning: invalid value encountered in log\n",
      "  l = np.sum(df[\"status\"] * (np.divide(np.subtract(np.log(df[\"time\"]),mu),sigma))-np.log(sigma)) # first sum of l\n"
     ]
    },
    {
     "name": "stdout",
     "output_type": "stream",
     "text": [
      "about to train <function regression_weibull at 0x2888ce9d0>\n"
     ]
    },
    {
     "name": "stderr",
     "output_type": "stream",
     "text": [
      "/tmp/ipykernel_25631/2643545636.py:15: RuntimeWarning: invalid value encountered in log\n",
      "  l = np.sum(df[\"status\"] * (np.divide(np.subtract(np.log(df[\"time\"]),mu),sigma))-np.log(sigma)) # first sum of l\n"
     ]
    },
    {
     "name": "stdout",
     "output_type": "stream",
     "text": [
      "about to train <function regression_weibull at 0x2888ce9d0>\n"
     ]
    },
    {
     "name": "stderr",
     "output_type": "stream",
     "text": [
      "/tmp/ipykernel_25631/2643545636.py:15: RuntimeWarning: invalid value encountered in log\n",
      "  l = np.sum(df[\"status\"] * (np.divide(np.subtract(np.log(df[\"time\"]),mu),sigma))-np.log(sigma)) # first sum of l\n",
      "/tmp/ipykernel_25631/2643545636.py:15: RuntimeWarning: invalid value encountered in log\n",
      "  l = np.sum(df[\"status\"] * (np.divide(np.subtract(np.log(df[\"time\"]),mu),sigma))-np.log(sigma)) # first sum of l\n"
     ]
    },
    {
     "name": "stdout",
     "output_type": "stream",
     "text": [
      "about to train <function regression_weibull at 0x2888ce9d0>\n"
     ]
    },
    {
     "name": "stderr",
     "output_type": "stream",
     "text": [
      "/Users/cuongwilliams/miniconda3/envs/jh/lib/python3.8/site-packages/pandas/core/arraylike.py:364: RuntimeWarning: divide by zero encountered in log\n",
      "  result = getattr(ufunc, method)(*inputs, **kwargs)\n",
      "/Users/cuongwilliams/miniconda3/envs/jh/lib/python3.8/site-packages/pandas/core/arraylike.py:364: RuntimeWarning: divide by zero encountered in log\n",
      "  result = getattr(ufunc, method)(*inputs, **kwargs)\n",
      "/tmp/ipykernel_25631/2643545636.py:15: RuntimeWarning: invalid value encountered in log\n",
      "  l = np.sum(df[\"status\"] * (np.divide(np.subtract(np.log(df[\"time\"]),mu),sigma))-np.log(sigma)) # first sum of l\n",
      "/Users/cuongwilliams/miniconda3/envs/jh/lib/python3.8/site-packages/scipy/optimize/_numdiff.py:576: RuntimeWarning: invalid value encountered in subtract\n",
      "  df = fun(x) - f0\n",
      "/Users/cuongwilliams/miniconda3/envs/jh/lib/python3.8/site-packages/pandas/core/arraylike.py:364: RuntimeWarning: divide by zero encountered in log\n",
      "  result = getattr(ufunc, method)(*inputs, **kwargs)\n",
      "/tmp/ipykernel_25631/2643545636.py:15: RuntimeWarning: invalid value encountered in log\n",
      "  l = np.sum(df[\"status\"] * (np.divide(np.subtract(np.log(df[\"time\"]),mu),sigma))-np.log(sigma)) # first sum of l\n",
      "/Users/cuongwilliams/miniconda3/envs/jh/lib/python3.8/site-packages/pandas/core/arraylike.py:364: RuntimeWarning: divide by zero encountered in log\n",
      "  result = getattr(ufunc, method)(*inputs, **kwargs)\n"
     ]
    },
    {
     "name": "stdout",
     "output_type": "stream",
     "text": [
      "c_vals [0.6177375298373403, 0.5982224029182407, 0.6453641476049693, 0.6294421065630611, 0.6023629789873379, 0.6315506351732102, 0.6205731704080588, 0.6357169039265703, 0.6424741323813975, 0.6226256793221517]\n",
      "about to train <function deep_hit at 0x2888cedc0>\n",
      "about to train <function deep_hit at 0x2888cedc0>\n",
      "about to train <function deep_hit at 0x2888cedc0>\n",
      "about to train <function deep_hit at 0x2888cedc0>\n",
      "about to train <function deep_hit at 0x2888cedc0>\n",
      "about to train <function deep_hit at 0x2888cedc0>\n",
      "about to train <function deep_hit at 0x2888cedc0>\n",
      "about to train <function deep_hit at 0x2888cedc0>\n",
      "about to train <function deep_hit at 0x2888cedc0>\n",
      "about to train <function deep_hit at 0x2888cedc0>\n",
      "c_vals [0.6065275866442291, 0.5559414168450099, 0.5510411462187779, 0.5892164033779483, 0.5091410374718243, 0.5215266727607182, 0.5215346468962432, 0.5597382535776001, 0.5155693691360319, 0.5790130082161132]\n",
      "about to train <function deep_weibull at 0x2888eaca0>\n"
     ]
    },
    {
     "name": "stderr",
     "output_type": "stream",
     "text": [
      "/Users/cuongwilliams/miniconda3/envs/jh/lib/python3.8/site-packages/keras/optimizers/legacy/rmsprop.py:143: UserWarning: The `lr` argument is deprecated, use `learning_rate` instead.\n",
      "  super().__init__(name, **kwargs)\n"
     ]
    },
    {
     "name": "stdout",
     "output_type": "stream",
     "text": [
      "1/1 [==============================] - 0s 25ms/step\n",
      "about to train <function deep_weibull at 0x2888eaca0>\n",
      "1/1 [==============================] - 0s 25ms/step\n",
      "about to train <function deep_weibull at 0x2888eaca0>\n",
      "1/1 [==============================] - 0s 25ms/step\n",
      "about to train <function deep_weibull at 0x2888eaca0>\n",
      "1/1 [==============================] - 0s 25ms/step\n",
      "about to train <function deep_weibull at 0x2888eaca0>\n",
      "1/1 [==============================] - 0s 25ms/step\n",
      "about to train <function deep_weibull at 0x2888eaca0>\n",
      "1/1 [==============================] - 0s 26ms/step\n",
      "about to train <function deep_weibull at 0x2888eaca0>\n",
      "1/1 [==============================] - 0s 25ms/step\n",
      "about to train <function deep_weibull at 0x2888eaca0>\n",
      "1/1 [==============================] - 0s 25ms/step\n",
      "about to train <function deep_weibull at 0x2888eaca0>\n",
      "1/1 [==============================] - 0s 25ms/step\n",
      "about to train <function deep_weibull at 0x2888eaca0>\n",
      "1/1 [==============================] - 0s 25ms/step\n",
      "c_vals [0.5429988964206549, 0.5809791089051138, 0.5060087078366774, 0.6101053471516372, 0.5033546132550716, 0.5376665049109779, 0.5855073342912712, 0.5478496996536479, 0.568605260046283, 0.5566416731543979]\n",
      "about to train <function regression_weibull at 0x2888ce9d0>\n"
     ]
    },
    {
     "name": "stderr",
     "output_type": "stream",
     "text": [
      "/Users/cuongwilliams/miniconda3/envs/jh/lib/python3.8/site-packages/pandas/core/arraylike.py:364: RuntimeWarning: divide by zero encountered in log\n",
      "  result = getattr(ufunc, method)(*inputs, **kwargs)\n",
      "/Users/cuongwilliams/miniconda3/envs/jh/lib/python3.8/site-packages/pandas/core/arraylike.py:364: RuntimeWarning: divide by zero encountered in log\n",
      "  result = getattr(ufunc, method)(*inputs, **kwargs)\n",
      "/tmp/ipykernel_25631/2643545636.py:15: RuntimeWarning: invalid value encountered in log\n",
      "  l = np.sum(df[\"status\"] * (np.divide(np.subtract(np.log(df[\"time\"]),mu),sigma))-np.log(sigma)) # first sum of l\n",
      "/Users/cuongwilliams/miniconda3/envs/jh/lib/python3.8/site-packages/pandas/core/arraylike.py:364: RuntimeWarning: overflow encountered in exp\n",
      "  result = getattr(ufunc, method)(*inputs, **kwargs)\n",
      "/Users/cuongwilliams/miniconda3/envs/jh/lib/python3.8/site-packages/scipy/optimize/_numdiff.py:576: RuntimeWarning: invalid value encountered in subtract\n",
      "  df = fun(x) - f0\n",
      "/Users/cuongwilliams/miniconda3/envs/jh/lib/python3.8/site-packages/pandas/core/arraylike.py:364: RuntimeWarning: divide by zero encountered in log\n",
      "  result = getattr(ufunc, method)(*inputs, **kwargs)\n",
      "/tmp/ipykernel_25631/2643545636.py:15: RuntimeWarning: invalid value encountered in log\n",
      "  l = np.sum(df[\"status\"] * (np.divide(np.subtract(np.log(df[\"time\"]),mu),sigma))-np.log(sigma)) # first sum of l\n",
      "/Users/cuongwilliams/miniconda3/envs/jh/lib/python3.8/site-packages/pandas/core/arraylike.py:364: RuntimeWarning: overflow encountered in exp\n",
      "  result = getattr(ufunc, method)(*inputs, **kwargs)\n",
      "/Users/cuongwilliams/miniconda3/envs/jh/lib/python3.8/site-packages/pandas/core/arraylike.py:364: RuntimeWarning: divide by zero encountered in log\n",
      "  result = getattr(ufunc, method)(*inputs, **kwargs)\n"
     ]
    },
    {
     "name": "stdout",
     "output_type": "stream",
     "text": [
      "about to train <function regression_weibull at 0x2888ce9d0>\n"
     ]
    },
    {
     "name": "stderr",
     "output_type": "stream",
     "text": [
      "/Users/cuongwilliams/miniconda3/envs/jh/lib/python3.8/site-packages/pandas/core/arraylike.py:364: RuntimeWarning: divide by zero encountered in log\n",
      "  result = getattr(ufunc, method)(*inputs, **kwargs)\n"
     ]
    },
    {
     "name": "stdout",
     "output_type": "stream",
     "text": [
      "about to train <function regression_weibull at 0x2888ce9d0>\n"
     ]
    },
    {
     "name": "stderr",
     "output_type": "stream",
     "text": [
      "/Users/cuongwilliams/miniconda3/envs/jh/lib/python3.8/site-packages/pandas/core/arraylike.py:364: RuntimeWarning: divide by zero encountered in log\n",
      "  result = getattr(ufunc, method)(*inputs, **kwargs)\n",
      "/Users/cuongwilliams/miniconda3/envs/jh/lib/python3.8/site-packages/pandas/core/arraylike.py:364: RuntimeWarning: divide by zero encountered in log\n",
      "  result = getattr(ufunc, method)(*inputs, **kwargs)\n",
      "/tmp/ipykernel_25631/2643545636.py:15: RuntimeWarning: invalid value encountered in log\n",
      "  l = np.sum(df[\"status\"] * (np.divide(np.subtract(np.log(df[\"time\"]),mu),sigma))-np.log(sigma)) # first sum of l\n",
      "/Users/cuongwilliams/miniconda3/envs/jh/lib/python3.8/site-packages/scipy/optimize/_numdiff.py:576: RuntimeWarning: invalid value encountered in subtract\n",
      "  df = fun(x) - f0\n",
      "/Users/cuongwilliams/miniconda3/envs/jh/lib/python3.8/site-packages/pandas/core/arraylike.py:364: RuntimeWarning: divide by zero encountered in log\n",
      "  result = getattr(ufunc, method)(*inputs, **kwargs)\n",
      "/tmp/ipykernel_25631/2643545636.py:15: RuntimeWarning: invalid value encountered in log\n",
      "  l = np.sum(df[\"status\"] * (np.divide(np.subtract(np.log(df[\"time\"]),mu),sigma))-np.log(sigma)) # first sum of l\n",
      "/Users/cuongwilliams/miniconda3/envs/jh/lib/python3.8/site-packages/pandas/core/arraylike.py:364: RuntimeWarning: divide by zero encountered in log\n",
      "  result = getattr(ufunc, method)(*inputs, **kwargs)\n"
     ]
    },
    {
     "name": "stdout",
     "output_type": "stream",
     "text": [
      "about to train <function regression_weibull at 0x2888ce9d0>\n"
     ]
    },
    {
     "name": "stderr",
     "output_type": "stream",
     "text": [
      "/Users/cuongwilliams/miniconda3/envs/jh/lib/python3.8/site-packages/pandas/core/arraylike.py:364: RuntimeWarning: divide by zero encountered in log\n",
      "  result = getattr(ufunc, method)(*inputs, **kwargs)\n",
      "/tmp/ipykernel_25631/2643545636.py:15: RuntimeWarning: invalid value encountered in log\n",
      "  l = np.sum(df[\"status\"] * (np.divide(np.subtract(np.log(df[\"time\"]),mu),sigma))-np.log(sigma)) # first sum of l\n",
      "/Users/cuongwilliams/miniconda3/envs/jh/lib/python3.8/site-packages/scipy/optimize/_numdiff.py:576: RuntimeWarning: invalid value encountered in subtract\n",
      "  df = fun(x) - f0\n",
      "/Users/cuongwilliams/miniconda3/envs/jh/lib/python3.8/site-packages/pandas/core/arraylike.py:364: RuntimeWarning: divide by zero encountered in log\n",
      "  result = getattr(ufunc, method)(*inputs, **kwargs)\n",
      "/tmp/ipykernel_25631/2643545636.py:15: RuntimeWarning: invalid value encountered in log\n",
      "  l = np.sum(df[\"status\"] * (np.divide(np.subtract(np.log(df[\"time\"]),mu),sigma))-np.log(sigma)) # first sum of l\n",
      "/Users/cuongwilliams/miniconda3/envs/jh/lib/python3.8/site-packages/pandas/core/arraylike.py:364: RuntimeWarning: divide by zero encountered in log\n",
      "  result = getattr(ufunc, method)(*inputs, **kwargs)\n"
     ]
    },
    {
     "name": "stdout",
     "output_type": "stream",
     "text": [
      "about to train <function regression_weibull at 0x2888ce9d0>\n"
     ]
    },
    {
     "name": "stderr",
     "output_type": "stream",
     "text": [
      "/tmp/ipykernel_25631/2643545636.py:15: RuntimeWarning: invalid value encountered in log\n",
      "  l = np.sum(df[\"status\"] * (np.divide(np.subtract(np.log(df[\"time\"]),mu),sigma))-np.log(sigma)) # first sum of l\n"
     ]
    },
    {
     "name": "stdout",
     "output_type": "stream",
     "text": [
      "about to train <function regression_weibull at 0x2888ce9d0>\n",
      "about to train <function regression_weibull at 0x2888ce9d0>\n"
     ]
    },
    {
     "name": "stderr",
     "output_type": "stream",
     "text": [
      "/Users/cuongwilliams/miniconda3/envs/jh/lib/python3.8/site-packages/pandas/core/arraylike.py:364: RuntimeWarning: divide by zero encountered in log\n",
      "  result = getattr(ufunc, method)(*inputs, **kwargs)\n",
      "/Users/cuongwilliams/miniconda3/envs/jh/lib/python3.8/site-packages/pandas/core/arraylike.py:364: RuntimeWarning: divide by zero encountered in log\n",
      "  result = getattr(ufunc, method)(*inputs, **kwargs)\n"
     ]
    },
    {
     "name": "stdout",
     "output_type": "stream",
     "text": [
      "about to train <function regression_weibull at 0x2888ce9d0>\n"
     ]
    },
    {
     "name": "stderr",
     "output_type": "stream",
     "text": [
      "/tmp/ipykernel_25631/2643545636.py:15: RuntimeWarning: invalid value encountered in log\n",
      "  l = np.sum(df[\"status\"] * (np.divide(np.subtract(np.log(df[\"time\"]),mu),sigma))-np.log(sigma)) # first sum of l\n"
     ]
    },
    {
     "name": "stdout",
     "output_type": "stream",
     "text": [
      "about to train <function regression_weibull at 0x2888ce9d0>\n"
     ]
    },
    {
     "name": "stderr",
     "output_type": "stream",
     "text": [
      "/Users/cuongwilliams/miniconda3/envs/jh/lib/python3.8/site-packages/pandas/core/arraylike.py:364: RuntimeWarning: divide by zero encountered in log\n",
      "  result = getattr(ufunc, method)(*inputs, **kwargs)\n",
      "/Users/cuongwilliams/miniconda3/envs/jh/lib/python3.8/site-packages/pandas/core/arraylike.py:364: RuntimeWarning: divide by zero encountered in log\n",
      "  result = getattr(ufunc, method)(*inputs, **kwargs)\n",
      "/tmp/ipykernel_25631/2643545636.py:15: RuntimeWarning: invalid value encountered in log\n",
      "  l = np.sum(df[\"status\"] * (np.divide(np.subtract(np.log(df[\"time\"]),mu),sigma))-np.log(sigma)) # first sum of l\n",
      "/Users/cuongwilliams/miniconda3/envs/jh/lib/python3.8/site-packages/scipy/optimize/_numdiff.py:576: RuntimeWarning: invalid value encountered in subtract\n",
      "  df = fun(x) - f0\n",
      "/Users/cuongwilliams/miniconda3/envs/jh/lib/python3.8/site-packages/pandas/core/arraylike.py:364: RuntimeWarning: divide by zero encountered in log\n",
      "  result = getattr(ufunc, method)(*inputs, **kwargs)\n",
      "/tmp/ipykernel_25631/2643545636.py:15: RuntimeWarning: invalid value encountered in log\n",
      "  l = np.sum(df[\"status\"] * (np.divide(np.subtract(np.log(df[\"time\"]),mu),sigma))-np.log(sigma)) # first sum of l\n",
      "/Users/cuongwilliams/miniconda3/envs/jh/lib/python3.8/site-packages/pandas/core/arraylike.py:364: RuntimeWarning: divide by zero encountered in log\n",
      "  result = getattr(ufunc, method)(*inputs, **kwargs)\n"
     ]
    },
    {
     "name": "stdout",
     "output_type": "stream",
     "text": [
      "about to train <function regression_weibull at 0x2888ce9d0>\n"
     ]
    },
    {
     "name": "stderr",
     "output_type": "stream",
     "text": [
      "/tmp/ipykernel_25631/2643545636.py:15: RuntimeWarning: invalid value encountered in log\n",
      "  l = np.sum(df[\"status\"] * (np.divide(np.subtract(np.log(df[\"time\"]),mu),sigma))-np.log(sigma)) # first sum of l\n"
     ]
    },
    {
     "name": "stdout",
     "output_type": "stream",
     "text": [
      "c_vals [0.6279095615678899, 0.6226636642173001, 0.6311582817910422, 0.626395594863022, 0.64124759640327, 0.6375580435855063, 0.6403503136028996, 0.6445324062007148, 0.6254841702168819, 0.649153410399712]\n",
      "about to train <function deep_hit at 0x2888cedc0>\n",
      "about to train <function deep_hit at 0x2888cedc0>\n",
      "about to train <function deep_hit at 0x2888cedc0>\n",
      "about to train <function deep_hit at 0x2888cedc0>\n",
      "about to train <function deep_hit at 0x2888cedc0>\n",
      "about to train <function deep_hit at 0x2888cedc0>\n",
      "about to train <function deep_hit at 0x2888cedc0>\n",
      "about to train <function deep_hit at 0x2888cedc0>\n",
      "about to train <function deep_hit at 0x2888cedc0>\n",
      "about to train <function deep_hit at 0x2888cedc0>\n",
      "c_vals [0.5236710658815213, 0.5566383102004266, 0.5658205554855803, 0.5376235422074562, 0.5006457424050759, 0.56195703392024, 0.605146144933059, 0.49246557490026993, 0.48069474304355664, 0.5665072112750393]\n",
      "about to train <function deep_weibull at 0x2888eaca0>\n"
     ]
    },
    {
     "name": "stderr",
     "output_type": "stream",
     "text": [
      "/Users/cuongwilliams/miniconda3/envs/jh/lib/python3.8/site-packages/keras/optimizers/legacy/rmsprop.py:143: UserWarning: The `lr` argument is deprecated, use `learning_rate` instead.\n",
      "  super().__init__(name, **kwargs)\n"
     ]
    },
    {
     "name": "stdout",
     "output_type": "stream",
     "text": [
      "1/1 [==============================] - 0s 27ms/step\n",
      "about to train <function deep_weibull at 0x2888eaca0>\n",
      "1/1 [==============================] - 0s 25ms/step\n",
      "about to train <function deep_weibull at 0x2888eaca0>\n",
      "1/1 [==============================] - 0s 25ms/step\n",
      "about to train <function deep_weibull at 0x2888eaca0>\n",
      "1/1 [==============================] - 0s 25ms/step\n",
      "about to train <function deep_weibull at 0x2888eaca0>\n",
      "1/1 [==============================] - 0s 26ms/step\n",
      "about to train <function deep_weibull at 0x2888eaca0>\n",
      "1/1 [==============================] - 0s 25ms/step\n",
      "about to train <function deep_weibull at 0x2888eaca0>\n",
      "1/1 [==============================] - 0s 26ms/step\n",
      "about to train <function deep_weibull at 0x2888eaca0>\n",
      "1/1 [==============================] - 0s 25ms/step\n",
      "about to train <function deep_weibull at 0x2888eaca0>\n",
      "1/1 [==============================] - 0s 25ms/step\n",
      "about to train <function deep_weibull at 0x2888eaca0>\n",
      "1/1 [==============================] - 0s 25ms/step\n",
      "c_vals [0.527759067962201, 0.5718327231864592, 0.5312402633131583, 0.606001360643069, 0.52134702969532, 0.5413345544885196, 0.5811811674313807, 0.5449613670199371, 0.5835454669357356, 0.5332496919357617]\n",
      "about to train <function regression_weibull at 0x2888ce9d0>\n"
     ]
    },
    {
     "name": "stderr",
     "output_type": "stream",
     "text": [
      "/tmp/ipykernel_25631/2643545636.py:15: RuntimeWarning: invalid value encountered in log\n",
      "  l = np.sum(df[\"status\"] * (np.divide(np.subtract(np.log(df[\"time\"]),mu),sigma))-np.log(sigma)) # first sum of l\n",
      "/tmp/ipykernel_25631/2643545636.py:15: RuntimeWarning: invalid value encountered in log\n",
      "  l = np.sum(df[\"status\"] * (np.divide(np.subtract(np.log(df[\"time\"]),mu),sigma))-np.log(sigma)) # first sum of l\n",
      "/Users/cuongwilliams/miniconda3/envs/jh/lib/python3.8/site-packages/pandas/core/arraylike.py:364: RuntimeWarning: divide by zero encountered in log\n",
      "  result = getattr(ufunc, method)(*inputs, **kwargs)\n",
      "/Users/cuongwilliams/miniconda3/envs/jh/lib/python3.8/site-packages/pandas/core/arraylike.py:364: RuntimeWarning: divide by zero encountered in log\n",
      "  result = getattr(ufunc, method)(*inputs, **kwargs)\n"
     ]
    },
    {
     "name": "stdout",
     "output_type": "stream",
     "text": [
      "about to train <function regression_weibull at 0x2888ce9d0>\n"
     ]
    },
    {
     "name": "stderr",
     "output_type": "stream",
     "text": [
      "/tmp/ipykernel_25631/2643545636.py:15: RuntimeWarning: invalid value encountered in log\n",
      "  l = np.sum(df[\"status\"] * (np.divide(np.subtract(np.log(df[\"time\"]),mu),sigma))-np.log(sigma)) # first sum of l\n",
      "/Users/cuongwilliams/miniconda3/envs/jh/lib/python3.8/site-packages/scipy/optimize/_numdiff.py:576: RuntimeWarning: invalid value encountered in subtract\n",
      "  df = fun(x) - f0\n",
      "/Users/cuongwilliams/miniconda3/envs/jh/lib/python3.8/site-packages/pandas/core/arraylike.py:364: RuntimeWarning: divide by zero encountered in log\n",
      "  result = getattr(ufunc, method)(*inputs, **kwargs)\n",
      "/tmp/ipykernel_25631/2643545636.py:15: RuntimeWarning: invalid value encountered in log\n",
      "  l = np.sum(df[\"status\"] * (np.divide(np.subtract(np.log(df[\"time\"]),mu),sigma))-np.log(sigma)) # first sum of l\n",
      "/Users/cuongwilliams/miniconda3/envs/jh/lib/python3.8/site-packages/pandas/core/arraylike.py:364: RuntimeWarning: divide by zero encountered in log\n",
      "  result = getattr(ufunc, method)(*inputs, **kwargs)\n"
     ]
    },
    {
     "name": "stdout",
     "output_type": "stream",
     "text": [
      "about to train <function regression_weibull at 0x2888ce9d0>\n"
     ]
    },
    {
     "name": "stderr",
     "output_type": "stream",
     "text": [
      "/tmp/ipykernel_25631/2643545636.py:15: RuntimeWarning: invalid value encountered in log\n",
      "  l = np.sum(df[\"status\"] * (np.divide(np.subtract(np.log(df[\"time\"]),mu),sigma))-np.log(sigma)) # first sum of l\n"
     ]
    },
    {
     "name": "stdout",
     "output_type": "stream",
     "text": [
      "about to train <function regression_weibull at 0x2888ce9d0>\n"
     ]
    },
    {
     "name": "stderr",
     "output_type": "stream",
     "text": [
      "/Users/cuongwilliams/miniconda3/envs/jh/lib/python3.8/site-packages/pandas/core/arraylike.py:364: RuntimeWarning: divide by zero encountered in log\n",
      "  result = getattr(ufunc, method)(*inputs, **kwargs)\n",
      "/Users/cuongwilliams/miniconda3/envs/jh/lib/python3.8/site-packages/pandas/core/arraylike.py:364: RuntimeWarning: divide by zero encountered in log\n",
      "  result = getattr(ufunc, method)(*inputs, **kwargs)\n",
      "/tmp/ipykernel_25631/2643545636.py:15: RuntimeWarning: invalid value encountered in log\n",
      "  l = np.sum(df[\"status\"] * (np.divide(np.subtract(np.log(df[\"time\"]),mu),sigma))-np.log(sigma)) # first sum of l\n",
      "/Users/cuongwilliams/miniconda3/envs/jh/lib/python3.8/site-packages/scipy/optimize/_numdiff.py:576: RuntimeWarning: invalid value encountered in subtract\n",
      "  df = fun(x) - f0\n",
      "/Users/cuongwilliams/miniconda3/envs/jh/lib/python3.8/site-packages/pandas/core/arraylike.py:364: RuntimeWarning: divide by zero encountered in log\n",
      "  result = getattr(ufunc, method)(*inputs, **kwargs)\n",
      "/tmp/ipykernel_25631/2643545636.py:15: RuntimeWarning: invalid value encountered in log\n",
      "  l = np.sum(df[\"status\"] * (np.divide(np.subtract(np.log(df[\"time\"]),mu),sigma))-np.log(sigma)) # first sum of l\n",
      "/Users/cuongwilliams/miniconda3/envs/jh/lib/python3.8/site-packages/pandas/core/arraylike.py:364: RuntimeWarning: divide by zero encountered in log\n",
      "  result = getattr(ufunc, method)(*inputs, **kwargs)\n"
     ]
    },
    {
     "name": "stdout",
     "output_type": "stream",
     "text": [
      "about to train <function regression_weibull at 0x2888ce9d0>\n"
     ]
    },
    {
     "name": "stderr",
     "output_type": "stream",
     "text": [
      "/tmp/ipykernel_25631/2643545636.py:15: RuntimeWarning: invalid value encountered in log\n",
      "  l = np.sum(df[\"status\"] * (np.divide(np.subtract(np.log(df[\"time\"]),mu),sigma))-np.log(sigma)) # first sum of l\n",
      "/tmp/ipykernel_25631/2643545636.py:15: RuntimeWarning: invalid value encountered in log\n",
      "  l = np.sum(df[\"status\"] * (np.divide(np.subtract(np.log(df[\"time\"]),mu),sigma))-np.log(sigma)) # first sum of l\n"
     ]
    },
    {
     "name": "stdout",
     "output_type": "stream",
     "text": [
      "about to train <function regression_weibull at 0x2888ce9d0>\n"
     ]
    },
    {
     "name": "stderr",
     "output_type": "stream",
     "text": [
      "/Users/cuongwilliams/miniconda3/envs/jh/lib/python3.8/site-packages/pandas/core/arraylike.py:364: RuntimeWarning: divide by zero encountered in log\n",
      "  result = getattr(ufunc, method)(*inputs, **kwargs)\n",
      "/Users/cuongwilliams/miniconda3/envs/jh/lib/python3.8/site-packages/pandas/core/arraylike.py:364: RuntimeWarning: divide by zero encountered in log\n",
      "  result = getattr(ufunc, method)(*inputs, **kwargs)\n",
      "/tmp/ipykernel_25631/2643545636.py:15: RuntimeWarning: invalid value encountered in log\n",
      "  l = np.sum(df[\"status\"] * (np.divide(np.subtract(np.log(df[\"time\"]),mu),sigma))-np.log(sigma)) # first sum of l\n",
      "/Users/cuongwilliams/miniconda3/envs/jh/lib/python3.8/site-packages/scipy/optimize/_numdiff.py:576: RuntimeWarning: invalid value encountered in subtract\n",
      "  df = fun(x) - f0\n",
      "/Users/cuongwilliams/miniconda3/envs/jh/lib/python3.8/site-packages/pandas/core/arraylike.py:364: RuntimeWarning: divide by zero encountered in log\n",
      "  result = getattr(ufunc, method)(*inputs, **kwargs)\n",
      "/tmp/ipykernel_25631/2643545636.py:15: RuntimeWarning: invalid value encountered in log\n",
      "  l = np.sum(df[\"status\"] * (np.divide(np.subtract(np.log(df[\"time\"]),mu),sigma))-np.log(sigma)) # first sum of l\n",
      "/Users/cuongwilliams/miniconda3/envs/jh/lib/python3.8/site-packages/pandas/core/arraylike.py:364: RuntimeWarning: divide by zero encountered in log\n",
      "  result = getattr(ufunc, method)(*inputs, **kwargs)\n"
     ]
    },
    {
     "name": "stdout",
     "output_type": "stream",
     "text": [
      "about to train <function regression_weibull at 0x2888ce9d0>\n"
     ]
    },
    {
     "name": "stderr",
     "output_type": "stream",
     "text": [
      "/Users/cuongwilliams/miniconda3/envs/jh/lib/python3.8/site-packages/pandas/core/arraylike.py:364: RuntimeWarning: divide by zero encountered in log\n",
      "  result = getattr(ufunc, method)(*inputs, **kwargs)\n",
      "/Users/cuongwilliams/miniconda3/envs/jh/lib/python3.8/site-packages/pandas/core/arraylike.py:364: RuntimeWarning: divide by zero encountered in log\n",
      "  result = getattr(ufunc, method)(*inputs, **kwargs)\n",
      "/tmp/ipykernel_25631/2643545636.py:15: RuntimeWarning: invalid value encountered in log\n",
      "  l = np.sum(df[\"status\"] * (np.divide(np.subtract(np.log(df[\"time\"]),mu),sigma))-np.log(sigma)) # first sum of l\n",
      "/Users/cuongwilliams/miniconda3/envs/jh/lib/python3.8/site-packages/scipy/optimize/_numdiff.py:576: RuntimeWarning: invalid value encountered in subtract\n",
      "  df = fun(x) - f0\n",
      "/Users/cuongwilliams/miniconda3/envs/jh/lib/python3.8/site-packages/pandas/core/arraylike.py:364: RuntimeWarning: divide by zero encountered in log\n",
      "  result = getattr(ufunc, method)(*inputs, **kwargs)\n",
      "/tmp/ipykernel_25631/2643545636.py:15: RuntimeWarning: invalid value encountered in log\n",
      "  l = np.sum(df[\"status\"] * (np.divide(np.subtract(np.log(df[\"time\"]),mu),sigma))-np.log(sigma)) # first sum of l\n",
      "/Users/cuongwilliams/miniconda3/envs/jh/lib/python3.8/site-packages/pandas/core/arraylike.py:364: RuntimeWarning: divide by zero encountered in log\n",
      "  result = getattr(ufunc, method)(*inputs, **kwargs)\n",
      "/Users/cuongwilliams/miniconda3/envs/jh/lib/python3.8/site-packages/pandas/core/arraylike.py:364: RuntimeWarning: divide by zero encountered in log\n",
      "  result = getattr(ufunc, method)(*inputs, **kwargs)\n",
      "/tmp/ipykernel_25631/2643545636.py:15: RuntimeWarning: invalid value encountered in log\n",
      "  l = np.sum(df[\"status\"] * (np.divide(np.subtract(np.log(df[\"time\"]),mu),sigma))-np.log(sigma)) # first sum of l\n",
      "/tmp/ipykernel_25631/2643545636.py:15: RuntimeWarning: invalid value encountered in log\n",
      "  l = np.sum(df[\"status\"] * (np.divide(np.subtract(np.log(df[\"time\"]),mu),sigma))-np.log(sigma)) # first sum of l\n"
     ]
    },
    {
     "name": "stdout",
     "output_type": "stream",
     "text": [
      "about to train <function regression_weibull at 0x2888ce9d0>\n",
      "about to train <function regression_weibull at 0x2888ce9d0>\n"
     ]
    },
    {
     "name": "stderr",
     "output_type": "stream",
     "text": [
      "/tmp/ipykernel_25631/2643545636.py:15: RuntimeWarning: invalid value encountered in log\n",
      "  l = np.sum(df[\"status\"] * (np.divide(np.subtract(np.log(df[\"time\"]),mu),sigma))-np.log(sigma)) # first sum of l\n"
     ]
    },
    {
     "name": "stdout",
     "output_type": "stream",
     "text": [
      "about to train <function regression_weibull at 0x2888ce9d0>\n"
     ]
    },
    {
     "name": "stderr",
     "output_type": "stream",
     "text": [
      "/tmp/ipykernel_25631/2643545636.py:15: RuntimeWarning: invalid value encountered in log\n",
      "  l = np.sum(df[\"status\"] * (np.divide(np.subtract(np.log(df[\"time\"]),mu),sigma))-np.log(sigma)) # first sum of l\n",
      "/tmp/ipykernel_25631/2643545636.py:15: RuntimeWarning: invalid value encountered in log\n",
      "  l = np.sum(df[\"status\"] * (np.divide(np.subtract(np.log(df[\"time\"]),mu),sigma))-np.log(sigma)) # first sum of l\n"
     ]
    },
    {
     "name": "stdout",
     "output_type": "stream",
     "text": [
      "c_vals [0.5917885504960025, 0.6197615887076636, 0.6246715752962313, 0.6345849301618471, 0.6256332081323045, 0.6567046982892402, 0.6287484490779486, 0.6226537319510216, 0.6458720070477928, 0.6191326699614431]\n",
      "about to train <function deep_hit at 0x2888cedc0>\n",
      "about to train <function deep_hit at 0x2888cedc0>\n",
      "about to train <function deep_hit at 0x2888cedc0>\n",
      "about to train <function deep_hit at 0x2888cedc0>\n",
      "about to train <function deep_hit at 0x2888cedc0>\n",
      "about to train <function deep_hit at 0x2888cedc0>\n",
      "about to train <function deep_hit at 0x2888cedc0>\n",
      "about to train <function deep_hit at 0x2888cedc0>\n",
      "about to train <function deep_hit at 0x2888cedc0>\n",
      "about to train <function deep_hit at 0x2888cedc0>\n",
      "c_vals [0.5907510896013263, 0.6184289037549121, 0.5520313003022026, 0.5504069933170748, 0.5058435877690644, 0.5683203038992803, 0.5512196158761281, 0.5732733661724928, 0.5904781382080567, 0.537545877333616]\n",
      "about to train <function deep_weibull at 0x2888eaca0>\n"
     ]
    },
    {
     "name": "stderr",
     "output_type": "stream",
     "text": [
      "/Users/cuongwilliams/miniconda3/envs/jh/lib/python3.8/site-packages/keras/optimizers/legacy/rmsprop.py:143: UserWarning: The `lr` argument is deprecated, use `learning_rate` instead.\n",
      "  super().__init__(name, **kwargs)\n"
     ]
    },
    {
     "name": "stdout",
     "output_type": "stream",
     "text": [
      "1/1 [==============================] - 0s 25ms/step\n",
      "about to train <function deep_weibull at 0x2888eaca0>\n",
      "1/1 [==============================] - 0s 25ms/step\n",
      "about to train <function deep_weibull at 0x2888eaca0>\n",
      "1/1 [==============================] - 0s 25ms/step\n",
      "about to train <function deep_weibull at 0x2888eaca0>\n",
      "1/1 [==============================] - 0s 25ms/step\n",
      "about to train <function deep_weibull at 0x2888eaca0>\n",
      "1/1 [==============================] - 0s 192ms/step\n",
      "about to train <function deep_weibull at 0x2888eaca0>\n",
      "1/1 [==============================] - 0s 25ms/step\n",
      "about to train <function deep_weibull at 0x2888eaca0>\n",
      "1/1 [==============================] - 0s 25ms/step\n",
      "about to train <function deep_weibull at 0x2888eaca0>\n",
      "1/1 [==============================] - 0s 25ms/step\n",
      "about to train <function deep_weibull at 0x2888eaca0>\n",
      "1/1 [==============================] - 0s 25ms/step\n",
      "about to train <function deep_weibull at 0x2888eaca0>\n",
      "1/1 [==============================] - 0s 25ms/step\n",
      "c_vals [0.5262386694831412, 0.5870332645524202, 0.4790872649102219, 0.6086556023606668, 0.5246080264860419, 0.5643491340090777, 0.5972012997191735, 0.5532182111912259, 0.5716682922736473, 0.5291852715540657]\n",
      "about to train <function regression_weibull at 0x2888ce9d0>\n"
     ]
    },
    {
     "name": "stderr",
     "output_type": "stream",
     "text": [
      "/tmp/ipykernel_25631/2643545636.py:15: RuntimeWarning: invalid value encountered in log\n",
      "  l = np.sum(df[\"status\"] * (np.divide(np.subtract(np.log(df[\"time\"]),mu),sigma))-np.log(sigma)) # first sum of l\n"
     ]
    },
    {
     "name": "stdout",
     "output_type": "stream",
     "text": [
      "about to train <function regression_weibull at 0x2888ce9d0>\n"
     ]
    },
    {
     "name": "stderr",
     "output_type": "stream",
     "text": [
      "/Users/cuongwilliams/miniconda3/envs/jh/lib/python3.8/site-packages/pandas/core/arraylike.py:364: RuntimeWarning: divide by zero encountered in log\n",
      "  result = getattr(ufunc, method)(*inputs, **kwargs)\n",
      "/Users/cuongwilliams/miniconda3/envs/jh/lib/python3.8/site-packages/pandas/core/arraylike.py:364: RuntimeWarning: divide by zero encountered in log\n",
      "  result = getattr(ufunc, method)(*inputs, **kwargs)\n"
     ]
    },
    {
     "name": "stdout",
     "output_type": "stream",
     "text": [
      "about to train <function regression_weibull at 0x2888ce9d0>\n"
     ]
    },
    {
     "name": "stderr",
     "output_type": "stream",
     "text": [
      "/Users/cuongwilliams/miniconda3/envs/jh/lib/python3.8/site-packages/pandas/core/arraylike.py:364: RuntimeWarning: divide by zero encountered in log\n",
      "  result = getattr(ufunc, method)(*inputs, **kwargs)\n",
      "/Users/cuongwilliams/miniconda3/envs/jh/lib/python3.8/site-packages/pandas/core/arraylike.py:364: RuntimeWarning: divide by zero encountered in log\n",
      "  result = getattr(ufunc, method)(*inputs, **kwargs)\n"
     ]
    },
    {
     "name": "stdout",
     "output_type": "stream",
     "text": [
      "about to train <function regression_weibull at 0x2888ce9d0>\n"
     ]
    },
    {
     "name": "stderr",
     "output_type": "stream",
     "text": [
      "/Users/cuongwilliams/miniconda3/envs/jh/lib/python3.8/site-packages/pandas/core/arraylike.py:364: RuntimeWarning: divide by zero encountered in log\n",
      "  result = getattr(ufunc, method)(*inputs, **kwargs)\n",
      "/Users/cuongwilliams/miniconda3/envs/jh/lib/python3.8/site-packages/pandas/core/arraylike.py:364: RuntimeWarning: divide by zero encountered in log\n",
      "  result = getattr(ufunc, method)(*inputs, **kwargs)\n"
     ]
    },
    {
     "name": "stdout",
     "output_type": "stream",
     "text": [
      "about to train <function regression_weibull at 0x2888ce9d0>\n",
      "about to train <function regression_weibull at 0x2888ce9d0>\n"
     ]
    },
    {
     "name": "stderr",
     "output_type": "stream",
     "text": [
      "/tmp/ipykernel_25631/2643545636.py:15: RuntimeWarning: invalid value encountered in log\n",
      "  l = np.sum(df[\"status\"] * (np.divide(np.subtract(np.log(df[\"time\"]),mu),sigma))-np.log(sigma)) # first sum of l\n",
      "/tmp/ipykernel_25631/2643545636.py:15: RuntimeWarning: invalid value encountered in log\n",
      "  l = np.sum(df[\"status\"] * (np.divide(np.subtract(np.log(df[\"time\"]),mu),sigma))-np.log(sigma)) # first sum of l\n",
      "/Users/cuongwilliams/miniconda3/envs/jh/lib/python3.8/site-packages/pandas/core/arraylike.py:364: RuntimeWarning: divide by zero encountered in log\n",
      "  result = getattr(ufunc, method)(*inputs, **kwargs)\n",
      "/Users/cuongwilliams/miniconda3/envs/jh/lib/python3.8/site-packages/pandas/core/arraylike.py:364: RuntimeWarning: divide by zero encountered in log\n",
      "  result = getattr(ufunc, method)(*inputs, **kwargs)\n",
      "/tmp/ipykernel_25631/2643545636.py:15: RuntimeWarning: invalid value encountered in log\n",
      "  l = np.sum(df[\"status\"] * (np.divide(np.subtract(np.log(df[\"time\"]),mu),sigma))-np.log(sigma)) # first sum of l\n",
      "/Users/cuongwilliams/miniconda3/envs/jh/lib/python3.8/site-packages/scipy/optimize/_numdiff.py:576: RuntimeWarning: invalid value encountered in subtract\n",
      "  df = fun(x) - f0\n",
      "/Users/cuongwilliams/miniconda3/envs/jh/lib/python3.8/site-packages/pandas/core/arraylike.py:364: RuntimeWarning: divide by zero encountered in log\n",
      "  result = getattr(ufunc, method)(*inputs, **kwargs)\n",
      "/tmp/ipykernel_25631/2643545636.py:15: RuntimeWarning: invalid value encountered in log\n",
      "  l = np.sum(df[\"status\"] * (np.divide(np.subtract(np.log(df[\"time\"]),mu),sigma))-np.log(sigma)) # first sum of l\n",
      "/Users/cuongwilliams/miniconda3/envs/jh/lib/python3.8/site-packages/pandas/core/arraylike.py:364: RuntimeWarning: divide by zero encountered in log\n",
      "  result = getattr(ufunc, method)(*inputs, **kwargs)\n"
     ]
    },
    {
     "name": "stdout",
     "output_type": "stream",
     "text": [
      "about to train <function regression_weibull at 0x2888ce9d0>\n"
     ]
    },
    {
     "name": "stderr",
     "output_type": "stream",
     "text": [
      "/Users/cuongwilliams/miniconda3/envs/jh/lib/python3.8/site-packages/pandas/core/arraylike.py:364: RuntimeWarning: divide by zero encountered in log\n",
      "  result = getattr(ufunc, method)(*inputs, **kwargs)\n",
      "/Users/cuongwilliams/miniconda3/envs/jh/lib/python3.8/site-packages/pandas/core/arraylike.py:364: RuntimeWarning: divide by zero encountered in log\n",
      "  result = getattr(ufunc, method)(*inputs, **kwargs)\n",
      "/tmp/ipykernel_25631/2643545636.py:15: RuntimeWarning: invalid value encountered in log\n",
      "  l = np.sum(df[\"status\"] * (np.divide(np.subtract(np.log(df[\"time\"]),mu),sigma))-np.log(sigma)) # first sum of l\n",
      "/Users/cuongwilliams/miniconda3/envs/jh/lib/python3.8/site-packages/scipy/optimize/_numdiff.py:576: RuntimeWarning: invalid value encountered in subtract\n",
      "  df = fun(x) - f0\n",
      "/Users/cuongwilliams/miniconda3/envs/jh/lib/python3.8/site-packages/pandas/core/arraylike.py:364: RuntimeWarning: divide by zero encountered in log\n",
      "  result = getattr(ufunc, method)(*inputs, **kwargs)\n",
      "/tmp/ipykernel_25631/2643545636.py:15: RuntimeWarning: invalid value encountered in log\n",
      "  l = np.sum(df[\"status\"] * (np.divide(np.subtract(np.log(df[\"time\"]),mu),sigma))-np.log(sigma)) # first sum of l\n",
      "/Users/cuongwilliams/miniconda3/envs/jh/lib/python3.8/site-packages/pandas/core/arraylike.py:364: RuntimeWarning: divide by zero encountered in log\n",
      "  result = getattr(ufunc, method)(*inputs, **kwargs)\n"
     ]
    },
    {
     "name": "stdout",
     "output_type": "stream",
     "text": [
      "about to train <function regression_weibull at 0x2888ce9d0>\n"
     ]
    },
    {
     "name": "stderr",
     "output_type": "stream",
     "text": [
      "/Users/cuongwilliams/miniconda3/envs/jh/lib/python3.8/site-packages/pandas/core/arraylike.py:364: RuntimeWarning: divide by zero encountered in log\n",
      "  result = getattr(ufunc, method)(*inputs, **kwargs)\n",
      "/Users/cuongwilliams/miniconda3/envs/jh/lib/python3.8/site-packages/pandas/core/arraylike.py:364: RuntimeWarning: divide by zero encountered in log\n",
      "  result = getattr(ufunc, method)(*inputs, **kwargs)\n"
     ]
    },
    {
     "name": "stdout",
     "output_type": "stream",
     "text": [
      "about to train <function regression_weibull at 0x2888ce9d0>\n"
     ]
    },
    {
     "name": "stderr",
     "output_type": "stream",
     "text": [
      "/Users/cuongwilliams/miniconda3/envs/jh/lib/python3.8/site-packages/pandas/core/arraylike.py:364: RuntimeWarning: divide by zero encountered in log\n",
      "  result = getattr(ufunc, method)(*inputs, **kwargs)\n",
      "/Users/cuongwilliams/miniconda3/envs/jh/lib/python3.8/site-packages/pandas/core/arraylike.py:364: RuntimeWarning: divide by zero encountered in log\n",
      "  result = getattr(ufunc, method)(*inputs, **kwargs)\n"
     ]
    },
    {
     "name": "stdout",
     "output_type": "stream",
     "text": [
      "about to train <function regression_weibull at 0x2888ce9d0>\n"
     ]
    },
    {
     "name": "stderr",
     "output_type": "stream",
     "text": [
      "/tmp/ipykernel_25631/2643545636.py:15: RuntimeWarning: invalid value encountered in log\n",
      "  l = np.sum(df[\"status\"] * (np.divide(np.subtract(np.log(df[\"time\"]),mu),sigma))-np.log(sigma)) # first sum of l\n"
     ]
    },
    {
     "name": "stdout",
     "output_type": "stream",
     "text": [
      "c_vals [0.6237307028169377, 0.6242699194042032, 0.642973383766088, 0.6317774725186758, 0.5942128381719178, 0.6396229325893976, 0.6280543334658748, 0.6365370473251359, 0.6205508031224437, 0.6469084094964773]\n",
      "about to train <function deep_hit at 0x2888cedc0>\n",
      "about to train <function deep_hit at 0x2888cedc0>\n",
      "about to train <function deep_hit at 0x2888cedc0>\n",
      "about to train <function deep_hit at 0x2888cedc0>\n",
      "about to train <function deep_hit at 0x2888cedc0>\n",
      "about to train <function deep_hit at 0x2888cedc0>\n",
      "about to train <function deep_hit at 0x2888cedc0>\n",
      "about to train <function deep_hit at 0x2888cedc0>\n",
      "about to train <function deep_hit at 0x2888cedc0>\n",
      "about to train <function deep_hit at 0x2888cedc0>\n",
      "c_vals [0.5999458776835649, 0.5310045143848194, 0.5453183804639434, 0.5565108244237167, 0.5716568789136391, 0.596021700981558, 0.568157331041648, 0.5831939087794116, 0.5137795899731764, 0.5650608294254165]\n",
      "about to train <function deep_weibull at 0x2888eaca0>\n"
     ]
    },
    {
     "name": "stderr",
     "output_type": "stream",
     "text": [
      "/Users/cuongwilliams/miniconda3/envs/jh/lib/python3.8/site-packages/keras/optimizers/legacy/rmsprop.py:143: UserWarning: The `lr` argument is deprecated, use `learning_rate` instead.\n",
      "  super().__init__(name, **kwargs)\n"
     ]
    },
    {
     "name": "stdout",
     "output_type": "stream",
     "text": [
      "1/1 [==============================] - 0s 25ms/step\n",
      "about to train <function deep_weibull at 0x2888eaca0>\n",
      "1/1 [==============================] - 0s 25ms/step\n",
      "about to train <function deep_weibull at 0x2888eaca0>\n",
      "1/1 [==============================] - 0s 25ms/step\n",
      "about to train <function deep_weibull at 0x2888eaca0>\n",
      "1/1 [==============================] - 0s 26ms/step\n",
      "about to train <function deep_weibull at 0x2888eaca0>\n",
      "1/1 [==============================] - 0s 26ms/step\n",
      "about to train <function deep_weibull at 0x2888eaca0>\n",
      "1/1 [==============================] - 0s 26ms/step\n",
      "about to train <function deep_weibull at 0x2888eaca0>\n",
      "1/1 [==============================] - 0s 26ms/step\n",
      "about to train <function deep_weibull at 0x2888eaca0>\n",
      "1/1 [==============================] - 0s 25ms/step\n",
      "about to train <function deep_weibull at 0x2888eaca0>\n",
      "1/1 [==============================] - 0s 25ms/step\n",
      "about to train <function deep_weibull at 0x2888eaca0>\n",
      "1/1 [==============================] - 0s 25ms/step\n",
      "c_vals [0.5431883198886627, 0.5978849979596, 0.49409247901005177, 0.6143456835188903, 0.5126209380293282, 0.5705667581587591, 0.5937335659222964, 0.5491443453575637, 0.560619415714947, 0.5596434830632109]\n",
      "about to train <function regression_weibull at 0x2888ce9d0>\n",
      "about to train <function regression_weibull at 0x2888ce9d0>\n",
      "about to train <function regression_weibull at 0x2888ce9d0>\n"
     ]
    },
    {
     "name": "stderr",
     "output_type": "stream",
     "text": [
      "/tmp/ipykernel_25631/2643545636.py:15: RuntimeWarning: invalid value encountered in log\n",
      "  l = np.sum(df[\"status\"] * (np.divide(np.subtract(np.log(df[\"time\"]),mu),sigma))-np.log(sigma)) # first sum of l\n",
      "/tmp/ipykernel_25631/2643545636.py:15: RuntimeWarning: invalid value encountered in log\n",
      "  l = np.sum(df[\"status\"] * (np.divide(np.subtract(np.log(df[\"time\"]),mu),sigma))-np.log(sigma)) # first sum of l\n",
      "/Users/cuongwilliams/miniconda3/envs/jh/lib/python3.8/site-packages/pandas/core/arraylike.py:364: RuntimeWarning: divide by zero encountered in log\n",
      "  result = getattr(ufunc, method)(*inputs, **kwargs)\n",
      "/Users/cuongwilliams/miniconda3/envs/jh/lib/python3.8/site-packages/pandas/core/arraylike.py:364: RuntimeWarning: divide by zero encountered in log\n",
      "  result = getattr(ufunc, method)(*inputs, **kwargs)\n"
     ]
    },
    {
     "name": "stdout",
     "output_type": "stream",
     "text": [
      "about to train <function regression_weibull at 0x2888ce9d0>\n"
     ]
    },
    {
     "name": "stderr",
     "output_type": "stream",
     "text": [
      "/Users/cuongwilliams/miniconda3/envs/jh/lib/python3.8/site-packages/pandas/core/arraylike.py:364: RuntimeWarning: divide by zero encountered in log\n",
      "  result = getattr(ufunc, method)(*inputs, **kwargs)\n"
     ]
    },
    {
     "name": "stdout",
     "output_type": "stream",
     "text": [
      "about to train <function regression_weibull at 0x2888ce9d0>\n"
     ]
    },
    {
     "name": "stderr",
     "output_type": "stream",
     "text": [
      "/Users/cuongwilliams/miniconda3/envs/jh/lib/python3.8/site-packages/pandas/core/arraylike.py:364: RuntimeWarning: divide by zero encountered in log\n",
      "  result = getattr(ufunc, method)(*inputs, **kwargs)\n"
     ]
    },
    {
     "name": "stdout",
     "output_type": "stream",
     "text": [
      "about to train <function regression_weibull at 0x2888ce9d0>\n"
     ]
    },
    {
     "name": "stderr",
     "output_type": "stream",
     "text": [
      "/Users/cuongwilliams/miniconda3/envs/jh/lib/python3.8/site-packages/pandas/core/arraylike.py:364: RuntimeWarning: divide by zero encountered in log\n",
      "  result = getattr(ufunc, method)(*inputs, **kwargs)\n"
     ]
    },
    {
     "name": "stdout",
     "output_type": "stream",
     "text": [
      "about to train <function regression_weibull at 0x2888ce9d0>\n",
      "about to train <function regression_weibull at 0x2888ce9d0>\n"
     ]
    },
    {
     "name": "stderr",
     "output_type": "stream",
     "text": [
      "/tmp/ipykernel_25631/2643545636.py:15: RuntimeWarning: invalid value encountered in log\n",
      "  l = np.sum(df[\"status\"] * (np.divide(np.subtract(np.log(df[\"time\"]),mu),sigma))-np.log(sigma)) # first sum of l\n"
     ]
    },
    {
     "name": "stdout",
     "output_type": "stream",
     "text": [
      "about to train <function regression_weibull at 0x2888ce9d0>\n"
     ]
    },
    {
     "name": "stderr",
     "output_type": "stream",
     "text": [
      "/Users/cuongwilliams/miniconda3/envs/jh/lib/python3.8/site-packages/pandas/core/arraylike.py:364: RuntimeWarning: divide by zero encountered in log\n",
      "  result = getattr(ufunc, method)(*inputs, **kwargs)\n",
      "/Users/cuongwilliams/miniconda3/envs/jh/lib/python3.8/site-packages/pandas/core/arraylike.py:364: RuntimeWarning: divide by zero encountered in log\n",
      "  result = getattr(ufunc, method)(*inputs, **kwargs)\n"
     ]
    },
    {
     "name": "stdout",
     "output_type": "stream",
     "text": [
      "about to train <function regression_weibull at 0x2888ce9d0>\n"
     ]
    },
    {
     "name": "stderr",
     "output_type": "stream",
     "text": [
      "/Users/cuongwilliams/miniconda3/envs/jh/lib/python3.8/site-packages/pandas/core/arraylike.py:364: RuntimeWarning: divide by zero encountered in log\n",
      "  result = getattr(ufunc, method)(*inputs, **kwargs)\n",
      "/Users/cuongwilliams/miniconda3/envs/jh/lib/python3.8/site-packages/pandas/core/arraylike.py:364: RuntimeWarning: divide by zero encountered in log\n",
      "  result = getattr(ufunc, method)(*inputs, **kwargs)\n"
     ]
    },
    {
     "name": "stdout",
     "output_type": "stream",
     "text": [
      "c_vals [0.6278592708296632, 0.5931748025630154, 0.6293425230691938, 0.6290708480809918, 0.6235566462883486, 0.6267741107226797, 0.6147686727512862, 0.6281953767015871, 0.6380518903831515, 0.6319972288592268]\n",
      "about to train <function deep_hit at 0x2888cedc0>\n",
      "about to train <function deep_hit at 0x2888cedc0>\n",
      "about to train <function deep_hit at 0x2888cedc0>\n",
      "about to train <function deep_hit at 0x2888cedc0>\n",
      "about to train <function deep_hit at 0x2888cedc0>\n",
      "about to train <function deep_hit at 0x2888cedc0>\n",
      "about to train <function deep_hit at 0x2888cedc0>\n",
      "about to train <function deep_hit at 0x2888cedc0>\n",
      "about to train <function deep_hit at 0x2888cedc0>\n",
      "about to train <function deep_hit at 0x2888cedc0>\n",
      "c_vals [0.5726018924135123, 0.534302323277553, 0.4929055605490292, 0.5641824689063334, 0.5555285966007851, 0.5497541032173965, 0.5571132882572098, 0.5065122953390628, 0.5513075678761735, 0.5290162843883218]\n",
      "about to train <function deep_weibull at 0x2888eaca0>\n"
     ]
    },
    {
     "name": "stderr",
     "output_type": "stream",
     "text": [
      "/Users/cuongwilliams/miniconda3/envs/jh/lib/python3.8/site-packages/keras/optimizers/legacy/rmsprop.py:143: UserWarning: The `lr` argument is deprecated, use `learning_rate` instead.\n",
      "  super().__init__(name, **kwargs)\n"
     ]
    },
    {
     "name": "stdout",
     "output_type": "stream",
     "text": [
      "1/1 [==============================] - 0s 26ms/step\n",
      "about to train <function deep_weibull at 0x2888eaca0>\n",
      "1/1 [==============================] - 0s 25ms/step\n",
      "about to train <function deep_weibull at 0x2888eaca0>\n",
      "1/1 [==============================] - 0s 26ms/step\n",
      "about to train <function deep_weibull at 0x2888eaca0>\n",
      "1/1 [==============================] - 0s 25ms/step\n",
      "about to train <function deep_weibull at 0x2888eaca0>\n",
      "1/1 [==============================] - 0s 25ms/step\n",
      "about to train <function deep_weibull at 0x2888eaca0>\n",
      "1/1 [==============================] - 0s 26ms/step\n",
      "about to train <function deep_weibull at 0x2888eaca0>\n",
      "1/1 [==============================] - 0s 25ms/step\n",
      "about to train <function deep_weibull at 0x2888eaca0>\n",
      "1/1 [==============================] - 0s 25ms/step\n",
      "about to train <function deep_weibull at 0x2888eaca0>\n",
      "1/1 [==============================] - 0s 25ms/step\n",
      "about to train <function deep_weibull at 0x2888eaca0>\n",
      "1/1 [==============================] - 0s 25ms/step\n",
      "c_vals [0.5410329586871332, 0.5695695418035418, 0.5043861887062019, 0.6110612382101122, 0.5515987765054035, 0.5485848590784302, 0.5786157818998995, 0.5361450034502226, 0.5655607713778229, 0.5601680004093731]\n",
      "about to train <function regression_weibull at 0x2888ce9d0>\n"
     ]
    },
    {
     "name": "stderr",
     "output_type": "stream",
     "text": [
      "/Users/cuongwilliams/miniconda3/envs/jh/lib/python3.8/site-packages/pandas/core/arraylike.py:364: RuntimeWarning: divide by zero encountered in log\n",
      "  result = getattr(ufunc, method)(*inputs, **kwargs)\n"
     ]
    },
    {
     "name": "stdout",
     "output_type": "stream",
     "text": [
      "about to train <function regression_weibull at 0x2888ce9d0>\n"
     ]
    },
    {
     "name": "stderr",
     "output_type": "stream",
     "text": [
      "/tmp/ipykernel_25631/2643545636.py:15: RuntimeWarning: invalid value encountered in log\n",
      "  l = np.sum(df[\"status\"] * (np.divide(np.subtract(np.log(df[\"time\"]),mu),sigma))-np.log(sigma)) # first sum of l\n"
     ]
    },
    {
     "name": "stdout",
     "output_type": "stream",
     "text": [
      "about to train <function regression_weibull at 0x2888ce9d0>\n",
      "about to train <function regression_weibull at 0x2888ce9d0>\n"
     ]
    },
    {
     "name": "stderr",
     "output_type": "stream",
     "text": [
      "/Users/cuongwilliams/miniconda3/envs/jh/lib/python3.8/site-packages/pandas/core/arraylike.py:364: RuntimeWarning: divide by zero encountered in log\n",
      "  result = getattr(ufunc, method)(*inputs, **kwargs)\n",
      "/Users/cuongwilliams/miniconda3/envs/jh/lib/python3.8/site-packages/pandas/core/arraylike.py:364: RuntimeWarning: divide by zero encountered in log\n",
      "  result = getattr(ufunc, method)(*inputs, **kwargs)\n",
      "/tmp/ipykernel_25631/2643545636.py:15: RuntimeWarning: invalid value encountered in log\n",
      "  l = np.sum(df[\"status\"] * (np.divide(np.subtract(np.log(df[\"time\"]),mu),sigma))-np.log(sigma)) # first sum of l\n",
      "/Users/cuongwilliams/miniconda3/envs/jh/lib/python3.8/site-packages/scipy/optimize/_numdiff.py:576: RuntimeWarning: invalid value encountered in subtract\n",
      "  df = fun(x) - f0\n",
      "/Users/cuongwilliams/miniconda3/envs/jh/lib/python3.8/site-packages/pandas/core/arraylike.py:364: RuntimeWarning: divide by zero encountered in log\n",
      "  result = getattr(ufunc, method)(*inputs, **kwargs)\n",
      "/tmp/ipykernel_25631/2643545636.py:15: RuntimeWarning: invalid value encountered in log\n",
      "  l = np.sum(df[\"status\"] * (np.divide(np.subtract(np.log(df[\"time\"]),mu),sigma))-np.log(sigma)) # first sum of l\n",
      "/Users/cuongwilliams/miniconda3/envs/jh/lib/python3.8/site-packages/pandas/core/arraylike.py:364: RuntimeWarning: divide by zero encountered in log\n",
      "  result = getattr(ufunc, method)(*inputs, **kwargs)\n"
     ]
    },
    {
     "name": "stdout",
     "output_type": "stream",
     "text": [
      "about to train <function regression_weibull at 0x2888ce9d0>\n",
      "about to train <function regression_weibull at 0x2888ce9d0>\n"
     ]
    },
    {
     "name": "stderr",
     "output_type": "stream",
     "text": [
      "/tmp/ipykernel_25631/2643545636.py:15: RuntimeWarning: invalid value encountered in log\n",
      "  l = np.sum(df[\"status\"] * (np.divide(np.subtract(np.log(df[\"time\"]),mu),sigma))-np.log(sigma)) # first sum of l\n",
      "/Users/cuongwilliams/miniconda3/envs/jh/lib/python3.8/site-packages/pandas/core/arraylike.py:364: RuntimeWarning: overflow encountered in exp\n",
      "  result = getattr(ufunc, method)(*inputs, **kwargs)\n",
      "/Users/cuongwilliams/miniconda3/envs/jh/lib/python3.8/site-packages/scipy/optimize/_numdiff.py:576: RuntimeWarning: invalid value encountered in subtract\n",
      "  df = fun(x) - f0\n",
      "/tmp/ipykernel_25631/2643545636.py:15: RuntimeWarning: invalid value encountered in log\n",
      "  l = np.sum(df[\"status\"] * (np.divide(np.subtract(np.log(df[\"time\"]),mu),sigma))-np.log(sigma)) # first sum of l\n",
      "/Users/cuongwilliams/miniconda3/envs/jh/lib/python3.8/site-packages/pandas/core/arraylike.py:364: RuntimeWarning: overflow encountered in exp\n",
      "  result = getattr(ufunc, method)(*inputs, **kwargs)\n"
     ]
    },
    {
     "name": "stdout",
     "output_type": "stream",
     "text": [
      "about to train <function regression_weibull at 0x2888ce9d0>\n"
     ]
    },
    {
     "name": "stderr",
     "output_type": "stream",
     "text": [
      "/Users/cuongwilliams/miniconda3/envs/jh/lib/python3.8/site-packages/pandas/core/arraylike.py:364: RuntimeWarning: divide by zero encountered in log\n",
      "  result = getattr(ufunc, method)(*inputs, **kwargs)\n",
      "/Users/cuongwilliams/miniconda3/envs/jh/lib/python3.8/site-packages/pandas/core/arraylike.py:364: RuntimeWarning: divide by zero encountered in log\n",
      "  result = getattr(ufunc, method)(*inputs, **kwargs)\n",
      "/tmp/ipykernel_25631/2643545636.py:15: RuntimeWarning: invalid value encountered in log\n",
      "  l = np.sum(df[\"status\"] * (np.divide(np.subtract(np.log(df[\"time\"]),mu),sigma))-np.log(sigma)) # first sum of l\n",
      "/Users/cuongwilliams/miniconda3/envs/jh/lib/python3.8/site-packages/scipy/optimize/_numdiff.py:576: RuntimeWarning: invalid value encountered in subtract\n",
      "  df = fun(x) - f0\n",
      "/Users/cuongwilliams/miniconda3/envs/jh/lib/python3.8/site-packages/pandas/core/arraylike.py:364: RuntimeWarning: divide by zero encountered in log\n",
      "  result = getattr(ufunc, method)(*inputs, **kwargs)\n",
      "/tmp/ipykernel_25631/2643545636.py:15: RuntimeWarning: invalid value encountered in log\n",
      "  l = np.sum(df[\"status\"] * (np.divide(np.subtract(np.log(df[\"time\"]),mu),sigma))-np.log(sigma)) # first sum of l\n",
      "/Users/cuongwilliams/miniconda3/envs/jh/lib/python3.8/site-packages/pandas/core/arraylike.py:364: RuntimeWarning: divide by zero encountered in log\n",
      "  result = getattr(ufunc, method)(*inputs, **kwargs)\n"
     ]
    },
    {
     "name": "stdout",
     "output_type": "stream",
     "text": [
      "about to train <function regression_weibull at 0x2888ce9d0>\n",
      "about to train <function regression_weibull at 0x2888ce9d0>\n"
     ]
    },
    {
     "name": "stderr",
     "output_type": "stream",
     "text": [
      "/Users/cuongwilliams/miniconda3/envs/jh/lib/python3.8/site-packages/pandas/core/arraylike.py:364: RuntimeWarning: divide by zero encountered in log\n",
      "  result = getattr(ufunc, method)(*inputs, **kwargs)\n",
      "/Users/cuongwilliams/miniconda3/envs/jh/lib/python3.8/site-packages/pandas/core/arraylike.py:364: RuntimeWarning: divide by zero encountered in log\n",
      "  result = getattr(ufunc, method)(*inputs, **kwargs)\n"
     ]
    },
    {
     "name": "stdout",
     "output_type": "stream",
     "text": [
      "about to train <function regression_weibull at 0x2888ce9d0>\n"
     ]
    },
    {
     "name": "stderr",
     "output_type": "stream",
     "text": [
      "/Users/cuongwilliams/miniconda3/envs/jh/lib/python3.8/site-packages/pandas/core/arraylike.py:364: RuntimeWarning: divide by zero encountered in log\n",
      "  result = getattr(ufunc, method)(*inputs, **kwargs)\n",
      "/Users/cuongwilliams/miniconda3/envs/jh/lib/python3.8/site-packages/pandas/core/arraylike.py:364: RuntimeWarning: divide by zero encountered in log\n",
      "  result = getattr(ufunc, method)(*inputs, **kwargs)\n",
      "/tmp/ipykernel_25631/2643545636.py:15: RuntimeWarning: invalid value encountered in log\n",
      "  l = np.sum(df[\"status\"] * (np.divide(np.subtract(np.log(df[\"time\"]),mu),sigma))-np.log(sigma)) # first sum of l\n",
      "/Users/cuongwilliams/miniconda3/envs/jh/lib/python3.8/site-packages/pandas/core/arraylike.py:364: RuntimeWarning: overflow encountered in exp\n",
      "  result = getattr(ufunc, method)(*inputs, **kwargs)\n",
      "/Users/cuongwilliams/miniconda3/envs/jh/lib/python3.8/site-packages/scipy/optimize/_numdiff.py:576: RuntimeWarning: invalid value encountered in subtract\n",
      "  df = fun(x) - f0\n",
      "/Users/cuongwilliams/miniconda3/envs/jh/lib/python3.8/site-packages/pandas/core/arraylike.py:364: RuntimeWarning: divide by zero encountered in log\n",
      "  result = getattr(ufunc, method)(*inputs, **kwargs)\n",
      "/tmp/ipykernel_25631/2643545636.py:15: RuntimeWarning: invalid value encountered in log\n",
      "  l = np.sum(df[\"status\"] * (np.divide(np.subtract(np.log(df[\"time\"]),mu),sigma))-np.log(sigma)) # first sum of l\n",
      "/Users/cuongwilliams/miniconda3/envs/jh/lib/python3.8/site-packages/pandas/core/arraylike.py:364: RuntimeWarning: overflow encountered in exp\n",
      "  result = getattr(ufunc, method)(*inputs, **kwargs)\n",
      "/Users/cuongwilliams/miniconda3/envs/jh/lib/python3.8/site-packages/pandas/core/arraylike.py:364: RuntimeWarning: divide by zero encountered in log\n",
      "  result = getattr(ufunc, method)(*inputs, **kwargs)\n"
     ]
    },
    {
     "name": "stdout",
     "output_type": "stream",
     "text": [
      "c_vals [0.6478264566566797, 0.6459607984970414, 0.6338420390970514, 0.6491407426616531, 0.619557570153574, 0.6256279646938735, 0.6211712584248457, 0.6183102322768328, 0.6328338646655071, 0.6388031370708086]\n",
      "about to train <function deep_hit at 0x2888cedc0>\n",
      "about to train <function deep_hit at 0x2888cedc0>\n",
      "about to train <function deep_hit at 0x2888cedc0>\n",
      "about to train <function deep_hit at 0x2888cedc0>\n",
      "about to train <function deep_hit at 0x2888cedc0>\n",
      "about to train <function deep_hit at 0x2888cedc0>\n",
      "about to train <function deep_hit at 0x2888cedc0>\n",
      "about to train <function deep_hit at 0x2888cedc0>\n",
      "about to train <function deep_hit at 0x2888cedc0>\n",
      "about to train <function deep_hit at 0x2888cedc0>\n",
      "c_vals [0.5329045101462033, 0.6356028411545456, 0.5981408114917083, 0.5518945552108996, 0.574465305137895, 0.6321127634449493, 0.5573634516909293, 0.47177639043701236, 0.565674134881177, 0.5902775297353288]\n",
      "about to train <function deep_weibull at 0x2888eaca0>\n"
     ]
    },
    {
     "name": "stderr",
     "output_type": "stream",
     "text": [
      "/Users/cuongwilliams/miniconda3/envs/jh/lib/python3.8/site-packages/keras/optimizers/legacy/rmsprop.py:143: UserWarning: The `lr` argument is deprecated, use `learning_rate` instead.\n",
      "  super().__init__(name, **kwargs)\n"
     ]
    },
    {
     "name": "stdout",
     "output_type": "stream",
     "text": [
      "1/1 [==============================] - 0s 25ms/step\n",
      "about to train <function deep_weibull at 0x2888eaca0>\n",
      "1/1 [==============================] - 0s 25ms/step\n",
      "about to train <function deep_weibull at 0x2888eaca0>\n",
      "1/1 [==============================] - 0s 25ms/step\n",
      "about to train <function deep_weibull at 0x2888eaca0>\n",
      "1/1 [==============================] - 0s 25ms/step\n",
      "about to train <function deep_weibull at 0x2888eaca0>\n",
      "1/1 [==============================] - 0s 26ms/step\n",
      "about to train <function deep_weibull at 0x2888eaca0>\n",
      "1/1 [==============================] - 0s 25ms/step\n",
      "about to train <function deep_weibull at 0x2888eaca0>\n",
      "1/1 [==============================] - 0s 25ms/step\n",
      "about to train <function deep_weibull at 0x2888eaca0>\n",
      "1/1 [==============================] - 0s 26ms/step\n",
      "about to train <function deep_weibull at 0x2888eaca0>\n",
      "1/1 [==============================] - 0s 25ms/step\n",
      "about to train <function deep_weibull at 0x2888eaca0>\n",
      "1/1 [==============================] - 0s 25ms/step\n",
      "c_vals [0.5318141121509351, 0.5784884012980098, 0.5004683031398849, 0.6078983852145899, 0.4975225134678781, 0.5624562176010247, 0.603678373290818, 0.5283785607533626, 0.5739767133614849, 0.5458901208802984]\n",
      "about to train <function regression_weibull at 0x2888ce9d0>\n",
      "about to train <function regression_weibull at 0x2888ce9d0>\n",
      "about to train <function regression_weibull at 0x2888ce9d0>\n"
     ]
    },
    {
     "name": "stderr",
     "output_type": "stream",
     "text": [
      "/tmp/ipykernel_25631/2643545636.py:15: RuntimeWarning: invalid value encountered in log\n",
      "  l = np.sum(df[\"status\"] * (np.divide(np.subtract(np.log(df[\"time\"]),mu),sigma))-np.log(sigma)) # first sum of l\n"
     ]
    },
    {
     "name": "stdout",
     "output_type": "stream",
     "text": [
      "about to train <function regression_weibull at 0x2888ce9d0>\n"
     ]
    },
    {
     "name": "stderr",
     "output_type": "stream",
     "text": [
      "/Users/cuongwilliams/miniconda3/envs/jh/lib/python3.8/site-packages/pandas/core/arraylike.py:364: RuntimeWarning: divide by zero encountered in log\n",
      "  result = getattr(ufunc, method)(*inputs, **kwargs)\n",
      "/Users/cuongwilliams/miniconda3/envs/jh/lib/python3.8/site-packages/pandas/core/arraylike.py:364: RuntimeWarning: divide by zero encountered in log\n",
      "  result = getattr(ufunc, method)(*inputs, **kwargs)\n",
      "/Users/cuongwilliams/miniconda3/envs/jh/lib/python3.8/site-packages/pandas/core/arraylike.py:364: RuntimeWarning: divide by zero encountered in log\n",
      "  result = getattr(ufunc, method)(*inputs, **kwargs)\n",
      "/Users/cuongwilliams/miniconda3/envs/jh/lib/python3.8/site-packages/pandas/core/arraylike.py:364: RuntimeWarning: divide by zero encountered in log\n",
      "  result = getattr(ufunc, method)(*inputs, **kwargs)\n",
      "/Users/cuongwilliams/miniconda3/envs/jh/lib/python3.8/site-packages/pandas/core/arraylike.py:364: RuntimeWarning: divide by zero encountered in log\n",
      "  result = getattr(ufunc, method)(*inputs, **kwargs)\n",
      "/tmp/ipykernel_25631/2643545636.py:15: RuntimeWarning: invalid value encountered in log\n",
      "  l = np.sum(df[\"status\"] * (np.divide(np.subtract(np.log(df[\"time\"]),mu),sigma))-np.log(sigma)) # first sum of l\n",
      "/Users/cuongwilliams/miniconda3/envs/jh/lib/python3.8/site-packages/scipy/optimize/_numdiff.py:576: RuntimeWarning: invalid value encountered in subtract\n",
      "  df = fun(x) - f0\n",
      "/Users/cuongwilliams/miniconda3/envs/jh/lib/python3.8/site-packages/pandas/core/arraylike.py:364: RuntimeWarning: divide by zero encountered in log\n",
      "  result = getattr(ufunc, method)(*inputs, **kwargs)\n",
      "/tmp/ipykernel_25631/2643545636.py:15: RuntimeWarning: invalid value encountered in log\n",
      "  l = np.sum(df[\"status\"] * (np.divide(np.subtract(np.log(df[\"time\"]),mu),sigma))-np.log(sigma)) # first sum of l\n",
      "/Users/cuongwilliams/miniconda3/envs/jh/lib/python3.8/site-packages/pandas/core/arraylike.py:364: RuntimeWarning: divide by zero encountered in log\n",
      "  result = getattr(ufunc, method)(*inputs, **kwargs)\n"
     ]
    },
    {
     "name": "stdout",
     "output_type": "stream",
     "text": [
      "about to train <function regression_weibull at 0x2888ce9d0>\n",
      "about to train <function regression_weibull at 0x2888ce9d0>\n"
     ]
    },
    {
     "name": "stderr",
     "output_type": "stream",
     "text": [
      "/Users/cuongwilliams/miniconda3/envs/jh/lib/python3.8/site-packages/pandas/core/arraylike.py:364: RuntimeWarning: divide by zero encountered in log\n",
      "  result = getattr(ufunc, method)(*inputs, **kwargs)\n",
      "/tmp/ipykernel_25631/2643545636.py:15: RuntimeWarning: invalid value encountered in log\n",
      "  l = np.sum(df[\"status\"] * (np.divide(np.subtract(np.log(df[\"time\"]),mu),sigma))-np.log(sigma)) # first sum of l\n",
      "/Users/cuongwilliams/miniconda3/envs/jh/lib/python3.8/site-packages/scipy/optimize/_numdiff.py:576: RuntimeWarning: invalid value encountered in subtract\n",
      "  df = fun(x) - f0\n",
      "/Users/cuongwilliams/miniconda3/envs/jh/lib/python3.8/site-packages/pandas/core/arraylike.py:364: RuntimeWarning: divide by zero encountered in log\n",
      "  result = getattr(ufunc, method)(*inputs, **kwargs)\n",
      "/tmp/ipykernel_25631/2643545636.py:15: RuntimeWarning: invalid value encountered in log\n",
      "  l = np.sum(df[\"status\"] * (np.divide(np.subtract(np.log(df[\"time\"]),mu),sigma))-np.log(sigma)) # first sum of l\n",
      "/Users/cuongwilliams/miniconda3/envs/jh/lib/python3.8/site-packages/pandas/core/arraylike.py:364: RuntimeWarning: divide by zero encountered in log\n",
      "  result = getattr(ufunc, method)(*inputs, **kwargs)\n"
     ]
    },
    {
     "name": "stdout",
     "output_type": "stream",
     "text": [
      "about to train <function regression_weibull at 0x2888ce9d0>\n",
      "about to train <function regression_weibull at 0x2888ce9d0>\n"
     ]
    },
    {
     "name": "stderr",
     "output_type": "stream",
     "text": [
      "/Users/cuongwilliams/miniconda3/envs/jh/lib/python3.8/site-packages/pandas/core/arraylike.py:364: RuntimeWarning: divide by zero encountered in log\n",
      "  result = getattr(ufunc, method)(*inputs, **kwargs)\n",
      "/Users/cuongwilliams/miniconda3/envs/jh/lib/python3.8/site-packages/pandas/core/arraylike.py:364: RuntimeWarning: divide by zero encountered in log\n",
      "  result = getattr(ufunc, method)(*inputs, **kwargs)\n"
     ]
    },
    {
     "name": "stdout",
     "output_type": "stream",
     "text": [
      "about to train <function regression_weibull at 0x2888ce9d0>\n",
      "about to train <function regression_weibull at 0x2888ce9d0>\n",
      "c_vals [0.6229100959193627, 0.6330201568256723, 0.6652505213103892, 0.6200173734708406, 0.6207263826409103, 0.6290800609617692, 0.6222678364509188, 0.620522699212008, 0.6136923067086932, 0.6411282880291237]\n",
      "about to train <function deep_hit at 0x2888cedc0>\n",
      "about to train <function deep_hit at 0x2888cedc0>\n",
      "about to train <function deep_hit at 0x2888cedc0>\n",
      "about to train <function deep_hit at 0x2888cedc0>\n",
      "about to train <function deep_hit at 0x2888cedc0>\n",
      "about to train <function deep_hit at 0x2888cedc0>\n",
      "about to train <function deep_hit at 0x2888cedc0>\n",
      "about to train <function deep_hit at 0x2888cedc0>\n",
      "about to train <function deep_hit at 0x2888cedc0>\n",
      "about to train <function deep_hit at 0x2888cedc0>\n",
      "c_vals [0.595773045033328, 0.5103115145785715, 0.5756890716452621, 0.5889998497782597, 0.596282085207727, 0.588780440351503, 0.5219202118854495, 0.5907354376620102, 0.6283717688879796, 0.5579259560980887]\n",
      "about to train <function deep_weibull at 0x2888eaca0>\n"
     ]
    },
    {
     "name": "stderr",
     "output_type": "stream",
     "text": [
      "/Users/cuongwilliams/miniconda3/envs/jh/lib/python3.8/site-packages/keras/optimizers/legacy/rmsprop.py:143: UserWarning: The `lr` argument is deprecated, use `learning_rate` instead.\n",
      "  super().__init__(name, **kwargs)\n"
     ]
    },
    {
     "name": "stdout",
     "output_type": "stream",
     "text": [
      "1/1 [==============================] - 0s 25ms/step\n",
      "about to train <function deep_weibull at 0x2888eaca0>\n",
      "1/1 [==============================] - 0s 25ms/step\n",
      "about to train <function deep_weibull at 0x2888eaca0>\n",
      "1/1 [==============================] - 0s 25ms/step\n",
      "about to train <function deep_weibull at 0x2888eaca0>\n",
      "1/1 [==============================] - 0s 25ms/step\n",
      "about to train <function deep_weibull at 0x2888eaca0>\n",
      "1/1 [==============================] - 0s 26ms/step\n",
      "about to train <function deep_weibull at 0x2888eaca0>\n",
      "1/1 [==============================] - 0s 25ms/step\n",
      "about to train <function deep_weibull at 0x2888eaca0>\n",
      "1/1 [==============================] - 0s 25ms/step\n",
      "about to train <function deep_weibull at 0x2888eaca0>\n",
      "1/1 [==============================] - 0s 25ms/step\n",
      "about to train <function deep_weibull at 0x2888eaca0>\n",
      "1/1 [==============================] - 0s 25ms/step\n",
      "about to train <function deep_weibull at 0x2888eaca0>\n",
      "1/1 [==============================] - 0s 25ms/step\n",
      "c_vals [0.5544724435051211, 0.5603183133793925, 0.5127095797686096, 0.5963541836754688, 0.5441386610214343, 0.5510360258114725, 0.6001324284058931, 0.5463001868168096, 0.5627425531778861, 0.5331491888520459]\n"
     ]
    }
   ],
   "source": [
    "\n",
    "def c_index(ev):\n",
    "\n",
    "    return ev.concordance_td('antolini')\n",
    "\n",
    "models=[\"regression_weibull\",\"deep_hit\",\"deep_weibull\"]\n",
    "#models=[\"deep_weibull\"]\n",
    "all_splits = [1,2,3,4,5,6,7,8,9,10]\n",
    "\n",
    "results_df = pd.DataFrame()\n",
    "#for train_frac in np.arange(0.60, 0.70, 0.05).tolist():\n",
    "for train_frac in np.arange(0.05, 0.70, 0.05).tolist():\n",
    "\n",
    "    df = metabric.read_df() # read in dataset\n",
    "    df = normalise(df, ['x0', 'x1', 'x2', 'x3', 'x8']) # normalise cols where appropriate\n",
    "    df.rename(columns={\"duration\": \"time\", \"event\": \"status\"}, inplace=True) # rename duration/event cols\n",
    "    make_train_test(df, train_frac=train_frac, dataset=\"metabric_temp\", n_splits=10) # make train/test splits\n",
    "\n",
    "    for model in models:\n",
    "\n",
    "        c_vals = [None] * len(all_splits) #10\n",
    "\n",
    "        for split in all_splits:\n",
    "\n",
    "            # run the model\n",
    "            f_model = globals()[model]\n",
    "            print(\"about to train\", f_model)\n",
    "            #gw result = f_model(\"metabric_temp\", split)\n",
    "            if model==\"deep_weibull\":\n",
    "                result = deep_weibull(\"metabric_temp\", split)\n",
    "            elif model==\"regression_weibull\":\n",
    "                result = regression_weibull(\"metabric_temp\", split)\n",
    "            elif model==\"deep_hit\":\n",
    "                result = deep_hit(\"metabric_temp\", split)\n",
    "            \n",
    "            # get evaluation object\n",
    "            ev = result[\"ev\"]\n",
    "            # compute c index\n",
    "            c_vals[split-1] = c_index(ev)\n",
    "\n",
    "        print(\"c_vals\",c_vals)\n",
    "        c = np.mean(c_vals)\n",
    "        c = round(c, ndigits=3)\n",
    "\n",
    "        new_row = {'train_frac':train_frac, 'model':model, 'mean_c':c}\n",
    "        results_df = results_df.append(new_row, ignore_index=True)\n",
    "\n",
    "\n"
   ]
  },
  {
   "cell_type": "code",
   "execution_count": 9,
   "id": "10643953-a016-4c50-8d8d-b67418db128b",
   "metadata": {
    "tags": []
   },
   "outputs": [
    {
     "name": "stdout",
     "output_type": "stream",
     "text": [
      "    train_frac               model  mean_c\n",
      "0         0.05  regression_weibull   0.606\n",
      "1         0.05            deep_hit   0.510\n",
      "2         0.05        deep_weibull   0.525\n",
      "3         0.10  regression_weibull   0.619\n",
      "4         0.10            deep_hit   0.500\n",
      "5         0.10        deep_weibull   0.533\n",
      "6         0.15  regression_weibull   0.619\n",
      "7         0.15            deep_hit   0.516\n",
      "8         0.15        deep_weibull   0.547\n",
      "9         0.20  regression_weibull   0.628\n",
      "10        0.20            deep_hit   0.500\n",
      "11        0.20        deep_weibull   0.544\n",
      "12        0.25  regression_weibull   0.628\n",
      "13        0.25            deep_hit   0.528\n",
      "14        0.25        deep_weibull   0.552\n",
      "15        0.30  regression_weibull   0.624\n",
      "16        0.30            deep_hit   0.524\n",
      "17        0.30        deep_weibull   0.554\n",
      "18        0.35  regression_weibull   0.625\n",
      "19        0.35            deep_hit   0.551\n",
      "20        0.35        deep_weibull   0.554\n",
      "21        0.40  regression_weibull   0.635\n",
      "22        0.40            deep_hit   0.539\n",
      "23        0.40        deep_weibull   0.554\n",
      "24        0.45  regression_weibull   0.627\n",
      "25        0.45            deep_hit   0.564\n",
      "26        0.45        deep_weibull   0.554\n",
      "27        0.50  regression_weibull   0.629\n",
      "28        0.50            deep_hit   0.563\n",
      "29        0.50        deep_weibull   0.560\n",
      "30        0.55  regression_weibull   0.624\n",
      "31        0.55            deep_hit   0.541\n",
      "32        0.55        deep_weibull   0.557\n",
      "33        0.60  regression_weibull   0.633\n",
      "34        0.60            deep_hit   0.571\n",
      "35        0.60        deep_weibull   0.553\n",
      "36        0.65  regression_weibull   0.629\n",
      "37        0.65            deep_hit   0.575\n",
      "38        0.65        deep_weibull   0.556\n"
     ]
    }
   ],
   "source": [
    "print(results_df)"
   ]
  },
  {
   "cell_type": "code",
   "execution_count": 10,
   "id": "89fa4f29-dfef-454f-b4e5-95e26d62fd12",
   "metadata": {
    "tags": []
   },
   "outputs": [
    {
     "name": "stderr",
     "output_type": "stream",
     "text": [
      "/tmp/ipykernel_25631/3323902851.py:16: UserWarning: You have mixed positional and keyword arguments, some input may be discarded.\n",
      "  ax.legend([l1, l3, l3],     # The line objects\n"
     ]
    },
    {
     "data": {
      "text/plain": [
       "Text(0, 0.5, '$c$-index')"
      ]
     },
     "execution_count": 10,
     "metadata": {},
     "output_type": "execute_result"
    },
    {
     "data": {
      "image/png": "[encoded data removed]",
      "text/plain": [
       "<Figure size 640x480 with 1 Axes>"
      ]
     },
     "metadata": {},
     "output_type": "display_data"
    }
   ],
   "source": [
    "\n",
    "##results_df.to_csv(\"metabric_size_results.csv\")\n",
    "\n",
    "\n",
    "\n",
    "fig = plt.figure()\n",
    "ax = plt.axes()\n",
    "\n",
    "results_rw = results_df[results_df[\"model\"]==\"regression_weibull\"]\n",
    "results_dw = results_df[results_df[\"model\"]==\"deep_weibull\"]\n",
    "results_dh = results_df[results_df[\"model\"]==\"deep_hit\"]\n",
    "\n",
    "l1 = ax.plot(results_rw[\"train_frac\"], results_rw[\"mean_c\"], color=\"blue\")[0]\n",
    "l2 = ax.plot(results_dw[\"train_frac\"], results_dw[\"mean_c\"], color=\"orange\")[0]\n",
    "l3 = ax.plot(results_dh[\"train_frac\"], results_dh[\"mean_c\"], color=\"green\")[0]\n",
    "\n",
    "ax.legend([l1, l3, l3],     # The line objects\n",
    "#ax.legend([l2],     # The line objects\n",
    "           labels=[\"RegressionWeibull\",\"DeepWeibull\",\"DeepHit\"]  # The labels for each line\n",
    "          #labels=[\"DeepWeibull\"] \n",
    "           )\n",
    "\n",
    "plt.xlabel('Proportion of individuals in training set (%)')\n",
    "plt.ylabel(r'$c$'+\"-index\")\n",
    "\n",
    "#plot_file_path = \"plots/real_data_experiments/metabric_training_size.pdf\"\n",
    "#plt.savefig(plot_file_path)"
   ]
  },
  {
   "cell_type": "code",
   "execution_count": null,
   "id": "916c97c3-5993-4a79-a353-3d62ef46949d",
   "metadata": {},
   "outputs": [],
   "source": []
  }
 ],
 "metadata": {
  "kernelspec": {
   "display_name": "Python 3 (ipykernel)",
   "language": "python",
   "name": "python3"
  },
  "language_info": {
   "codemirror_mode": {
    "name": "ipython",
    "version": 3
   },
   "file_extension": ".py",
   "mimetype": "text/x-python",
   "name": "python",
   "nbconvert_exporter": "python",
   "pygments_lexer": "ipython3",
   "version": "3.8.16"
  }
 },
 "nbformat": 4,
 "nbformat_minor": 5
}
